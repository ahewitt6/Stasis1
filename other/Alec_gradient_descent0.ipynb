{
 "cells": [
  {
   "cell_type": "code",
   "execution_count": 1,
   "id": "89012fbd",
   "metadata": {},
   "outputs": [],
   "source": [
    "import time\n",
    "import numpy as np\n",
    "import types\n",
    "import os\n",
    "from scipy.integrate import solve_ivp\n",
    "from scipy.interpolate import interp1d\n",
    "from scipy.special import zeta\n",
    "import PRyM.PRyM_init as PRyMini\n",
    "import PRyM.PRyM_thermo as PRyMthermo\n",
    "import PRyM.test_main3 as test_main\n",
    "#import PRyM.PRyM_jl_sys as PRyMjl\n",
    "from numdifftools import Derivative\n",
    "import PRyM.PRyM_eval_nTOp as PRyMevalnTOp\n",
    "import PRyM.PRyM_nTOp as PRyMnTOp\n",
    "import matplotlib.pyplot as plt\n",
    "import pandas as pd\n",
    "import random"
   ]
  },
  {
   "cell_type": "code",
   "execution_count": 78,
   "id": "1dfb4c8b",
   "metadata": {},
   "outputs": [
    {
     "data": {
      "text/plain": [
       "\"params = [7.58363205, 2.91918682, 1.12641116, 0.03422378, 0.77294929, 4.11649565, 4.        ]\\nparams = [ 6.01481611,  1.37305974  2.51980166  0.79767413  0.66060306  6.15616\\n 12.        ]\\nPRyMini.compute_bckg_flag = True\\nPRyMini.save_bckg_flag = False\\nPRyMini.stasis_flag = True\\nPRyMini.verbose_flag = False\\nPRyMini.stasis_params['gamma'] = params[0]\\nPRyMini.stasis_params['delta'] = params[1]\\n#PRyMini.stasis_params['alpha'] = params[2]\\nPRyMini.stasis_params['alpha'] = (2/7)*PRyMini.stasis_params['gamma'] - (1/PRyMini.stasis_params['delta'])\\nPRyMini.stasis_params['Delta_m'] = params[2]\\nPRyMini.stasis_params['m0'] = params[2]\\nPRyMini.stasis_params['plasma_inject_frac'] = params[3]\\nPRyMini.stasis_params['tiny_radiation'] = params[4]\\nPRyMini.stasis_params['stasis_end_mev'] = params[5]\\nPRyMini.stasis_params['N_SPECIES'] = int(params[6])\\n#print(PRyMini.stasis_params)\\n#predictions = model(params)\\n#residuals = (predictions - X_obs) / errors\\n#sum(((X_th-X_obs)/sigma_X)**2)\\n#calculate theoretical values\\nresults = test_main.PRyMclass().PRyMresults()\\nNeff, Omeganurel, OneOverOmeganunr, YPCMB, YPBBN, DoHx1e5, He3oHx1e5, Li7oHx1e10 = results\""
      ]
     },
     "execution_count": 78,
     "metadata": {},
     "output_type": "execute_result"
    }
   ],
   "source": [
    "#test\n",
    "'''params = [7.58363205, 2.91918682, 1.12641116, 0.03422378, 0.77294929, 4.11649565, 4.        ]\n",
    "params = [ 6.01481611,  1.37305974  2.51980166  0.79767413  0.66060306  6.15616\n",
    " 12.        ]\n",
    "PRyMini.compute_bckg_flag = True\n",
    "PRyMini.save_bckg_flag = False\n",
    "PRyMini.stasis_flag = True\n",
    "PRyMini.verbose_flag = False\n",
    "PRyMini.stasis_params['gamma'] = params[0]\n",
    "PRyMini.stasis_params['delta'] = params[1]\n",
    "#PRyMini.stasis_params['alpha'] = params[2]\n",
    "PRyMini.stasis_params['alpha'] = (2/7)*PRyMini.stasis_params['gamma'] - (1/PRyMini.stasis_params['delta'])\n",
    "PRyMini.stasis_params['Delta_m'] = params[2]\n",
    "PRyMini.stasis_params['m0'] = params[2]\n",
    "PRyMini.stasis_params['plasma_inject_frac'] = params[3]\n",
    "PRyMini.stasis_params['tiny_radiation'] = params[4]\n",
    "PRyMini.stasis_params['stasis_end_mev'] = params[5]\n",
    "PRyMini.stasis_params['N_SPECIES'] = int(params[6])\n",
    "#print(PRyMini.stasis_params)\n",
    "#predictions = model(params)\n",
    "#residuals = (predictions - X_obs) / errors\n",
    "#sum(((X_th-X_obs)/sigma_X)**2)\n",
    "#calculate theoretical values\n",
    "results = test_main.PRyMclass().PRyMresults()\n",
    "Neff, Omeganurel, OneOverOmeganunr, YPCMB, YPBBN, DoHx1e5, He3oHx1e5, Li7oHx1e10 = results'''"
   ]
  },
  {
   "cell_type": "code",
   "execution_count": 4,
   "id": "6131e6e6",
   "metadata": {},
   "outputs": [],
   "source": [
    "#observed values, all wrong currently, for testing purposes\n",
    "#Neff_obs, Omeganurel_obs, OneOverOmeganunr_obs, YPCMB_obs, YPBBN_obs, DoHx1e5_obs, He3oHx1e5_obs, Li7oHx1e10_obs = np.array([3.04439907, 5.69942692, 93.03336616, 0.24552507, 0.24685084, 2.5276775, 1.04572838, 5.27256451])\n",
    "#Yp, Omega_B h^2, Neff\n",
    "#YPCMB_obs, OmegaB_obs, Neff_obs, DoHx1e5_obs, Li7oHx1e10_obs\n",
    "YPCMB_obs, Neff_obs, DoHx1e5_obs, Li7oHx1e10_obs = np.array([0.245,3.85,2.547,1.63])\n",
    "X_obs = np.array([YPCMB_obs, Neff_obs, DoHx1e5_obs, Li7oHx1e10_obs])\n",
    "#X_obs = np.array([Neff_obs, Omeganurel_obs, OneOverOmeganunr_obs, YPCMB_obs, YPBBN_obs, DoHx1e5_obs, He3oHx1e5_obs, Li7oHx1e10_obs])\n",
    "#Neff_sig, Omeganurel_sig, OneOverOmeganunr_sig, YPCMB, YPBBN_sig, DoHx1e5_sig, He3oHx1e5_sig, Li7oHx1e10_sig = np.array([0.5,0.5,3,.1,.1,.3,.2,1])\n",
    "YPCMB_sig, Neff_sig, DoHx1e5_sig, Li7oHx1e10_sig = np.array([0.003,0.62,0.0029,0.3])\n",
    "#sigma_X = np.array([Neff_sig, Omeganurel_sig, OneOverOmeganunr_sig, YPCMB, YPBBN_sig, DoHx1e5_sig, He3oHx1e5_sig, Li7oHx1e10_sig])\n",
    "sigma_X = np.array([YPCMB_sig, Neff_sig, DoHx1e5_sig, Li7oHx1e10_sig])"
   ]
  },
  {
   "cell_type": "code",
   "execution_count": 3,
   "id": "4318e7d8",
   "metadata": {},
   "outputs": [
    {
     "data": {
      "text/plain": [
       "'filename = \"output.txt\"\\n\\n# Create the file (or clear it if it already exists)\\nwith open(filename, \\'w\\') as f:\\n    f.write(\"Starting output:\\n\")'"
      ]
     },
     "execution_count": 3,
     "metadata": {},
     "output_type": "execute_result"
    }
   ],
   "source": [
    "'''filename = \"output.txt\"\n",
    "\n",
    "# Create the file (or clear it if it already exists)\n",
    "with open(filename, 'w') as f:\n",
    "    f.write(\"Starting output:\\n\")'''"
   ]
  },
  {
   "cell_type": "code",
   "execution_count": null,
   "id": "d182f064",
   "metadata": {},
   "outputs": [],
   "source": [
    "# Chi^2 function\n",
    "#params = [gamma,delta,alpha,delm,m0,fplas,f,Tend,Nspecies]\n",
    "#new params = [0    ,   1  ,  2  ,   3  , 4,  5  ,   6     ]\n",
    "#new params = [gamma, delta, delm, fplas, f, Tend, Nspecies] (only independent parameters)\n",
    "def chi2_fn(params):\n",
    "    #initialize stasis parameters\n",
    "    PRyMini.compute_bckg_flag = True\n",
    "    PRyMini.save_bckg_flag = False\n",
    "    PRyMini.stasis_flag = True\n",
    "    PRyMini.verbose_flag = False\n",
    "    PRyMini.stasis_params['gamma'] = params[0]\n",
    "    PRyMini.stasis_params['delta'] = params[1]\n",
    "    PRyMini.stasis_params['delta'] = 1 #test\n",
    "    #PRyMini.stasis_params['alpha'] = params[2]\n",
    "    PRyMini.stasis_params['alpha'] = (2/7)*PRyMini.stasis_params['gamma'] - (1/PRyMini.stasis_params['delta'])\n",
    "    PRyMini.stasis_params['Delta_m'] = params[2]\n",
    "    PRyMini.stasis_params['m0'] = params[2]\n",
    "    PRyMini.stasis_params['Delta_m'] = .5    #test\n",
    "    PRyMini.stasis_params['m0'] = .5 #test\n",
    "    PRyMini.stasis_params['plasma_inject_frac'] = params[3]\n",
    "    PRyMini.stasis_params['tiny_radiation'] = params[4]\n",
    "    PRyMini.stasis_params['stasis_end_mev'] = params[5]\n",
    "    PRyMini.stasis_params['N_SPECIES'] = int(params[6])\n",
    "    #print(PRyMini.stasis_params)\n",
    "    #predictions = model(params)\n",
    "    #residuals = (predictions - X_obs) / errors\n",
    "    #sum(((X_th-X_obs)/sigma_X)**2)\n",
    "    #calculate theoretical values\n",
    "    results = test_main.PRyMclass().PRyMresults()\n",
    "    Neff, Omeganurel, OneOverOmeganunr, YPCMB, YPBBN, DoHx1e5, He3oHx1e5, Li7oHx1e10 = results\n",
    "    #X_th = np.array([Neff, Omeganurel, OneOverOmeganunr, YPCMB, YPBBN, DoHx1e5, He3oHx1e5, Li7oHx1e10])\n",
    "    X_th = np.array([YPCMB, Neff, DoHx1e5, Li7oHx1e10])\n",
    "    return sum(((X_th-X_obs)/sigma_X)**2)\n",
    "\n",
    "# Gradient of chi^2 (numerical)\n",
    "def grad_chi2(chi2_fn,params, eps=1e-3):\n",
    "    grad = np.zeros_like(params)\n",
    "    for i in range(len(params)):\n",
    "        dparams = np.zeros_like(params)\n",
    "        dparams[i] = eps\n",
    "        grad[i] = (chi2_fn(params + dparams) - chi2_fn(params - dparams)) / (2 * eps)\n",
    "        if i==2:\n",
    "            print('mass before: ',params[i],' mass after: ',params[i]+dparams[i],'. These should be different. gradient: ',grad[i])\n",
    "            print('chisq(p+dp) = ',chi2_fn(params + dparams),'chisq(p-dp) = ',chi2_fn(params - dparams),' eps = ',eps)\n",
    "    return grad\n"
   ]
  },
  {
   "cell_type": "code",
   "execution_count": 6,
   "id": "ccfed9df",
   "metadata": {},
   "outputs": [],
   "source": [
    "#adaptive gradient method\n",
    "def adagrad_minimize(chi2_fn, params_init, lr=0.0001, epsilon=1e-8, max_iters=1000, tol=1e-6, verbose=True):\n",
    "    params = np.array(params_init, dtype=np.float64)\n",
    "    G = np.zeros_like(params)\n",
    "    \n",
    "    for t in range(1, max_iters + 1):\n",
    "        grad = grad_chi2(chi2_fn, params)\n",
    "        G += grad ** 2\n",
    "        adjusted_grad = grad / (np.sqrt(G) + epsilon)\n",
    "        update = lr * adjusted_grad\n",
    "        params -= update\n",
    "        params[-1] = int(np.floor(params[-1]))#N_species needs to be an integer\n",
    "        learning_rate = lr / (np.sqrt(G) + epsilon)\n",
    "        if verbose:\n",
    "            print(f\"Iter {t}: params = {params}, chisq = {chi2_fn(params):.6f}, grad = {grad}, |grad| = {np.linalg.norm(grad):.3e}, learning rate*grad = {update}\")\n",
    "        \n",
    "        if np.linalg.norm(update) < tol:\n",
    "            break\n",
    "            \n",
    "    return params"
   ]
  },
  {
   "cell_type": "code",
   "execution_count": 6,
   "id": "5f1b0ddb",
   "metadata": {},
   "outputs": [
    {
     "data": {
      "text/plain": [
       "{'gamma': 7,\n",
       " 'delta': 1,\n",
       " 'm0': 1.0,\n",
       " 'Delta_m': 1.0,\n",
       " 'N_SPECIES': 10,\n",
       " 'GAMMA_OVER_H': 100000.0,\n",
       " 'stasis_end_mev': 50,\n",
       " 'tiny_radiation': 0.01,\n",
       " 'plasma_inject_frac': 0.1,\n",
       " 'alpha': 1.0}"
      ]
     },
     "execution_count": 6,
     "metadata": {},
     "output_type": "execute_result"
    }
   ],
   "source": [
    "PRyMini.stasis_params"
   ]
  },
  {
   "cell_type": "code",
   "execution_count": null,
   "id": "fbaf9f4d",
   "metadata": {},
   "outputs": [
    {
     "name": "stdout",
     "output_type": "stream",
     "text": [
      "[5.88336444394238, 1.4768581347450591, 1.646106938054658, 0.24917206959458524, 0.2203515833636362, 5.690066913087591, 10]\n",
      "Iter 1: params = [5.78336444 1.57685813 1.74610694 0.14917207 0.12035158 5.59006693\n",
      " 9.        ], chisq = 173.803866, grad = [  78381.39219762  -80260.64844858 -145853.79757972   46644.42020133\n",
      "   38214.28316519     710.87237173  132984.91519115], |grad| = 2.349e+05, learning rate*grad = [ 0.1        -0.1        -0.1         0.1         0.1         0.09999999\n",
      "  0.1       ]\n",
      "Iter 2: params = [5.88310348 1.47790939 1.65045284 0.24855555 0.02068072 5.49006699\n",
      " 9.        ], chisq = 206.507118, grad = [-1082816.10036051   549146.09996453   478450.07355795  -418113.49505079\n",
      "   469835.64239128   644172.54096572 -2291599.22380807], |grad| = 2.787e+06, learning rate*grad = [-0.09973903  0.09894874  0.09565409 -0.09938348  0.09967086  0.09999994\n",
      " -0.09983204]\n",
      "Iter 3: params = [5.88319103 1.53522245 1.71192014 0.18228305 0.0693478  5.48125645\n",
      " 8.        ], chisq = 220.100374, grad = [   -950.47032137 -388151.51958776 -389780.47499473  372315.42136159\n",
      " -262607.79589478   56976.68281162   93387.3643104 ], |grad| = 7.226e+05, learning rate*grad = [-8.75485277e-05 -5.73130577e-02 -6.14672902e-02  6.62724962e-02\n",
      " -4.86670765e-02  8.81053931e-03  4.06499755e-03]\n"
     ]
    },
    {
     "name": "stderr",
     "output_type": "stream",
     "text": [
      "/dfs6/pub/ahewitt1/Stasis/Stasis_prym/PRyM/test_main3.py:830: RuntimeWarning: invalid value encountered in sqrt\n",
      "  return PRyMini.MeV_to_secm1 * np.sqrt(8*np.pi*PRyMini.GN/3 * rho_total)\n",
      "/dfs6/pub/ahewitt1/Stasis/Stasis_prym/PRyM/test_main3.py:782: RuntimeWarning: invalid value encountered in log\n",
      "  \"chi_ell0\":   np.log(rho_ell0),\n"
     ]
    },
    {
     "ename": "ValueError",
     "evalue": "All components of the initial state `y0` must be finite.",
     "output_type": "error",
     "traceback": [
      "\u001b[31m---------------------------------------------------------------------------\u001b[39m",
      "\u001b[31mValueError\u001b[39m                                Traceback (most recent call last)",
      "\u001b[36mCell\u001b[39m\u001b[36m \u001b[39m\u001b[32mIn[8]\u001b[39m\u001b[32m, line 32\u001b[39m\n\u001b[32m     20\u001b[39m \u001b[38;5;28mprint\u001b[39m(params)\n\u001b[32m     21\u001b[39m \u001b[33;03m'''chi2 = chi2_fn(params)\u001b[39;00m\n\u001b[32m     22\u001b[39m \u001b[33;03mwith open(file_name, \"a\") as ff:\u001b[39;00m\n\u001b[32m     23\u001b[39m \u001b[33;03m    ff.write(f\"{gamma} {delta} {alpha} {delm} {m0} {fplas} {f} {Tend} {Nspecies} {chi2}\\n\")\u001b[39;00m\n\u001b[32m   (...)\u001b[39m\u001b[32m     29\u001b[39m \u001b[33;03m        ff.write(f\"{params[0]} {params[1]} {params[2]} {params[3]} {params[4]} {params[5]} {params[6]} {params[7]} {params[8]} {chi2}\\n\")\u001b[39;00m\n\u001b[32m     30\u001b[39m \u001b[33;03m        ff.flush()'''\u001b[39;00m\n\u001b[32m---> \u001b[39m\u001b[32m32\u001b[39m \u001b[43madagrad_minimize\u001b[49m\u001b[43m(\u001b[49m\u001b[43mchi2_fn\u001b[49m\u001b[43m,\u001b[49m\u001b[43m \u001b[49m\u001b[43mparams\u001b[49m\u001b[43m,\u001b[49m\u001b[43m \u001b[49m\u001b[43mlr\u001b[49m\u001b[43m=\u001b[49m\u001b[32;43m0.1\u001b[39;49m\u001b[43m,\u001b[49m\u001b[43m \u001b[49m\u001b[43mepsilon\u001b[49m\u001b[43m=\u001b[49m\u001b[32;43m1e-4\u001b[39;49m\u001b[43m,\u001b[49m\u001b[43m \u001b[49m\u001b[43mmax_iters\u001b[49m\u001b[43m=\u001b[49m\u001b[32;43m1000\u001b[39;49m\u001b[43m,\u001b[49m\u001b[43m \u001b[49m\u001b[43mtol\u001b[49m\u001b[43m=\u001b[49m\u001b[32;43m1e-6\u001b[39;49m\u001b[43m,\u001b[49m\u001b[43m \u001b[49m\u001b[43mverbose\u001b[49m\u001b[43m=\u001b[49m\u001b[38;5;28;43;01mTrue\u001b[39;49;00m\u001b[43m)\u001b[49m\n",
      "\u001b[36mCell\u001b[39m\u001b[36m \u001b[39m\u001b[32mIn[5]\u001b[39m\u001b[32m, line 15\u001b[39m, in \u001b[36madagrad_minimize\u001b[39m\u001b[34m(chi2_fn, params_init, lr, epsilon, max_iters, tol, verbose)\u001b[39m\n\u001b[32m     13\u001b[39m learning_rate = lr / (np.sqrt(G) + epsilon)\n\u001b[32m     14\u001b[39m \u001b[38;5;28;01mif\u001b[39;00m verbose:\n\u001b[32m---> \u001b[39m\u001b[32m15\u001b[39m     \u001b[38;5;28mprint\u001b[39m(\u001b[33mf\u001b[39m\u001b[33m\"\u001b[39m\u001b[33mIter \u001b[39m\u001b[38;5;132;01m{\u001b[39;00mt\u001b[38;5;132;01m}\u001b[39;00m\u001b[33m: params = \u001b[39m\u001b[38;5;132;01m{\u001b[39;00mparams\u001b[38;5;132;01m}\u001b[39;00m\u001b[33m, chisq = \u001b[39m\u001b[38;5;132;01m{\u001b[39;00m\u001b[43mchi2_fn\u001b[49m\u001b[43m(\u001b[49m\u001b[43mparams\u001b[49m\u001b[43m)\u001b[49m\u001b[38;5;132;01m:\u001b[39;00m\u001b[33m.6f\u001b[39m\u001b[38;5;132;01m}\u001b[39;00m\u001b[33m, grad = \u001b[39m\u001b[38;5;132;01m{\u001b[39;00mgrad\u001b[38;5;132;01m}\u001b[39;00m\u001b[33m, |grad| = \u001b[39m\u001b[38;5;132;01m{\u001b[39;00mnp.linalg.norm(grad)\u001b[38;5;132;01m:\u001b[39;00m\u001b[33m.3e\u001b[39m\u001b[38;5;132;01m}\u001b[39;00m\u001b[33m, learning rate*grad = \u001b[39m\u001b[38;5;132;01m{\u001b[39;00mupdate\u001b[38;5;132;01m}\u001b[39;00m\u001b[33m\"\u001b[39m)\n\u001b[32m     17\u001b[39m \u001b[38;5;28;01mif\u001b[39;00m np.linalg.norm(update) < tol:\n\u001b[32m     18\u001b[39m     \u001b[38;5;28;01mbreak\u001b[39;00m\n",
      "\u001b[36mCell\u001b[39m\u001b[36m \u001b[39m\u001b[32mIn[4]\u001b[39m\u001b[32m, line 26\u001b[39m, in \u001b[36mchi2_fn\u001b[39m\u001b[34m(params)\u001b[39m\n\u001b[32m     20\u001b[39m PRyMini.stasis_params[\u001b[33m'\u001b[39m\u001b[33mN_SPECIES\u001b[39m\u001b[33m'\u001b[39m] = \u001b[38;5;28mint\u001b[39m(params[\u001b[32m6\u001b[39m])\n\u001b[32m     21\u001b[39m \u001b[38;5;66;03m#print(PRyMini.stasis_params)\u001b[39;00m\n\u001b[32m     22\u001b[39m \u001b[38;5;66;03m#predictions = model(params)\u001b[39;00m\n\u001b[32m     23\u001b[39m \u001b[38;5;66;03m#residuals = (predictions - X_obs) / errors\u001b[39;00m\n\u001b[32m     24\u001b[39m \u001b[38;5;66;03m#sum(((X_th-X_obs)/sigma_X)**2)\u001b[39;00m\n\u001b[32m     25\u001b[39m \u001b[38;5;66;03m#calculate theoretical values\u001b[39;00m\n\u001b[32m---> \u001b[39m\u001b[32m26\u001b[39m results = \u001b[43mtest_main\u001b[49m\u001b[43m.\u001b[49m\u001b[43mPRyMclass\u001b[49m\u001b[43m(\u001b[49m\u001b[43m)\u001b[49m.PRyMresults()\n\u001b[32m     27\u001b[39m Neff, Omeganurel, OneOverOmeganunr, YPCMB, YPBBN, DoHx1e5, He3oHx1e5, Li7oHx1e10 = results\n\u001b[32m     28\u001b[39m \u001b[38;5;66;03m#X_th = np.array([Neff, Omeganurel, OneOverOmeganunr, YPCMB, YPBBN, DoHx1e5, He3oHx1e5, Li7oHx1e10])\u001b[39;00m\n",
      "\u001b[36mFile \u001b[39m\u001b[32m/dfs6/pub/ahewitt1/Stasis/Stasis_prym/PRyM/test_main3.py:166\u001b[39m, in \u001b[36mPRyMclass.__init__\u001b[39m\u001b[34m(self, my_rho_NP, my_p_NP, my_drho_NP_dT, my_delta_rho_NP, stasis_params)\u001b[39m\n\u001b[32m    156\u001b[39m     \u001b[38;5;28mself\u001b[39m.Tnu_vec = sol_thermo_uMat[:,\u001b[32m1\u001b[39m]\n\u001b[32m    158\u001b[39m \u001b[38;5;28;01melse\u001b[39;00m:\n\u001b[32m    159\u001b[39m     \u001b[38;5;66;03m# sol_thermo = solve_ivp(self.dTtotdt,[tini,tfin],Tini_vec,t_eval=sol_thermo_sampling,method='LSODA',rtol=1.e-6,atol=1.e-9)\u001b[39;00m\n\u001b[32m    160\u001b[39m     \u001b[38;5;66;03m# sol_thermo = solve_ivp(self.dTtotdt,[tini,tfin],Tini_vec,t_eval=sol_thermo_sampling,method='BDF',rtol=1.e-6,atol=1.e-9)\u001b[39;00m\n\u001b[32m   (...)\u001b[39m\u001b[32m    164\u001b[39m \n\u001b[32m    165\u001b[39m     \u001b[38;5;66;03m# sol_thermo = solve_ivp(self.rhs,(tini, tfin),y0,t_eval=sol_thermo_sampling,method='LSODA',rtol=1.e-6,atol=1.e-9)\u001b[39;00m\n\u001b[32m--> \u001b[39m\u001b[32m166\u001b[39m     sol_thermo = \u001b[43msolve_ivp\u001b[49m\u001b[43m(\u001b[49m\u001b[38;5;28;43mself\u001b[39;49m\u001b[43m.\u001b[49m\u001b[43mrhs\u001b[49m\u001b[43m,\u001b[49m\u001b[43m(\u001b[49m\u001b[43mtini\u001b[49m\u001b[43m,\u001b[49m\u001b[43m \u001b[49m\u001b[43mtfin\u001b[49m\u001b[43m)\u001b[49m\u001b[43m,\u001b[49m\u001b[43my0\u001b[49m\u001b[43m,\u001b[49m\u001b[43mt_eval\u001b[49m\u001b[43m=\u001b[49m\u001b[43msol_thermo_sampling\u001b[49m\u001b[43m,\u001b[49m\u001b[43mmethod\u001b[49m\u001b[43m=\u001b[49m\u001b[33;43m'\u001b[39;49m\u001b[33;43mBDF\u001b[39;49m\u001b[33;43m'\u001b[39;49m\u001b[43m,\u001b[49m\u001b[43mrtol\u001b[49m\u001b[43m=\u001b[49m\u001b[32;43m1.e-6\u001b[39;49m\u001b[43m,\u001b[49m\u001b[43matol\u001b[49m\u001b[43m=\u001b[49m\u001b[32;43m1.e-9\u001b[39;49m\u001b[43m)\u001b[49m\n\u001b[32m    169\u001b[39m     \u001b[38;5;66;03m# self.t_vec = sol_thermo.t\u001b[39;00m\n\u001b[32m    170\u001b[39m     \u001b[38;5;66;03m# self.Tg_vec = sol_thermo.y[0][:]\u001b[39;00m\n\u001b[32m    171\u001b[39m     \u001b[38;5;66;03m# self.Tnu_vec = sol_thermo.y[1][:]\u001b[39;00m\n\u001b[32m    172\u001b[39m     \u001b[38;5;28mself\u001b[39m.t_vec   = sol_thermo.t\n",
      "\u001b[36mFile \u001b[39m\u001b[32m/pub/ahewitt1/Stasis/.venv/lib64/python3.11/site-packages/scipy/integrate/_ivp/ivp.py:621\u001b[39m, in \u001b[36msolve_ivp\u001b[39m\u001b[34m(fun, t_span, y0, method, t_eval, dense_output, events, vectorized, args, **options)\u001b[39m\n\u001b[32m    618\u001b[39m \u001b[38;5;28;01mif\u001b[39;00m method \u001b[38;5;129;01min\u001b[39;00m METHODS:\n\u001b[32m    619\u001b[39m     method = METHODS[method]\n\u001b[32m--> \u001b[39m\u001b[32m621\u001b[39m solver = \u001b[43mmethod\u001b[49m\u001b[43m(\u001b[49m\u001b[43mfun\u001b[49m\u001b[43m,\u001b[49m\u001b[43m \u001b[49m\u001b[43mt0\u001b[49m\u001b[43m,\u001b[49m\u001b[43m \u001b[49m\u001b[43my0\u001b[49m\u001b[43m,\u001b[49m\u001b[43m \u001b[49m\u001b[43mtf\u001b[49m\u001b[43m,\u001b[49m\u001b[43m \u001b[49m\u001b[43mvectorized\u001b[49m\u001b[43m=\u001b[49m\u001b[43mvectorized\u001b[49m\u001b[43m,\u001b[49m\u001b[43m \u001b[49m\u001b[43m*\u001b[49m\u001b[43m*\u001b[49m\u001b[43moptions\u001b[49m\u001b[43m)\u001b[49m\n\u001b[32m    623\u001b[39m \u001b[38;5;28;01mif\u001b[39;00m t_eval \u001b[38;5;129;01mis\u001b[39;00m \u001b[38;5;28;01mNone\u001b[39;00m:\n\u001b[32m    624\u001b[39m     ts = [t0]\n",
      "\u001b[36mFile \u001b[39m\u001b[32m/pub/ahewitt1/Stasis/.venv/lib64/python3.11/site-packages/scipy/integrate/_ivp/bdf.py:201\u001b[39m, in \u001b[36mBDF.__init__\u001b[39m\u001b[34m(self, fun, t0, y0, t_bound, max_step, rtol, atol, jac, jac_sparsity, vectorized, first_step, **extraneous)\u001b[39m\n\u001b[32m    197\u001b[39m \u001b[38;5;28;01mdef\u001b[39;00m\u001b[38;5;250m \u001b[39m\u001b[34m__init__\u001b[39m(\u001b[38;5;28mself\u001b[39m, fun, t0, y0, t_bound, max_step=np.inf,\n\u001b[32m    198\u001b[39m              rtol=\u001b[32m1e-3\u001b[39m, atol=\u001b[32m1e-6\u001b[39m, jac=\u001b[38;5;28;01mNone\u001b[39;00m, jac_sparsity=\u001b[38;5;28;01mNone\u001b[39;00m,\n\u001b[32m    199\u001b[39m              vectorized=\u001b[38;5;28;01mFalse\u001b[39;00m, first_step=\u001b[38;5;28;01mNone\u001b[39;00m, **extraneous):\n\u001b[32m    200\u001b[39m     warn_extraneous(extraneous)\n\u001b[32m--> \u001b[39m\u001b[32m201\u001b[39m     \u001b[38;5;28;43msuper\u001b[39;49m\u001b[43m(\u001b[49m\u001b[43m)\u001b[49m\u001b[43m.\u001b[49m\u001b[34;43m__init__\u001b[39;49m\u001b[43m(\u001b[49m\u001b[43mfun\u001b[49m\u001b[43m,\u001b[49m\u001b[43m \u001b[49m\u001b[43mt0\u001b[49m\u001b[43m,\u001b[49m\u001b[43m \u001b[49m\u001b[43my0\u001b[49m\u001b[43m,\u001b[49m\u001b[43m \u001b[49m\u001b[43mt_bound\u001b[49m\u001b[43m,\u001b[49m\u001b[43m \u001b[49m\u001b[43mvectorized\u001b[49m\u001b[43m,\u001b[49m\n\u001b[32m    202\u001b[39m \u001b[43m                     \u001b[49m\u001b[43msupport_complex\u001b[49m\u001b[43m=\u001b[49m\u001b[38;5;28;43;01mTrue\u001b[39;49;00m\u001b[43m)\u001b[49m\n\u001b[32m    203\u001b[39m     \u001b[38;5;28mself\u001b[39m.max_step = validate_max_step(max_step)\n\u001b[32m    204\u001b[39m     \u001b[38;5;28mself\u001b[39m.rtol, \u001b[38;5;28mself\u001b[39m.atol = validate_tol(rtol, atol, \u001b[38;5;28mself\u001b[39m.n)\n",
      "\u001b[36mFile \u001b[39m\u001b[32m/pub/ahewitt1/Stasis/.venv/lib64/python3.11/site-packages/scipy/integrate/_ivp/base.py:135\u001b[39m, in \u001b[36mOdeSolver.__init__\u001b[39m\u001b[34m(self, fun, t0, y0, t_bound, vectorized, support_complex)\u001b[39m\n\u001b[32m    133\u001b[39m \u001b[38;5;28mself\u001b[39m.t_old = \u001b[38;5;28;01mNone\u001b[39;00m\n\u001b[32m    134\u001b[39m \u001b[38;5;28mself\u001b[39m.t = t0\n\u001b[32m--> \u001b[39m\u001b[32m135\u001b[39m \u001b[38;5;28mself\u001b[39m._fun, \u001b[38;5;28mself\u001b[39m.y = \u001b[43mcheck_arguments\u001b[49m\u001b[43m(\u001b[49m\u001b[43mfun\u001b[49m\u001b[43m,\u001b[49m\u001b[43m \u001b[49m\u001b[43my0\u001b[49m\u001b[43m,\u001b[49m\u001b[43m \u001b[49m\u001b[43msupport_complex\u001b[49m\u001b[43m)\u001b[49m\n\u001b[32m    136\u001b[39m \u001b[38;5;28mself\u001b[39m.t_bound = t_bound\n\u001b[32m    137\u001b[39m \u001b[38;5;28mself\u001b[39m.vectorized = vectorized\n",
      "\u001b[36mFile \u001b[39m\u001b[32m/pub/ahewitt1/Stasis/.venv/lib64/python3.11/site-packages/scipy/integrate/_ivp/base.py:20\u001b[39m, in \u001b[36mcheck_arguments\u001b[39m\u001b[34m(fun, y0, support_complex)\u001b[39m\n\u001b[32m     17\u001b[39m     \u001b[38;5;28;01mraise\u001b[39;00m \u001b[38;5;167;01mValueError\u001b[39;00m(\u001b[33m\"\u001b[39m\u001b[33m`y0` must be 1-dimensional.\u001b[39m\u001b[33m\"\u001b[39m)\n\u001b[32m     19\u001b[39m \u001b[38;5;28;01mif\u001b[39;00m \u001b[38;5;129;01mnot\u001b[39;00m np.isfinite(y0).all():\n\u001b[32m---> \u001b[39m\u001b[32m20\u001b[39m     \u001b[38;5;28;01mraise\u001b[39;00m \u001b[38;5;167;01mValueError\u001b[39;00m(\u001b[33m\"\u001b[39m\u001b[33mAll components of the initial state `y0` must be finite.\u001b[39m\u001b[33m\"\u001b[39m)\n\u001b[32m     22\u001b[39m \u001b[38;5;28;01mdef\u001b[39;00m\u001b[38;5;250m \u001b[39m\u001b[34mfun_wrapped\u001b[39m(t, y):\n\u001b[32m     23\u001b[39m     \u001b[38;5;28;01mreturn\u001b[39;00m np.asarray(fun(t, y), dtype=dtype)\n",
      "\u001b[31mValueError\u001b[39m: All components of the initial state `y0` must be finite."
     ]
    }
   ],
   "source": [
    "#run stasis gradient descent and save results ot a file\n",
    "# Optional: write header only once\n",
    "file_name = \"results_grad_descent.txt\"\n",
    "with open(file_name, \"w\") as ff:\n",
    "    ff.write(\"gamma delta alpha delm m0 fplas f Tend Nspecies chi2\\n\")\n",
    "#initialize random stasis parameters in the desired intervals\n",
    "gamma = random.uniform(4,8)\n",
    "delta = random.uniform(0,3)\n",
    "alpha = (2/7)*gamma - (1/delta)\n",
    "delm = random.uniform(1,10)\n",
    "m0 = delm\n",
    "fplas = random.uniform(0.1,1)\n",
    "f = random.uniform(0.1,1)\n",
    "Tend = random.uniform(1, 10)\n",
    "Nspecies = int(random.randint(1, 20))\n",
    "#PRyMini.stasis_params\n",
    "#print(Nspecies)\n",
    "#initialize params\n",
    "params = [gamma,delta,delm,fplas,f,Tend,Nspecies]\n",
    "#params = [ 6.01481611,  1.37305974,  2.51980166,  0.79767413,  0.66060306,  6.15616, 12.        ]\n",
    "#params = [7.926336094913086, 2.7753513891062145, 1.1264111582850547, 0.3486721409578998, 0.5688199257967876, 4.064037499639412, 4]\n",
    "params = np.array(params)\n",
    "print(params)\n",
    "'''chi2 = chi2_fn(params)\n",
    "with open(file_name, \"a\") as ff:\n",
    "    ff.write(f\"{gamma} {delta} {alpha} {delm} {m0} {fplas} {f} {Tend} {Nspecies} {chi2}\\n\")\n",
    "#apply gradient descent, extremely slow right now\n",
    "for n in range(1000):\n",
    "    params = gradient_descent(params, lr=0.001, tol=7, max_iter=100)\n",
    "    #chi2 = chi2_fn(params)\n",
    "    with open(file_name, \"a\") as ff:\n",
    "        ff.write(f\"{params[0]} {params[1]} {params[2]} {params[3]} {params[4]} {params[5]} {params[6]} {params[7]} {params[8]} {chi2}\\n\")\n",
    "        ff.flush()'''\n",
    "\n",
    "adagrad_minimize(chi2_fn, params, lr=0.1, epsilon=1e-4, max_iters=1000, tol=1e-6, verbose=True)"
   ]
  },
  {
   "cell_type": "code",
   "execution_count": null,
   "id": "9d055214",
   "metadata": {},
   "outputs": [
    {
     "ename": "KeyboardInterrupt",
     "evalue": "",
     "output_type": "error",
     "traceback": [
      "\u001b[31m---------------------------------------------------------------------------\u001b[39m",
      "\u001b[31mKeyboardInterrupt\u001b[39m                         Traceback (most recent call last)",
      "\u001b[36mCell\u001b[39m\u001b[36m \u001b[39m\u001b[32mIn[5]\u001b[39m\u001b[32m, line 14\u001b[39m\n\u001b[32m     10\u001b[39m \u001b[38;5;66;03m#PRyMini.stasis_params\u001b[39;00m\n\u001b[32m     11\u001b[39m \u001b[38;5;66;03m#print(Nspecies)\u001b[39;00m\n\u001b[32m     12\u001b[39m \u001b[38;5;66;03m#initialize params\u001b[39;00m\n\u001b[32m     13\u001b[39m params = [gamma,delta,delm,fplas,f,Tend,Nspecies]\n\u001b[32m---> \u001b[39m\u001b[32m14\u001b[39m \u001b[43mchi2_fn\u001b[49m\u001b[43m(\u001b[49m\u001b[43mparams\u001b[49m\u001b[43m)\u001b[49m\n",
      "\u001b[36mCell\u001b[39m\u001b[36m \u001b[39m\u001b[32mIn[3]\u001b[39m\u001b[32m, line 26\u001b[39m, in \u001b[36mchi2_fn\u001b[39m\u001b[34m(params)\u001b[39m\n\u001b[32m     20\u001b[39m PRyMini.stasis_params[\u001b[33m'\u001b[39m\u001b[33mN_SPECIES\u001b[39m\u001b[33m'\u001b[39m] = \u001b[38;5;28mint\u001b[39m(params[\u001b[32m6\u001b[39m])\n\u001b[32m     21\u001b[39m \u001b[38;5;66;03m#print(PRyMini.stasis_params)\u001b[39;00m\n\u001b[32m     22\u001b[39m \u001b[38;5;66;03m#predictions = model(params)\u001b[39;00m\n\u001b[32m     23\u001b[39m \u001b[38;5;66;03m#residuals = (predictions - X_obs) / errors\u001b[39;00m\n\u001b[32m     24\u001b[39m \u001b[38;5;66;03m#sum(((X_th-X_obs)/sigma_X)**2)\u001b[39;00m\n\u001b[32m     25\u001b[39m \u001b[38;5;66;03m#calculate theoretical values\u001b[39;00m\n\u001b[32m---> \u001b[39m\u001b[32m26\u001b[39m results = \u001b[43mtest_main\u001b[49m\u001b[43m.\u001b[49m\u001b[43mPRyMclass\u001b[49m\u001b[43m(\u001b[49m\u001b[43m)\u001b[49m.PRyMresults()\n\u001b[32m     27\u001b[39m Neff, Omeganurel, OneOverOmeganunr, YPCMB, YPBBN, DoHx1e5, He3oHx1e5, Li7oHx1e10 = results\n\u001b[32m     28\u001b[39m \u001b[38;5;66;03m#X_th = np.array([Neff, Omeganurel, OneOverOmeganunr, YPCMB, YPBBN, DoHx1e5, He3oHx1e5, Li7oHx1e10])\u001b[39;00m\n",
      "\u001b[36mFile \u001b[39m\u001b[32m/dfs6/pub/ahewitt1/Stasis/Stasis_prym/PRyM/test_main3.py:343\u001b[39m, in \u001b[36mPRyMclass.__init__\u001b[39m\u001b[34m(self, my_rho_NP, my_p_NP, my_drho_NP_dT, my_delta_rho_NP, stasis_params)\u001b[39m\n\u001b[32m    341\u001b[39m     \u001b[38;5;28;01mreturn\u001b[39;00m [dlnadt]\n\u001b[32m    342\u001b[39m \u001b[38;5;66;03m# sol_lnalnT = solve_ivp(dlna,Tini_vec,[np.log(zend/Tend_MeV)],t_eval=np.log(T_sol_vec),method='LSODA',rtol=1.e-6,atol=1.e-9)\u001b[39;00m\n\u001b[32m--> \u001b[39m\u001b[32m343\u001b[39m sol_lnalnT = \u001b[43msolve_ivp\u001b[49m\u001b[43m(\u001b[49m\u001b[43mdlna\u001b[49m\u001b[43m,\u001b[49m\u001b[43mTini_vec\u001b[49m\u001b[43m,\u001b[49m\u001b[43m[\u001b[49m\u001b[43mnp\u001b[49m\u001b[43m.\u001b[49m\u001b[43mlog\u001b[49m\u001b[43m(\u001b[49m\u001b[43mzend\u001b[49m\u001b[43m/\u001b[49m\u001b[43mTend_MeV\u001b[49m\u001b[43m)\u001b[49m\u001b[43m]\u001b[49m\u001b[43m,\u001b[49m\u001b[43mt_eval\u001b[49m\u001b[43m=\u001b[49m\u001b[43mnp\u001b[49m\u001b[43m.\u001b[49m\u001b[43mlog\u001b[49m\u001b[43m(\u001b[49m\u001b[43mT_sol_vec\u001b[49m\u001b[43m)\u001b[49m\u001b[43m,\u001b[49m\u001b[43mmethod\u001b[49m\u001b[43m=\u001b[49m\u001b[33;43m'\u001b[39;49m\u001b[33;43mBDF\u001b[39;49m\u001b[33;43m'\u001b[39;49m\u001b[43m,\u001b[49m\u001b[43mrtol\u001b[49m\u001b[43m=\u001b[49m\u001b[32;43m1.e-6\u001b[39;49m\u001b[43m,\u001b[49m\u001b[43matol\u001b[49m\u001b[43m=\u001b[49m\u001b[32;43m1.e-9\u001b[39;49m\u001b[43m)\u001b[49m\n\u001b[32m    344\u001b[39m sol_lnT = np.array(sol_lnalnT.t[:]).flatten()\n\u001b[32m    345\u001b[39m sol_lna = np.array(sol_lnalnT.y[:]).flatten()\n",
      "\u001b[36mFile \u001b[39m\u001b[32m/pub/ahewitt1/Stasis/.venv/lib64/python3.11/site-packages/scipy/integrate/_ivp/ivp.py:655\u001b[39m, in \u001b[36msolve_ivp\u001b[39m\u001b[34m(fun, t_span, y0, method, t_eval, dense_output, events, vectorized, args, **options)\u001b[39m\n\u001b[32m    653\u001b[39m status = \u001b[38;5;28;01mNone\u001b[39;00m\n\u001b[32m    654\u001b[39m \u001b[38;5;28;01mwhile\u001b[39;00m status \u001b[38;5;129;01mis\u001b[39;00m \u001b[38;5;28;01mNone\u001b[39;00m:\n\u001b[32m--> \u001b[39m\u001b[32m655\u001b[39m     message = \u001b[43msolver\u001b[49m\u001b[43m.\u001b[49m\u001b[43mstep\u001b[49m\u001b[43m(\u001b[49m\u001b[43m)\u001b[49m\n\u001b[32m    657\u001b[39m     \u001b[38;5;28;01mif\u001b[39;00m solver.status == \u001b[33m'\u001b[39m\u001b[33mfinished\u001b[39m\u001b[33m'\u001b[39m:\n\u001b[32m    658\u001b[39m         status = \u001b[32m0\u001b[39m\n",
      "\u001b[36mFile \u001b[39m\u001b[32m/pub/ahewitt1/Stasis/.venv/lib64/python3.11/site-packages/scipy/integrate/_ivp/base.py:197\u001b[39m, in \u001b[36mOdeSolver.step\u001b[39m\u001b[34m(self)\u001b[39m\n\u001b[32m    195\u001b[39m \u001b[38;5;28;01melse\u001b[39;00m:\n\u001b[32m    196\u001b[39m     t = \u001b[38;5;28mself\u001b[39m.t\n\u001b[32m--> \u001b[39m\u001b[32m197\u001b[39m     success, message = \u001b[38;5;28;43mself\u001b[39;49m\u001b[43m.\u001b[49m\u001b[43m_step_impl\u001b[49m\u001b[43m(\u001b[49m\u001b[43m)\u001b[49m\n\u001b[32m    199\u001b[39m     \u001b[38;5;28;01mif\u001b[39;00m \u001b[38;5;129;01mnot\u001b[39;00m success:\n\u001b[32m    200\u001b[39m         \u001b[38;5;28mself\u001b[39m.status = \u001b[33m'\u001b[39m\u001b[33mfailed\u001b[39m\u001b[33m'\u001b[39m\n",
      "\u001b[36mFile \u001b[39m\u001b[32m/pub/ahewitt1/Stasis/.venv/lib64/python3.11/site-packages/scipy/integrate/_ivp/bdf.py:365\u001b[39m, in \u001b[36mBDF._step_impl\u001b[39m\u001b[34m(self)\u001b[39m\n\u001b[32m    362\u001b[39m \u001b[38;5;28;01mif\u001b[39;00m LU \u001b[38;5;129;01mis\u001b[39;00m \u001b[38;5;28;01mNone\u001b[39;00m:\n\u001b[32m    363\u001b[39m     LU = \u001b[38;5;28mself\u001b[39m.lu(\u001b[38;5;28mself\u001b[39m.I - c * J)\n\u001b[32m--> \u001b[39m\u001b[32m365\u001b[39m converged, n_iter, y_new, d = \u001b[43msolve_bdf_system\u001b[49m\u001b[43m(\u001b[49m\n\u001b[32m    366\u001b[39m \u001b[43m    \u001b[49m\u001b[38;5;28;43mself\u001b[39;49m\u001b[43m.\u001b[49m\u001b[43mfun\u001b[49m\u001b[43m,\u001b[49m\u001b[43m \u001b[49m\u001b[43mt_new\u001b[49m\u001b[43m,\u001b[49m\u001b[43m \u001b[49m\u001b[43my_predict\u001b[49m\u001b[43m,\u001b[49m\u001b[43m \u001b[49m\u001b[43mc\u001b[49m\u001b[43m,\u001b[49m\u001b[43m \u001b[49m\u001b[43mpsi\u001b[49m\u001b[43m,\u001b[49m\u001b[43m \u001b[49m\u001b[43mLU\u001b[49m\u001b[43m,\u001b[49m\u001b[43m \u001b[49m\u001b[38;5;28;43mself\u001b[39;49m\u001b[43m.\u001b[49m\u001b[43msolve_lu\u001b[49m\u001b[43m,\u001b[49m\n\u001b[32m    367\u001b[39m \u001b[43m    \u001b[49m\u001b[43mscale\u001b[49m\u001b[43m,\u001b[49m\u001b[43m \u001b[49m\u001b[38;5;28;43mself\u001b[39;49m\u001b[43m.\u001b[49m\u001b[43mnewton_tol\u001b[49m\u001b[43m)\u001b[49m\n\u001b[32m    369\u001b[39m \u001b[38;5;28;01mif\u001b[39;00m \u001b[38;5;129;01mnot\u001b[39;00m converged:\n\u001b[32m    370\u001b[39m     \u001b[38;5;28;01mif\u001b[39;00m current_jac:\n",
      "\u001b[36mFile \u001b[39m\u001b[32m/pub/ahewitt1/Stasis/.venv/lib64/python3.11/site-packages/scipy/integrate/_ivp/bdf.py:43\u001b[39m, in \u001b[36msolve_bdf_system\u001b[39m\u001b[34m(fun, t_new, y_predict, c, psi, LU, solve_lu, scale, tol)\u001b[39m\n\u001b[32m     41\u001b[39m converged = \u001b[38;5;28;01mFalse\u001b[39;00m\n\u001b[32m     42\u001b[39m \u001b[38;5;28;01mfor\u001b[39;00m k \u001b[38;5;129;01min\u001b[39;00m \u001b[38;5;28mrange\u001b[39m(NEWTON_MAXITER):\n\u001b[32m---> \u001b[39m\u001b[32m43\u001b[39m     f = \u001b[43mfun\u001b[49m\u001b[43m(\u001b[49m\u001b[43mt_new\u001b[49m\u001b[43m,\u001b[49m\u001b[43m \u001b[49m\u001b[43my\u001b[49m\u001b[43m)\u001b[49m\n\u001b[32m     44\u001b[39m     \u001b[38;5;28;01mif\u001b[39;00m \u001b[38;5;129;01mnot\u001b[39;00m np.all(np.isfinite(f)):\n\u001b[32m     45\u001b[39m         \u001b[38;5;28;01mbreak\u001b[39;00m\n",
      "\u001b[36mFile \u001b[39m\u001b[32m/pub/ahewitt1/Stasis/.venv/lib64/python3.11/site-packages/scipy/integrate/_ivp/base.py:154\u001b[39m, in \u001b[36mOdeSolver.__init__.<locals>.fun\u001b[39m\u001b[34m(t, y)\u001b[39m\n\u001b[32m    152\u001b[39m \u001b[38;5;28;01mdef\u001b[39;00m\u001b[38;5;250m \u001b[39m\u001b[34mfun\u001b[39m(t, y):\n\u001b[32m    153\u001b[39m     \u001b[38;5;28mself\u001b[39m.nfev += \u001b[32m1\u001b[39m\n\u001b[32m--> \u001b[39m\u001b[32m154\u001b[39m     \u001b[38;5;28;01mreturn\u001b[39;00m \u001b[38;5;28;43mself\u001b[39;49m\u001b[43m.\u001b[49m\u001b[43mfun_single\u001b[49m\u001b[43m(\u001b[49m\u001b[43mt\u001b[49m\u001b[43m,\u001b[49m\u001b[43m \u001b[49m\u001b[43my\u001b[49m\u001b[43m)\u001b[49m\n",
      "\u001b[36mFile \u001b[39m\u001b[32m/pub/ahewitt1/Stasis/.venv/lib64/python3.11/site-packages/scipy/integrate/_ivp/base.py:23\u001b[39m, in \u001b[36mcheck_arguments.<locals>.fun_wrapped\u001b[39m\u001b[34m(t, y)\u001b[39m\n\u001b[32m     22\u001b[39m \u001b[38;5;28;01mdef\u001b[39;00m\u001b[38;5;250m \u001b[39m\u001b[34mfun_wrapped\u001b[39m(t, y):\n\u001b[32m---> \u001b[39m\u001b[32m23\u001b[39m     \u001b[38;5;28;01mreturn\u001b[39;00m np.asarray(\u001b[43mfun\u001b[49m\u001b[43m(\u001b[49m\u001b[43mt\u001b[49m\u001b[43m,\u001b[49m\u001b[43m \u001b[49m\u001b[43my\u001b[49m\u001b[43m)\u001b[49m, dtype=dtype)\n",
      "\u001b[36mFile \u001b[39m\u001b[32m/dfs6/pub/ahewitt1/Stasis/Stasis_prym/PRyM/test_main3.py:340\u001b[39m, in \u001b[36mPRyMclass.__init__.<locals>.dlna\u001b[39m\u001b[34m(lnT, y)\u001b[39m\n\u001b[32m    338\u001b[39m \u001b[38;5;28;01mdef\u001b[39;00m\u001b[38;5;250m \u001b[39m\u001b[34mdlna\u001b[39m(lnT,y):\n\u001b[32m    339\u001b[39m     \u001b[38;5;66;03m# return self.dlnadlnT(lnT)\u001b[39;00m\n\u001b[32m--> \u001b[39m\u001b[32m340\u001b[39m     dlnadt = \u001b[38;5;28;43mself\u001b[39;49m\u001b[43m.\u001b[49m\u001b[43mdlnadlnT\u001b[49m\u001b[43m(\u001b[49m\u001b[43mlnT\u001b[49m\u001b[43m)\u001b[49m\n\u001b[32m    341\u001b[39m     \u001b[38;5;28;01mreturn\u001b[39;00m [dlnadt]\n",
      "\u001b[36mFile \u001b[39m\u001b[32m/dfs6/pub/ahewitt1/Stasis/Stasis_prym/PRyM/test_main3.py:1057\u001b[39m, in \u001b[36mPRyMclass.dlnadlnT\u001b[39m\u001b[34m(self, lnT)\u001b[39m\n\u001b[32m   1055\u001b[39m \u001b[38;5;66;03m# evaluate everything at T, not lnT\u001b[39;00m\n\u001b[32m   1056\u001b[39m sbar_T    = \u001b[38;5;28mself\u001b[39m.sbar(T)\n\u001b[32m-> \u001b[39m\u001b[32m1057\u001b[39m dsbardT_T = \u001b[38;5;28;43mself\u001b[39;49m\u001b[43m.\u001b[49m\u001b[43mdsbardT\u001b[49m\u001b[43m(\u001b[49m\u001b[43mT\u001b[49m\u001b[43m)\u001b[49m        \u001b[38;5;66;03m# now correctly bound in __init__\u001b[39;00m\n\u001b[32m   1058\u001b[39m N_nu_T    = \u001b[38;5;28mself\u001b[39m.N_nu_rate(T)\n\u001b[32m   1060\u001b[39m \u001b[38;5;66;03m# this is the same formula as in test_main.py\u001b[39;00m\n",
      "\u001b[36mFile \u001b[39m\u001b[32m/dfs6/pub/ahewitt1/Stasis/Stasis_prym/PRyM/test_main3.py:298\u001b[39m, in \u001b[36mPRyMclass.__init__.<locals>._dsbardT\u001b[39m\u001b[34m(T)\u001b[39m\n\u001b[32m    296\u001b[39m \u001b[38;5;28;01mdef\u001b[39;00m\u001b[38;5;250m \u001b[39m\u001b[34m_dsbardT\u001b[39m(T):\n\u001b[32m    297\u001b[39m     dToT = \u001b[32m1e-3\u001b[39m\n\u001b[32m--> \u001b[39m\u001b[32m298\u001b[39m     \u001b[38;5;28;01mreturn\u001b[39;00m (\u001b[38;5;28mself\u001b[39m.sbar((\u001b[32m1.0\u001b[39m + dToT) * T) - \u001b[38;5;28;43mself\u001b[39;49m\u001b[43m.\u001b[49m\u001b[43msbar\u001b[49m\u001b[43m(\u001b[49m\u001b[43m(\u001b[49m\u001b[32;43m1.0\u001b[39;49m\u001b[43m \u001b[49m\u001b[43m-\u001b[49m\u001b[43m \u001b[49m\u001b[43mdToT\u001b[49m\u001b[43m)\u001b[49m\u001b[43m \u001b[49m\u001b[43m*\u001b[49m\u001b[43m \u001b[49m\u001b[43mT\u001b[49m\u001b[43m)\u001b[49m) / (\u001b[32m2.0\u001b[39m * dToT * T)\n",
      "\u001b[36mFile \u001b[39m\u001b[32m/dfs6/pub/ahewitt1/Stasis/Stasis_prym/PRyM/test_main3.py:1039\u001b[39m, in \u001b[36mPRyMclass.sbar\u001b[39m\u001b[34m(self, T)\u001b[39m\n\u001b[32m   1038\u001b[39m \u001b[38;5;28;01mdef\u001b[39;00m\u001b[38;5;250m \u001b[39m\u001b[34msbar\u001b[39m(\u001b[38;5;28mself\u001b[39m,T):\n\u001b[32m-> \u001b[39m\u001b[32m1039\u001b[39m     \u001b[38;5;28;01mreturn\u001b[39;00m \u001b[43mPRyMthermo\u001b[49m\u001b[43m.\u001b[49m\u001b[43mspl\u001b[49m\u001b[43m(\u001b[49m\u001b[43mT\u001b[49m\u001b[43m)\u001b[49m/T**\u001b[32m3\u001b[39m\n",
      "\u001b[36mFile \u001b[39m\u001b[32m/dfs6/pub/ahewitt1/Stasis/Stasis_prym/PRyM/PRyM_thermo.py:348\u001b[39m, in \u001b[36mspl\u001b[39m\u001b[34m(Tg)\u001b[39m\n\u001b[32m    346\u001b[39m \u001b[38;5;28;01mdef\u001b[39;00m\u001b[38;5;250m \u001b[39m\u001b[34mspl\u001b[39m(Tg):\n\u001b[32m    347\u001b[39m     rho_pl = rho_g(Tg)+rho_e(Tg)\n\u001b[32m--> \u001b[39m\u001b[32m348\u001b[39m     p_pl = rho_g(Tg)/\u001b[32m3.\u001b[39m+\u001b[43mp_e\u001b[49m\u001b[43m(\u001b[49m\u001b[43mTg\u001b[49m\u001b[43m)\u001b[49m\n\u001b[32m    349\u001b[39m     delta_rho_QED = Tg*dPdT(Tg)-PofT(Tg)\n\u001b[32m    350\u001b[39m     delta_p_QED = PofT(Tg)\n",
      "\u001b[36mFile \u001b[39m\u001b[32m/dfs6/pub/ahewitt1/Stasis/Stasis_prym/PRyM/PRyM_thermo.py:269\u001b[39m, in \u001b[36mp_e\u001b[39m\u001b[34m(Tg)\u001b[39m\n\u001b[32m    267\u001b[39m     \u001b[38;5;28;01mreturn\u001b[39;00m \u001b[32m0.0\u001b[39m\n\u001b[32m    268\u001b[39m \u001b[38;5;28;01melse\u001b[39;00m:\n\u001b[32m--> \u001b[39m\u001b[32m269\u001b[39m     res_int = \u001b[43mquad\u001b[49m\u001b[43m(\u001b[49m\u001b[43mp_e_int\u001b[49m\u001b[43m,\u001b[49m\u001b[43mPRyMini\u001b[49m\u001b[43m.\u001b[49m\u001b[43mme\u001b[49m\u001b[43m/\u001b[49m\u001b[43mTg\u001b[49m\u001b[43m,\u001b[49m\u001b[32;43m100.\u001b[39;49m\u001b[43m,\u001b[49m\u001b[43margs\u001b[49m\u001b[43m=\u001b[49m\u001b[43m(\u001b[49m\u001b[43mTg\u001b[49m\u001b[43m)\u001b[49m\u001b[43m,\u001b[49m\u001b[43mepsabs\u001b[49m\u001b[43m=\u001b[49m\u001b[32;43m1e-12\u001b[39;49m\u001b[43m,\u001b[49m\u001b[43mepsrel\u001b[49m\u001b[43m=\u001b[49m\u001b[32;43m1e-12\u001b[39;49m\u001b[43m)\u001b[49m[\u001b[32m0\u001b[39m]\n\u001b[32m    270\u001b[39m     \u001b[38;5;28;01mreturn\u001b[39;00m \u001b[32m4.\u001b[39m/(\u001b[32m6\u001b[39m*np.pi**\u001b[32m2\u001b[39m)*Tg**\u001b[32m4\u001b[39m*res_int\n",
      "\u001b[36mFile \u001b[39m\u001b[32m/pub/ahewitt1/Stasis/.venv/lib64/python3.11/site-packages/scipy/integrate/_quadpack_py.py:460\u001b[39m, in \u001b[36mquad\u001b[39m\u001b[34m(func, a, b, args, full_output, epsabs, epsrel, limit, points, weight, wvar, wopts, maxp1, limlst, complex_func)\u001b[39m\n\u001b[32m    457\u001b[39m     \u001b[38;5;28;01mreturn\u001b[39;00m retval\n\u001b[32m    459\u001b[39m \u001b[38;5;28;01mif\u001b[39;00m weight \u001b[38;5;129;01mis\u001b[39;00m \u001b[38;5;28;01mNone\u001b[39;00m:\n\u001b[32m--> \u001b[39m\u001b[32m460\u001b[39m     retval = \u001b[43m_quad\u001b[49m\u001b[43m(\u001b[49m\u001b[43mfunc\u001b[49m\u001b[43m,\u001b[49m\u001b[43m \u001b[49m\u001b[43ma\u001b[49m\u001b[43m,\u001b[49m\u001b[43m \u001b[49m\u001b[43mb\u001b[49m\u001b[43m,\u001b[49m\u001b[43m \u001b[49m\u001b[43margs\u001b[49m\u001b[43m,\u001b[49m\u001b[43m \u001b[49m\u001b[43mfull_output\u001b[49m\u001b[43m,\u001b[49m\u001b[43m \u001b[49m\u001b[43mepsabs\u001b[49m\u001b[43m,\u001b[49m\u001b[43m \u001b[49m\u001b[43mepsrel\u001b[49m\u001b[43m,\u001b[49m\u001b[43m \u001b[49m\u001b[43mlimit\u001b[49m\u001b[43m,\u001b[49m\n\u001b[32m    461\u001b[39m \u001b[43m                   \u001b[49m\u001b[43mpoints\u001b[49m\u001b[43m)\u001b[49m\n\u001b[32m    462\u001b[39m \u001b[38;5;28;01melse\u001b[39;00m:\n\u001b[32m    463\u001b[39m     \u001b[38;5;28;01mif\u001b[39;00m points \u001b[38;5;129;01mis\u001b[39;00m \u001b[38;5;129;01mnot\u001b[39;00m \u001b[38;5;28;01mNone\u001b[39;00m:\n",
      "\u001b[36mFile \u001b[39m\u001b[32m/pub/ahewitt1/Stasis/.venv/lib64/python3.11/site-packages/scipy/integrate/_quadpack_py.py:607\u001b[39m, in \u001b[36m_quad\u001b[39m\u001b[34m(func, a, b, args, full_output, epsabs, epsrel, limit, points)\u001b[39m\n\u001b[32m    605\u001b[39m \u001b[38;5;28;01mif\u001b[39;00m points \u001b[38;5;129;01mis\u001b[39;00m \u001b[38;5;28;01mNone\u001b[39;00m:\n\u001b[32m    606\u001b[39m     \u001b[38;5;28;01mif\u001b[39;00m infbounds == \u001b[32m0\u001b[39m:\n\u001b[32m--> \u001b[39m\u001b[32m607\u001b[39m         \u001b[38;5;28;01mreturn\u001b[39;00m \u001b[43m_quadpack\u001b[49m\u001b[43m.\u001b[49m\u001b[43m_qagse\u001b[49m\u001b[43m(\u001b[49m\u001b[43mfunc\u001b[49m\u001b[43m,\u001b[49m\u001b[43ma\u001b[49m\u001b[43m,\u001b[49m\u001b[43mb\u001b[49m\u001b[43m,\u001b[49m\u001b[43margs\u001b[49m\u001b[43m,\u001b[49m\u001b[43mfull_output\u001b[49m\u001b[43m,\u001b[49m\u001b[43mepsabs\u001b[49m\u001b[43m,\u001b[49m\u001b[43mepsrel\u001b[49m\u001b[43m,\u001b[49m\u001b[43mlimit\u001b[49m\u001b[43m)\u001b[49m\n\u001b[32m    608\u001b[39m     \u001b[38;5;28;01melse\u001b[39;00m:\n\u001b[32m    609\u001b[39m         \u001b[38;5;28;01mreturn\u001b[39;00m _quadpack._qagie(func, bound, infbounds, args, full_output, \n\u001b[32m    610\u001b[39m                                 epsabs, epsrel, limit)\n",
      "\u001b[31mKeyboardInterrupt\u001b[39m: "
     ]
    }
   ],
   "source": [
    "'''gamma = random.uniform(4,8)\n",
    "delta = random.uniform(0,3)\n",
    "alpha = (2/7)*gamma - (1/delta)\n",
    "delm = random.uniform(1,10)\n",
    "m0 = delm\n",
    "fplas = random.uniform(0.1,1)\n",
    "f = random.uniform(0.1,1)\n",
    "Tend = random.uniform(1, 10)\n",
    "Nspecies = int(random.randint(1, 20))\n",
    "#PRyMini.stasis_params\n",
    "#print(Nspecies)\n",
    "#initialize params\n",
    "params = [gamma,delta,delm,fplas,f,Tend,Nspecies]\n",
    "chi2_fn(params)'''"
   ]
  },
  {
   "cell_type": "code",
   "execution_count": null,
   "id": "d4c0cebd",
   "metadata": {},
   "outputs": [
    {
     "name": "stdout",
     "output_type": "stream",
     "text": [
      "19\n",
      "{'gamma': np.float64(4.733232563550961), 'delta': np.float64(2.413703625087335), 'm0': np.float64(8.72149004071636), 'Delta_m': np.float64(8.72149004071636), 'N_SPECIES': 19, 'GAMMA_OVER_H': 100000.0, 'stasis_end_mev': np.float64(1.3619708154105123), 'tiny_radiation': np.float64(0.9053552727974801), 'plasma_inject_frac': np.float64(0.22748234321992722), 'alpha': np.float64(0.9380510887510518)}\n",
      "{'gamma': np.float64(4.733232578452122), 'delta': np.float64(2.413703625087335), 'm0': np.float64(8.72149004071636), 'Delta_m': np.float64(8.72149004071636), 'N_SPECIES': 19, 'GAMMA_OVER_H': 100000.0, 'stasis_end_mev': np.float64(1.3619708154105123), 'tiny_radiation': np.float64(0.9053552727974801), 'plasma_inject_frac': np.float64(0.22748234321992722), 'alpha': np.float64(0.9380510887510518)}\n",
      "{'gamma': np.float64(4.733232563550961), 'delta': np.float64(2.4137036399884964), 'm0': np.float64(8.72149004071636), 'Delta_m': np.float64(8.72149004071636), 'N_SPECIES': 19, 'GAMMA_OVER_H': 100000.0, 'stasis_end_mev': np.float64(1.3619708154105123), 'tiny_radiation': np.float64(0.9053552727974801), 'plasma_inject_frac': np.float64(0.22748234321992722), 'alpha': np.float64(0.9380510887510518)}\n",
      "{'gamma': np.float64(4.733232563550961), 'delta': np.float64(2.413703625087335), 'm0': np.float64(8.72149004071636), 'Delta_m': np.float64(8.72149004071636), 'N_SPECIES': 19, 'GAMMA_OVER_H': 100000.0, 'stasis_end_mev': np.float64(1.3619708154105123), 'tiny_radiation': np.float64(0.9053552727974801), 'plasma_inject_frac': np.float64(0.22748234321992722), 'alpha': np.float64(0.938051103652213)}\n",
      "{'gamma': np.float64(4.733232563550961), 'delta': np.float64(2.413703625087335), 'm0': np.float64(8.72149004071636), 'Delta_m': np.float64(8.72149005561752), 'N_SPECIES': 19, 'GAMMA_OVER_H': 100000.0, 'stasis_end_mev': np.float64(1.3619708154105123), 'tiny_radiation': np.float64(0.9053552727974801), 'plasma_inject_frac': np.float64(0.22748234321992722), 'alpha': np.float64(0.9380510887510518)}\n",
      "{'gamma': np.float64(4.733232563550961), 'delta': np.float64(2.413703625087335), 'm0': np.float64(8.72149005561752), 'Delta_m': np.float64(8.72149004071636), 'N_SPECIES': 19, 'GAMMA_OVER_H': 100000.0, 'stasis_end_mev': np.float64(1.3619708154105123), 'tiny_radiation': np.float64(0.9053552727974801), 'plasma_inject_frac': np.float64(0.22748234321992722), 'alpha': np.float64(0.9380510887510518)}\n",
      "{'gamma': np.float64(4.733232563550961), 'delta': np.float64(2.413703625087335), 'm0': np.float64(8.72149004071636), 'Delta_m': np.float64(8.72149004071636), 'N_SPECIES': 19, 'GAMMA_OVER_H': 100000.0, 'stasis_end_mev': np.float64(1.3619708154105123), 'tiny_radiation': np.float64(0.9053552727974801), 'plasma_inject_frac': np.float64(0.2274823581210884), 'alpha': np.float64(0.9380510887510518)}\n",
      "{'gamma': np.float64(4.733232563550961), 'delta': np.float64(2.413703625087335), 'm0': np.float64(8.72149004071636), 'Delta_m': np.float64(8.72149004071636), 'N_SPECIES': 19, 'GAMMA_OVER_H': 100000.0, 'stasis_end_mev': np.float64(1.3619708154105123), 'tiny_radiation': np.float64(0.9053552876986413), 'plasma_inject_frac': np.float64(0.22748234321992722), 'alpha': np.float64(0.9380510887510518)}\n",
      "{'gamma': np.float64(4.733232563550961), 'delta': np.float64(2.413703625087335), 'm0': np.float64(8.72149004071636), 'Delta_m': np.float64(8.72149004071636), 'N_SPECIES': 19, 'GAMMA_OVER_H': 100000.0, 'stasis_end_mev': np.float64(1.3619708303116735), 'tiny_radiation': np.float64(0.9053552727974801), 'plasma_inject_frac': np.float64(0.22748234321992722), 'alpha': np.float64(0.9380510887510518)}\n",
      "{'gamma': np.float64(4.733232563550961), 'delta': np.float64(2.413703625087335), 'm0': np.float64(8.72149004071636), 'Delta_m': np.float64(8.72149004071636), 'N_SPECIES': 19, 'GAMMA_OVER_H': 100000.0, 'stasis_end_mev': np.float64(1.3619708154105123), 'tiny_radiation': np.float64(0.9053552727974801), 'plasma_inject_frac': np.float64(0.22748234321992722), 'alpha': np.float64(0.9380510887510518)}\n",
      "{'gamma': np.float64(3.745599472860341), 'delta': np.float64(2.413703625087335), 'm0': np.float64(8.713000212613467), 'Delta_m': np.float64(8.710739998991503), 'N_SPECIES': 19, 'GAMMA_OVER_H': 100000.0, 'stasis_end_mev': np.float64(1.3628213691278155), 'tiny_radiation': np.float64(0.6944437848860417), 'plasma_inject_frac': np.float64(0.228103325400361), 'alpha': np.float64(0.9351402811174345)}\n",
      "{'gamma': np.float64(3.745599487761502), 'delta': np.float64(2.413703625087335), 'm0': np.float64(8.713000212613467), 'Delta_m': np.float64(8.710739998991503), 'N_SPECIES': 19, 'GAMMA_OVER_H': 100000.0, 'stasis_end_mev': np.float64(1.3628213691278155), 'tiny_radiation': np.float64(0.6944437848860417), 'plasma_inject_frac': np.float64(0.228103325400361), 'alpha': np.float64(0.9351402811174345)}\n",
      "{'gamma': np.float64(3.745599472860341), 'delta': np.float64(2.4137036399884964), 'm0': np.float64(8.713000212613467), 'Delta_m': np.float64(8.710739998991503), 'N_SPECIES': 19, 'GAMMA_OVER_H': 100000.0, 'stasis_end_mev': np.float64(1.3628213691278155), 'tiny_radiation': np.float64(0.6944437848860417), 'plasma_inject_frac': np.float64(0.228103325400361), 'alpha': np.float64(0.9351402811174345)}\n",
      "{'gamma': np.float64(3.745599472860341), 'delta': np.float64(2.413703625087335), 'm0': np.float64(8.713000212613467), 'Delta_m': np.float64(8.710739998991503), 'N_SPECIES': 19, 'GAMMA_OVER_H': 100000.0, 'stasis_end_mev': np.float64(1.3628213691278155), 'tiny_radiation': np.float64(0.6944437848860417), 'plasma_inject_frac': np.float64(0.228103325400361), 'alpha': np.float64(0.9351402960185957)}\n",
      "{'gamma': np.float64(3.745599472860341), 'delta': np.float64(2.413703625087335), 'm0': np.float64(8.713000212613467), 'Delta_m': np.float64(8.710740013892664), 'N_SPECIES': 19, 'GAMMA_OVER_H': 100000.0, 'stasis_end_mev': np.float64(1.3628213691278155), 'tiny_radiation': np.float64(0.6944437848860417), 'plasma_inject_frac': np.float64(0.228103325400361), 'alpha': np.float64(0.9351402811174345)}\n",
      "{'gamma': np.float64(3.745599472860341), 'delta': np.float64(2.413703625087335), 'm0': np.float64(8.713000227514629), 'Delta_m': np.float64(8.710739998991503), 'N_SPECIES': 19, 'GAMMA_OVER_H': 100000.0, 'stasis_end_mev': np.float64(1.3628213691278155), 'tiny_radiation': np.float64(0.6944437848860417), 'plasma_inject_frac': np.float64(0.228103325400361), 'alpha': np.float64(0.9351402811174345)}\n",
      "{'gamma': np.float64(3.745599472860341), 'delta': np.float64(2.413703625087335), 'm0': np.float64(8.713000212613467), 'Delta_m': np.float64(8.710739998991503), 'N_SPECIES': 19, 'GAMMA_OVER_H': 100000.0, 'stasis_end_mev': np.float64(1.3628213691278155), 'tiny_radiation': np.float64(0.6944437848860417), 'plasma_inject_frac': np.float64(0.22810334030152218), 'alpha': np.float64(0.9351402811174345)}\n",
      "{'gamma': np.float64(3.745599472860341), 'delta': np.float64(2.413703625087335), 'm0': np.float64(8.713000212613467), 'Delta_m': np.float64(8.710739998991503), 'N_SPECIES': 19, 'GAMMA_OVER_H': 100000.0, 'stasis_end_mev': np.float64(1.3628213691278155), 'tiny_radiation': np.float64(0.6944437997872029), 'plasma_inject_frac': np.float64(0.228103325400361), 'alpha': np.float64(0.9351402811174345)}\n",
      "{'gamma': np.float64(3.745599472860341), 'delta': np.float64(2.413703625087335), 'm0': np.float64(8.713000212613467), 'Delta_m': np.float64(8.710739998991503), 'N_SPECIES': 19, 'GAMMA_OVER_H': 100000.0, 'stasis_end_mev': np.float64(1.3628213840289767), 'tiny_radiation': np.float64(0.6944437848860417), 'plasma_inject_frac': np.float64(0.228103325400361), 'alpha': np.float64(0.9351402811174345)}\n",
      "{'gamma': np.float64(3.745599472860341), 'delta': np.float64(2.413703625087335), 'm0': np.float64(8.713000212613467), 'Delta_m': np.float64(8.710739998991503), 'N_SPECIES': 19, 'GAMMA_OVER_H': 100000.0, 'stasis_end_mev': np.float64(1.3628213691278155), 'tiny_radiation': np.float64(0.6944437848860417), 'plasma_inject_frac': np.float64(0.228103325400361), 'alpha': np.float64(0.9351402811174345)}\n",
      "{'gamma': np.float64(4.390862430362097), 'delta': np.float64(2.413703625087335), 'm0': np.float64(8.718546980580227), 'Delta_m': np.float64(8.717763461228676), 'N_SPECIES': 19, 'GAMMA_OVER_H': 100000.0, 'stasis_end_mev': np.float64(1.3622656659903707), 'tiny_radiation': np.float64(0.8322412845280039), 'plasma_inject_frac': np.float64(0.2276976111709781), 'alpha': np.float64(0.9370420362936136)}\n",
      "{'gamma': np.float64(4.3908624452632585), 'delta': np.float64(2.413703625087335), 'm0': np.float64(8.718546980580227), 'Delta_m': np.float64(8.717763461228676), 'N_SPECIES': 19, 'GAMMA_OVER_H': 100000.0, 'stasis_end_mev': np.float64(1.3622656659903707), 'tiny_radiation': np.float64(0.8322412845280039), 'plasma_inject_frac': np.float64(0.2276976111709781), 'alpha': np.float64(0.9370420362936136)}\n",
      "{'gamma': np.float64(4.390862430362097), 'delta': np.float64(2.4137036399884964), 'm0': np.float64(8.718546980580227), 'Delta_m': np.float64(8.717763461228676), 'N_SPECIES': 19, 'GAMMA_OVER_H': 100000.0, 'stasis_end_mev': np.float64(1.3622656659903707), 'tiny_radiation': np.float64(0.8322412845280039), 'plasma_inject_frac': np.float64(0.2276976111709781), 'alpha': np.float64(0.9370420362936136)}\n",
      "{'gamma': np.float64(4.390862430362097), 'delta': np.float64(2.413703625087335), 'm0': np.float64(8.718546980580227), 'Delta_m': np.float64(8.717763461228676), 'N_SPECIES': 19, 'GAMMA_OVER_H': 100000.0, 'stasis_end_mev': np.float64(1.3622656659903707), 'tiny_radiation': np.float64(0.8322412845280039), 'plasma_inject_frac': np.float64(0.2276976111709781), 'alpha': np.float64(0.9370420511947748)}\n",
      "{'gamma': np.float64(4.390862430362097), 'delta': np.float64(2.413703625087335), 'm0': np.float64(8.718546980580227), 'Delta_m': np.float64(8.717763476129837), 'N_SPECIES': 19, 'GAMMA_OVER_H': 100000.0, 'stasis_end_mev': np.float64(1.3622656659903707), 'tiny_radiation': np.float64(0.8322412845280039), 'plasma_inject_frac': np.float64(0.2276976111709781), 'alpha': np.float64(0.9370420362936136)}\n",
      "{'gamma': np.float64(4.390862430362097), 'delta': np.float64(2.413703625087335), 'm0': np.float64(8.718546995481388), 'Delta_m': np.float64(8.717763461228676), 'N_SPECIES': 19, 'GAMMA_OVER_H': 100000.0, 'stasis_end_mev': np.float64(1.3622656659903707), 'tiny_radiation': np.float64(0.8322412845280039), 'plasma_inject_frac': np.float64(0.2276976111709781), 'alpha': np.float64(0.9370420362936136)}\n",
      "{'gamma': np.float64(4.390862430362097), 'delta': np.float64(2.413703625087335), 'm0': np.float64(8.718546980580227), 'Delta_m': np.float64(8.717763461228676), 'N_SPECIES': 19, 'GAMMA_OVER_H': 100000.0, 'stasis_end_mev': np.float64(1.3622656659903707), 'tiny_radiation': np.float64(0.8322412845280039), 'plasma_inject_frac': np.float64(0.22769762607213928), 'alpha': np.float64(0.9370420362936136)}\n",
      "{'gamma': np.float64(4.390862430362097), 'delta': np.float64(2.413703625087335), 'm0': np.float64(8.718546980580227), 'Delta_m': np.float64(8.717763461228676), 'N_SPECIES': 19, 'GAMMA_OVER_H': 100000.0, 'stasis_end_mev': np.float64(1.3622656659903707), 'tiny_radiation': np.float64(0.8322412994291651), 'plasma_inject_frac': np.float64(0.2276976111709781), 'alpha': np.float64(0.9370420362936136)}\n",
      "{'gamma': np.float64(4.390862430362097), 'delta': np.float64(2.413703625087335), 'm0': np.float64(8.718546980580227), 'Delta_m': np.float64(8.717763461228676), 'N_SPECIES': 19, 'GAMMA_OVER_H': 100000.0, 'stasis_end_mev': np.float64(1.3622656808915319), 'tiny_radiation': np.float64(0.8322412845280039), 'plasma_inject_frac': np.float64(0.2276976111709781), 'alpha': np.float64(0.9370420362936136)}\n",
      "{'gamma': np.float64(4.390862430362097), 'delta': np.float64(2.413703625087335), 'm0': np.float64(8.718546980580227), 'Delta_m': np.float64(8.717763461228676), 'N_SPECIES': 19, 'GAMMA_OVER_H': 100000.0, 'stasis_end_mev': np.float64(1.3622656659903707), 'tiny_radiation': np.float64(0.8322412845280039), 'plasma_inject_frac': np.float64(0.2276976111709781), 'alpha': np.float64(0.9370420362936136)}\n",
      "{'gamma': np.float64(4.650918054606636), 'delta': np.float64(2.413703625087335), 'm0': np.float64(8.720782454024603), 'Delta_m': np.float64(8.720594075996209), 'N_SPECIES': 19, 'GAMMA_OVER_H': 100000.0, 'stasis_end_mev': np.float64(1.3620417050072973), 'tiny_radiation': np.float64(0.8877768059338326), 'plasma_inject_frac': np.float64(0.2275340991237415), 'alpha': np.float64(0.9378084868139043)}\n",
      "{'gamma': np.float64(4.650918069507798), 'delta': np.float64(2.413703625087335), 'm0': np.float64(8.720782454024603), 'Delta_m': np.float64(8.720594075996209), 'N_SPECIES': 19, 'GAMMA_OVER_H': 100000.0, 'stasis_end_mev': np.float64(1.3620417050072973), 'tiny_radiation': np.float64(0.8877768059338326), 'plasma_inject_frac': np.float64(0.2275340991237415), 'alpha': np.float64(0.9378084868139043)}\n",
      "{'gamma': np.float64(4.650918054606636), 'delta': np.float64(2.4137036399884964), 'm0': np.float64(8.720782454024603), 'Delta_m': np.float64(8.720594075996209), 'N_SPECIES': 19, 'GAMMA_OVER_H': 100000.0, 'stasis_end_mev': np.float64(1.3620417050072973), 'tiny_radiation': np.float64(0.8877768059338326), 'plasma_inject_frac': np.float64(0.2275340991237415), 'alpha': np.float64(0.9378084868139043)}\n",
      "{'gamma': np.float64(4.650918054606636), 'delta': np.float64(2.413703625087335), 'm0': np.float64(8.720782454024603), 'Delta_m': np.float64(8.720594075996209), 'N_SPECIES': 19, 'GAMMA_OVER_H': 100000.0, 'stasis_end_mev': np.float64(1.3620417050072973), 'tiny_radiation': np.float64(0.8877768059338326), 'plasma_inject_frac': np.float64(0.2275340991237415), 'alpha': np.float64(0.9378085017150655)}\n",
      "{'gamma': np.float64(4.650918054606636), 'delta': np.float64(2.413703625087335), 'm0': np.float64(8.720782454024603), 'Delta_m': np.float64(8.72059409089737), 'N_SPECIES': 19, 'GAMMA_OVER_H': 100000.0, 'stasis_end_mev': np.float64(1.3620417050072973), 'tiny_radiation': np.float64(0.8877768059338326), 'plasma_inject_frac': np.float64(0.2275340991237415), 'alpha': np.float64(0.9378084868139043)}\n",
      "{'gamma': np.float64(4.650918054606636), 'delta': np.float64(2.413703625087335), 'm0': np.float64(8.720782468925764), 'Delta_m': np.float64(8.720594075996209), 'N_SPECIES': 19, 'GAMMA_OVER_H': 100000.0, 'stasis_end_mev': np.float64(1.3620417050072973), 'tiny_radiation': np.float64(0.8877768059338326), 'plasma_inject_frac': np.float64(0.2275340991237415), 'alpha': np.float64(0.9378084868139043)}\n",
      "{'gamma': np.float64(4.650918054606636), 'delta': np.float64(2.413703625087335), 'm0': np.float64(8.720782454024603), 'Delta_m': np.float64(8.720594075996209), 'N_SPECIES': 19, 'GAMMA_OVER_H': 100000.0, 'stasis_end_mev': np.float64(1.3620417050072973), 'tiny_radiation': np.float64(0.8877768059338326), 'plasma_inject_frac': np.float64(0.2275341140249027), 'alpha': np.float64(0.9378084868139043)}\n",
      "{'gamma': np.float64(4.650918054606636), 'delta': np.float64(2.413703625087335), 'm0': np.float64(8.720782454024603), 'Delta_m': np.float64(8.720594075996209), 'N_SPECIES': 19, 'GAMMA_OVER_H': 100000.0, 'stasis_end_mev': np.float64(1.3620417050072973), 'tiny_radiation': np.float64(0.8877768208349938), 'plasma_inject_frac': np.float64(0.2275340991237415), 'alpha': np.float64(0.9378084868139043)}\n",
      "{'gamma': np.float64(4.650918054606636), 'delta': np.float64(2.413703625087335), 'm0': np.float64(8.720782454024603), 'Delta_m': np.float64(8.720594075996209), 'N_SPECIES': 19, 'GAMMA_OVER_H': 100000.0, 'stasis_end_mev': np.float64(1.3620417199084585), 'tiny_radiation': np.float64(0.8877768059338326), 'plasma_inject_frac': np.float64(0.2275340991237415), 'alpha': np.float64(0.9378084868139043)}\n",
      "{'gamma': np.float64(4.650918054606636), 'delta': np.float64(2.413703625087335), 'm0': np.float64(8.720782454024603), 'Delta_m': np.float64(8.720594075996209), 'N_SPECIES': 19, 'GAMMA_OVER_H': 100000.0, 'stasis_end_mev': np.float64(1.3620417050072973), 'tiny_radiation': np.float64(0.8877768059338326), 'plasma_inject_frac': np.float64(0.2275340991237415), 'alpha': np.float64(0.9378084868139043)}\n",
      "{'gamma': np.float64(4.7102878271339135), 'delta': np.float64(2.413703625087335), 'm0': np.float64(8.721292804647739), 'Delta_m': np.float64(8.72124029526314), 'N_SPECIES': 19, 'GAMMA_OVER_H': 100000.0, 'stasis_end_mev': np.float64(1.3619905755127568), 'tiny_radiation': np.float64(0.9004553676170337), 'plasma_inject_frac': np.float64(0.22749676990589393), 'alpha': np.float64(0.9379834647370899)}\n"
     ]
    },
    {
     "ename": "KeyboardInterrupt",
     "evalue": "",
     "output_type": "error",
     "traceback": [
      "\u001b[31m---------------------------------------------------------------------------\u001b[39m",
      "\u001b[31mKeyboardInterrupt\u001b[39m                         Traceback (most recent call last)",
      "\u001b[36mCell\u001b[39m\u001b[36m \u001b[39m\u001b[32mIn[8]\u001b[39m\u001b[32m, line 24\u001b[39m\n\u001b[32m     18\u001b[39m params = [gamma,delta,alpha,delm,m0,fplas,f,Tend,Nspecies]\n\u001b[32m     20\u001b[39m \u001b[38;5;66;03m# Initial guess\u001b[39;00m\n\u001b[32m     21\u001b[39m \u001b[38;5;66;03m#x0 = np.array([0.0, 0.0])\u001b[39;00m\n\u001b[32m     22\u001b[39m \n\u001b[32m     23\u001b[39m \u001b[38;5;66;03m# Minimize\u001b[39;00m\n\u001b[32m---> \u001b[39m\u001b[32m24\u001b[39m res = \u001b[43mminimize\u001b[49m\u001b[43m(\u001b[49m\u001b[43mchi2_fn\u001b[49m\u001b[43m,\u001b[49m\u001b[43m \u001b[49m\u001b[43mparams\u001b[49m\u001b[43m,\u001b[49m\u001b[43m \u001b[49m\u001b[43mmethod\u001b[49m\u001b[43m=\u001b[49m\u001b[33;43m'\u001b[39;49m\u001b[33;43mBFGS\u001b[39;49m\u001b[33;43m'\u001b[39;49m\u001b[43m)\u001b[49m\n",
      "\u001b[36mFile \u001b[39m\u001b[32m/pub/ahewitt1/Stasis/.venv/lib64/python3.11/site-packages/scipy/optimize/_minimize.py:780\u001b[39m, in \u001b[36mminimize\u001b[39m\u001b[34m(fun, x0, args, method, jac, hess, hessp, bounds, constraints, tol, callback, options)\u001b[39m\n\u001b[32m    778\u001b[39m     res = _minimize_cg(fun, x0, args, jac, callback, **options)\n\u001b[32m    779\u001b[39m \u001b[38;5;28;01melif\u001b[39;00m meth == \u001b[33m'\u001b[39m\u001b[33mbfgs\u001b[39m\u001b[33m'\u001b[39m:\n\u001b[32m--> \u001b[39m\u001b[32m780\u001b[39m     res = \u001b[43m_minimize_bfgs\u001b[49m\u001b[43m(\u001b[49m\u001b[43mfun\u001b[49m\u001b[43m,\u001b[49m\u001b[43m \u001b[49m\u001b[43mx0\u001b[49m\u001b[43m,\u001b[49m\u001b[43m \u001b[49m\u001b[43margs\u001b[49m\u001b[43m,\u001b[49m\u001b[43m \u001b[49m\u001b[43mjac\u001b[49m\u001b[43m,\u001b[49m\u001b[43m \u001b[49m\u001b[43mcallback\u001b[49m\u001b[43m,\u001b[49m\u001b[43m \u001b[49m\u001b[43m*\u001b[49m\u001b[43m*\u001b[49m\u001b[43moptions\u001b[49m\u001b[43m)\u001b[49m\n\u001b[32m    781\u001b[39m \u001b[38;5;28;01melif\u001b[39;00m meth == \u001b[33m'\u001b[39m\u001b[33mnewton-cg\u001b[39m\u001b[33m'\u001b[39m:\n\u001b[32m    782\u001b[39m     res = _minimize_newtoncg(fun, x0, args, jac, hess, hessp, callback,\n\u001b[32m    783\u001b[39m                              **options)\n",
      "\u001b[36mFile \u001b[39m\u001b[32m/pub/ahewitt1/Stasis/.venv/lib64/python3.11/site-packages/scipy/optimize/_optimize.py:1443\u001b[39m, in \u001b[36m_minimize_bfgs\u001b[39m\u001b[34m(fun, x0, args, jac, callback, gtol, norm, eps, maxiter, disp, return_all, finite_diff_rel_step, xrtol, c1, c2, hess_inv0, workers, **unknown_options)\u001b[39m\n\u001b[32m   1440\u001b[39m pk = -np.dot(Hk, gfk)\n\u001b[32m   1441\u001b[39m \u001b[38;5;28;01mtry\u001b[39;00m:\n\u001b[32m   1442\u001b[39m     alpha_k, fc, gc, old_fval, old_old_fval, gfkp1 = \\\n\u001b[32m-> \u001b[39m\u001b[32m1443\u001b[39m              \u001b[43m_line_search_wolfe12\u001b[49m\u001b[43m(\u001b[49m\u001b[43mf\u001b[49m\u001b[43m,\u001b[49m\u001b[43m \u001b[49m\u001b[43mmyfprime\u001b[49m\u001b[43m,\u001b[49m\u001b[43m \u001b[49m\u001b[43mxk\u001b[49m\u001b[43m,\u001b[49m\u001b[43m \u001b[49m\u001b[43mpk\u001b[49m\u001b[43m,\u001b[49m\u001b[43m \u001b[49m\u001b[43mgfk\u001b[49m\u001b[43m,\u001b[49m\n\u001b[32m   1444\u001b[39m \u001b[43m                                  \u001b[49m\u001b[43mold_fval\u001b[49m\u001b[43m,\u001b[49m\u001b[43m \u001b[49m\u001b[43mold_old_fval\u001b[49m\u001b[43m,\u001b[49m\u001b[43m \u001b[49m\u001b[43mamin\u001b[49m\u001b[43m=\u001b[49m\u001b[32;43m1e-100\u001b[39;49m\u001b[43m,\u001b[49m\n\u001b[32m   1445\u001b[39m \u001b[43m                                  \u001b[49m\u001b[43mamax\u001b[49m\u001b[43m=\u001b[49m\u001b[32;43m1e100\u001b[39;49m\u001b[43m,\u001b[49m\u001b[43m \u001b[49m\u001b[43mc1\u001b[49m\u001b[43m=\u001b[49m\u001b[43mc1\u001b[49m\u001b[43m,\u001b[49m\u001b[43m \u001b[49m\u001b[43mc2\u001b[49m\u001b[43m=\u001b[49m\u001b[43mc2\u001b[49m\u001b[43m)\u001b[49m\n\u001b[32m   1446\u001b[39m \u001b[38;5;28;01mexcept\u001b[39;00m _LineSearchError:\n\u001b[32m   1447\u001b[39m     \u001b[38;5;66;03m# Line search failed to find a better solution.\u001b[39;00m\n\u001b[32m   1448\u001b[39m     warnflag = \u001b[32m2\u001b[39m\n",
      "\u001b[36mFile \u001b[39m\u001b[32m/pub/ahewitt1/Stasis/.venv/lib64/python3.11/site-packages/scipy/optimize/_optimize.py:1172\u001b[39m, in \u001b[36m_line_search_wolfe12\u001b[39m\u001b[34m(f, fprime, xk, pk, gfk, old_fval, old_old_fval, **kwargs)\u001b[39m\n\u001b[32m   1158\u001b[39m \u001b[38;5;250m\u001b[39m\u001b[33;03m\"\"\"\u001b[39;00m\n\u001b[32m   1159\u001b[39m \u001b[33;03mSame as line_search_wolfe1, but fall back to line_search_wolfe2 if\u001b[39;00m\n\u001b[32m   1160\u001b[39m \u001b[33;03msuitable step length is not found, and raise an exception if a\u001b[39;00m\n\u001b[32m   (...)\u001b[39m\u001b[32m   1167\u001b[39m \n\u001b[32m   1168\u001b[39m \u001b[33;03m\"\"\"\u001b[39;00m\n\u001b[32m   1170\u001b[39m extra_condition = kwargs.pop(\u001b[33m'\u001b[39m\u001b[33mextra_condition\u001b[39m\u001b[33m'\u001b[39m, \u001b[38;5;28;01mNone\u001b[39;00m)\n\u001b[32m-> \u001b[39m\u001b[32m1172\u001b[39m ret = \u001b[43mline_search_wolfe1\u001b[49m\u001b[43m(\u001b[49m\u001b[43mf\u001b[49m\u001b[43m,\u001b[49m\u001b[43m \u001b[49m\u001b[43mfprime\u001b[49m\u001b[43m,\u001b[49m\u001b[43m \u001b[49m\u001b[43mxk\u001b[49m\u001b[43m,\u001b[49m\u001b[43m \u001b[49m\u001b[43mpk\u001b[49m\u001b[43m,\u001b[49m\u001b[43m \u001b[49m\u001b[43mgfk\u001b[49m\u001b[43m,\u001b[49m\n\u001b[32m   1173\u001b[39m \u001b[43m                         \u001b[49m\u001b[43mold_fval\u001b[49m\u001b[43m,\u001b[49m\u001b[43m \u001b[49m\u001b[43mold_old_fval\u001b[49m\u001b[43m,\u001b[49m\n\u001b[32m   1174\u001b[39m \u001b[43m                         \u001b[49m\u001b[43m*\u001b[49m\u001b[43m*\u001b[49m\u001b[43mkwargs\u001b[49m\u001b[43m)\u001b[49m\n\u001b[32m   1176\u001b[39m \u001b[38;5;28;01mif\u001b[39;00m ret[\u001b[32m0\u001b[39m] \u001b[38;5;129;01mis\u001b[39;00m \u001b[38;5;129;01mnot\u001b[39;00m \u001b[38;5;28;01mNone\u001b[39;00m \u001b[38;5;129;01mand\u001b[39;00m extra_condition \u001b[38;5;129;01mis\u001b[39;00m \u001b[38;5;129;01mnot\u001b[39;00m \u001b[38;5;28;01mNone\u001b[39;00m:\n\u001b[32m   1177\u001b[39m     xp1 = xk + ret[\u001b[32m0\u001b[39m] * pk\n",
      "\u001b[36mFile \u001b[39m\u001b[32m/pub/ahewitt1/Stasis/.venv/lib64/python3.11/site-packages/scipy/optimize/_linesearch.py:93\u001b[39m, in \u001b[36mline_search_wolfe1\u001b[39m\u001b[34m(f, fprime, xk, pk, gfk, old_fval, old_old_fval, args, c1, c2, amax, amin, xtol)\u001b[39m\n\u001b[32m     89\u001b[39m     \u001b[38;5;28;01mreturn\u001b[39;00m np.dot(gval[\u001b[32m0\u001b[39m], pk)\n\u001b[32m     91\u001b[39m derphi0 = np.dot(gfk, pk)\n\u001b[32m---> \u001b[39m\u001b[32m93\u001b[39m stp, fval, old_fval = \u001b[43mscalar_search_wolfe1\u001b[49m\u001b[43m(\u001b[49m\n\u001b[32m     94\u001b[39m \u001b[43m        \u001b[49m\u001b[43mphi\u001b[49m\u001b[43m,\u001b[49m\u001b[43m \u001b[49m\u001b[43mderphi\u001b[49m\u001b[43m,\u001b[49m\u001b[43m \u001b[49m\u001b[43mold_fval\u001b[49m\u001b[43m,\u001b[49m\u001b[43m \u001b[49m\u001b[43mold_old_fval\u001b[49m\u001b[43m,\u001b[49m\u001b[43m \u001b[49m\u001b[43mderphi0\u001b[49m\u001b[43m,\u001b[49m\n\u001b[32m     95\u001b[39m \u001b[43m        \u001b[49m\u001b[43mc1\u001b[49m\u001b[43m=\u001b[49m\u001b[43mc1\u001b[49m\u001b[43m,\u001b[49m\u001b[43m \u001b[49m\u001b[43mc2\u001b[49m\u001b[43m=\u001b[49m\u001b[43mc2\u001b[49m\u001b[43m,\u001b[49m\u001b[43m \u001b[49m\u001b[43mamax\u001b[49m\u001b[43m=\u001b[49m\u001b[43mamax\u001b[49m\u001b[43m,\u001b[49m\u001b[43m \u001b[49m\u001b[43mamin\u001b[49m\u001b[43m=\u001b[49m\u001b[43mamin\u001b[49m\u001b[43m,\u001b[49m\u001b[43m \u001b[49m\u001b[43mxtol\u001b[49m\u001b[43m=\u001b[49m\u001b[43mxtol\u001b[49m\u001b[43m)\u001b[49m\n\u001b[32m     97\u001b[39m \u001b[38;5;28;01mreturn\u001b[39;00m stp, fc[\u001b[32m0\u001b[39m], gc[\u001b[32m0\u001b[39m], fval, old_fval, gval[\u001b[32m0\u001b[39m]\n",
      "\u001b[36mFile \u001b[39m\u001b[32m/pub/ahewitt1/Stasis/.venv/lib64/python3.11/site-packages/scipy/optimize/_linesearch.py:170\u001b[39m, in \u001b[36mscalar_search_wolfe1\u001b[39m\u001b[34m(phi, derphi, phi0, old_phi0, derphi0, c1, c2, amax, amin, xtol)\u001b[39m\n\u001b[32m    167\u001b[39m maxiter = \u001b[32m100\u001b[39m\n\u001b[32m    169\u001b[39m dcsrch = DCSRCH(phi, derphi, c1, c2, xtol, amin, amax)\n\u001b[32m--> \u001b[39m\u001b[32m170\u001b[39m stp, phi1, phi0, task = \u001b[43mdcsrch\u001b[49m\u001b[43m(\u001b[49m\n\u001b[32m    171\u001b[39m \u001b[43m    \u001b[49m\u001b[43malpha1\u001b[49m\u001b[43m,\u001b[49m\u001b[43m \u001b[49m\u001b[43mphi0\u001b[49m\u001b[43m=\u001b[49m\u001b[43mphi0\u001b[49m\u001b[43m,\u001b[49m\u001b[43m \u001b[49m\u001b[43mderphi0\u001b[49m\u001b[43m=\u001b[49m\u001b[43mderphi0\u001b[49m\u001b[43m,\u001b[49m\u001b[43m \u001b[49m\u001b[43mmaxiter\u001b[49m\u001b[43m=\u001b[49m\u001b[43mmaxiter\u001b[49m\n\u001b[32m    172\u001b[39m \u001b[43m\u001b[49m\u001b[43m)\u001b[49m\n\u001b[32m    174\u001b[39m \u001b[38;5;28;01mreturn\u001b[39;00m stp, phi1, phi0\n",
      "\u001b[36mFile \u001b[39m\u001b[32m/pub/ahewitt1/Stasis/.venv/lib64/python3.11/site-packages/scipy/optimize/_dcsrch.py:255\u001b[39m, in \u001b[36mDCSRCH.__call__\u001b[39m\u001b[34m(self, alpha1, phi0, derphi0, maxiter)\u001b[39m\n\u001b[32m    253\u001b[39m \u001b[38;5;28;01mif\u001b[39;00m task[:\u001b[32m2\u001b[39m] == \u001b[33mb\u001b[39m\u001b[33m\"\u001b[39m\u001b[33mFG\u001b[39m\u001b[33m\"\u001b[39m:\n\u001b[32m    254\u001b[39m     alpha1 = stp\n\u001b[32m--> \u001b[39m\u001b[32m255\u001b[39m     phi1 = \u001b[38;5;28;43mself\u001b[39;49m\u001b[43m.\u001b[49m\u001b[43mphi\u001b[49m\u001b[43m(\u001b[49m\u001b[43mstp\u001b[49m\u001b[43m)\u001b[49m\n\u001b[32m    256\u001b[39m     derphi1 = \u001b[38;5;28mself\u001b[39m.derphi(stp)\n\u001b[32m    257\u001b[39m \u001b[38;5;28;01melse\u001b[39;00m:\n",
      "\u001b[36mFile \u001b[39m\u001b[32m/pub/ahewitt1/Stasis/.venv/lib64/python3.11/site-packages/scipy/optimize/_linesearch.py:84\u001b[39m, in \u001b[36mline_search_wolfe1.<locals>.phi\u001b[39m\u001b[34m(s)\u001b[39m\n\u001b[32m     82\u001b[39m \u001b[38;5;28;01mdef\u001b[39;00m\u001b[38;5;250m \u001b[39m\u001b[34mphi\u001b[39m(s):\n\u001b[32m     83\u001b[39m     fc[\u001b[32m0\u001b[39m] += \u001b[32m1\u001b[39m\n\u001b[32m---> \u001b[39m\u001b[32m84\u001b[39m     \u001b[38;5;28;01mreturn\u001b[39;00m \u001b[43mf\u001b[49m\u001b[43m(\u001b[49m\u001b[43mxk\u001b[49m\u001b[43m \u001b[49m\u001b[43m+\u001b[49m\u001b[43m \u001b[49m\u001b[43ms\u001b[49m\u001b[43m*\u001b[49m\u001b[43mpk\u001b[49m\u001b[43m,\u001b[49m\u001b[43m \u001b[49m\u001b[43m*\u001b[49m\u001b[43margs\u001b[49m\u001b[43m)\u001b[49m\n",
      "\u001b[36mFile \u001b[39m\u001b[32m/pub/ahewitt1/Stasis/.venv/lib64/python3.11/site-packages/scipy/optimize/_differentiable_functions.py:385\u001b[39m, in \u001b[36mScalarFunction.fun\u001b[39m\u001b[34m(self, x)\u001b[39m\n\u001b[32m    383\u001b[39m \u001b[38;5;28;01mif\u001b[39;00m \u001b[38;5;129;01mnot\u001b[39;00m np.array_equal(x, \u001b[38;5;28mself\u001b[39m.x):\n\u001b[32m    384\u001b[39m     \u001b[38;5;28mself\u001b[39m._update_x(x)\n\u001b[32m--> \u001b[39m\u001b[32m385\u001b[39m \u001b[38;5;28;43mself\u001b[39;49m\u001b[43m.\u001b[49m\u001b[43m_update_fun\u001b[49m\u001b[43m(\u001b[49m\u001b[43m)\u001b[49m\n\u001b[32m    386\u001b[39m \u001b[38;5;28;01mreturn\u001b[39;00m \u001b[38;5;28mself\u001b[39m.f\n",
      "\u001b[36mFile \u001b[39m\u001b[32m/pub/ahewitt1/Stasis/.venv/lib64/python3.11/site-packages/scipy/optimize/_differentiable_functions.py:353\u001b[39m, in \u001b[36mScalarFunction._update_fun\u001b[39m\u001b[34m(self)\u001b[39m\n\u001b[32m    351\u001b[39m \u001b[38;5;28;01mdef\u001b[39;00m\u001b[38;5;250m \u001b[39m\u001b[34m_update_fun\u001b[39m(\u001b[38;5;28mself\u001b[39m):\n\u001b[32m    352\u001b[39m     \u001b[38;5;28;01mif\u001b[39;00m \u001b[38;5;129;01mnot\u001b[39;00m \u001b[38;5;28mself\u001b[39m.f_updated:\n\u001b[32m--> \u001b[39m\u001b[32m353\u001b[39m         fx = \u001b[38;5;28;43mself\u001b[39;49m\u001b[43m.\u001b[49m\u001b[43m_wrapped_fun\u001b[49m\u001b[43m(\u001b[49m\u001b[38;5;28;43mself\u001b[39;49m\u001b[43m.\u001b[49m\u001b[43mx\u001b[49m\u001b[43m)\u001b[49m\n\u001b[32m    354\u001b[39m         \u001b[38;5;28mself\u001b[39m._nfev += \u001b[32m1\u001b[39m\n\u001b[32m    355\u001b[39m         \u001b[38;5;28;01mif\u001b[39;00m fx < \u001b[38;5;28mself\u001b[39m._lowest_f:\n",
      "\u001b[36mFile \u001b[39m\u001b[32m/pub/ahewitt1/Stasis/.venv/lib64/python3.11/site-packages/scipy/_lib/_util.py:583\u001b[39m, in \u001b[36m_ScalarFunctionWrapper.__call__\u001b[39m\u001b[34m(self, x)\u001b[39m\n\u001b[32m    580\u001b[39m \u001b[38;5;28;01mdef\u001b[39;00m\u001b[38;5;250m \u001b[39m\u001b[34m__call__\u001b[39m(\u001b[38;5;28mself\u001b[39m, x):\n\u001b[32m    581\u001b[39m     \u001b[38;5;66;03m# Send a copy because the user may overwrite it.\u001b[39;00m\n\u001b[32m    582\u001b[39m     \u001b[38;5;66;03m# The user of this class might want `x` to remain unchanged.\u001b[39;00m\n\u001b[32m--> \u001b[39m\u001b[32m583\u001b[39m     fx = \u001b[38;5;28;43mself\u001b[39;49m\u001b[43m.\u001b[49m\u001b[43mf\u001b[49m\u001b[43m(\u001b[49m\u001b[43mnp\u001b[49m\u001b[43m.\u001b[49m\u001b[43mcopy\u001b[49m\u001b[43m(\u001b[49m\u001b[43mx\u001b[49m\u001b[43m)\u001b[49m\u001b[43m,\u001b[49m\u001b[43m \u001b[49m\u001b[43m*\u001b[49m\u001b[38;5;28;43mself\u001b[39;49m\u001b[43m.\u001b[49m\u001b[43margs\u001b[49m\u001b[43m)\u001b[49m\n\u001b[32m    584\u001b[39m     \u001b[38;5;28mself\u001b[39m.nfev += \u001b[32m1\u001b[39m\n\u001b[32m    586\u001b[39m     \u001b[38;5;66;03m# Make sure the function returns a true scalar\u001b[39;00m\n",
      "\u001b[36mCell\u001b[39m\u001b[36m \u001b[39m\u001b[32mIn[7]\u001b[39m\u001b[32m, line 23\u001b[39m, in \u001b[36mchi2_fn\u001b[39m\u001b[34m(params)\u001b[39m\n\u001b[32m     18\u001b[39m \u001b[38;5;28mprint\u001b[39m(PRyMini.stasis_params)\n\u001b[32m     19\u001b[39m \u001b[38;5;66;03m#predictions = model(params)\u001b[39;00m\n\u001b[32m     20\u001b[39m \u001b[38;5;66;03m#residuals = (predictions - X_obs) / errors\u001b[39;00m\n\u001b[32m     21\u001b[39m \u001b[38;5;66;03m#sum(((X_th-X_obs)/sigma_X)**2)\u001b[39;00m\n\u001b[32m     22\u001b[39m \u001b[38;5;66;03m#calculate theoretical values\u001b[39;00m\n\u001b[32m---> \u001b[39m\u001b[32m23\u001b[39m results = \u001b[43mtest_main\u001b[49m\u001b[43m.\u001b[49m\u001b[43mPRyMclass\u001b[49m\u001b[43m(\u001b[49m\u001b[43m)\u001b[49m.PRyMresults()\n\u001b[32m     24\u001b[39m Neff, Omeganurel, OneOverOmeganunr, YPCMB, YPBBN, DoHx1e5, He3oHx1e5, Li7oHx1e10 = results\n\u001b[32m     25\u001b[39m \u001b[38;5;66;03m#X_th = np.array([Neff, Omeganurel, OneOverOmeganunr, YPCMB, YPBBN, DoHx1e5, He3oHx1e5, Li7oHx1e10])\u001b[39;00m\n",
      "\u001b[36mFile \u001b[39m\u001b[32m/dfs6/pub/ahewitt1/Stasis/Stasis_prym/PRyM/test_main3.py:166\u001b[39m, in \u001b[36mPRyMclass.__init__\u001b[39m\u001b[34m(self, my_rho_NP, my_p_NP, my_drho_NP_dT, my_delta_rho_NP, stasis_params)\u001b[39m\n\u001b[32m    156\u001b[39m     \u001b[38;5;28mself\u001b[39m.Tnu_vec = sol_thermo_uMat[:,\u001b[32m1\u001b[39m]\n\u001b[32m    158\u001b[39m \u001b[38;5;28;01melse\u001b[39;00m:\n\u001b[32m    159\u001b[39m     \u001b[38;5;66;03m# sol_thermo = solve_ivp(self.dTtotdt,[tini,tfin],Tini_vec,t_eval=sol_thermo_sampling,method='LSODA',rtol=1.e-6,atol=1.e-9)\u001b[39;00m\n\u001b[32m    160\u001b[39m     \u001b[38;5;66;03m# sol_thermo = solve_ivp(self.dTtotdt,[tini,tfin],Tini_vec,t_eval=sol_thermo_sampling,method='BDF',rtol=1.e-6,atol=1.e-9)\u001b[39;00m\n\u001b[32m   (...)\u001b[39m\u001b[32m    164\u001b[39m \n\u001b[32m    165\u001b[39m     \u001b[38;5;66;03m# sol_thermo = solve_ivp(self.rhs,(tini, tfin),y0,t_eval=sol_thermo_sampling,method='LSODA',rtol=1.e-6,atol=1.e-9)\u001b[39;00m\n\u001b[32m--> \u001b[39m\u001b[32m166\u001b[39m     sol_thermo = \u001b[43msolve_ivp\u001b[49m\u001b[43m(\u001b[49m\u001b[38;5;28;43mself\u001b[39;49m\u001b[43m.\u001b[49m\u001b[43mrhs\u001b[49m\u001b[43m,\u001b[49m\u001b[43m(\u001b[49m\u001b[43mtini\u001b[49m\u001b[43m,\u001b[49m\u001b[43m \u001b[49m\u001b[43mtfin\u001b[49m\u001b[43m)\u001b[49m\u001b[43m,\u001b[49m\u001b[43my0\u001b[49m\u001b[43m,\u001b[49m\u001b[43mt_eval\u001b[49m\u001b[43m=\u001b[49m\u001b[43msol_thermo_sampling\u001b[49m\u001b[43m,\u001b[49m\u001b[43mmethod\u001b[49m\u001b[43m=\u001b[49m\u001b[33;43m'\u001b[39;49m\u001b[33;43mBDF\u001b[39;49m\u001b[33;43m'\u001b[39;49m\u001b[43m,\u001b[49m\u001b[43mrtol\u001b[49m\u001b[43m=\u001b[49m\u001b[32;43m1.e-6\u001b[39;49m\u001b[43m,\u001b[49m\u001b[43matol\u001b[49m\u001b[43m=\u001b[49m\u001b[32;43m1.e-9\u001b[39;49m\u001b[43m)\u001b[49m\n\u001b[32m    169\u001b[39m     \u001b[38;5;66;03m# self.t_vec = sol_thermo.t\u001b[39;00m\n\u001b[32m    170\u001b[39m     \u001b[38;5;66;03m# self.Tg_vec = sol_thermo.y[0][:]\u001b[39;00m\n\u001b[32m    171\u001b[39m     \u001b[38;5;66;03m# self.Tnu_vec = sol_thermo.y[1][:]\u001b[39;00m\n\u001b[32m    172\u001b[39m     \u001b[38;5;28mself\u001b[39m.t_vec   = sol_thermo.t\n",
      "\u001b[36mFile \u001b[39m\u001b[32m/pub/ahewitt1/Stasis/.venv/lib64/python3.11/site-packages/scipy/integrate/_ivp/ivp.py:655\u001b[39m, in \u001b[36msolve_ivp\u001b[39m\u001b[34m(fun, t_span, y0, method, t_eval, dense_output, events, vectorized, args, **options)\u001b[39m\n\u001b[32m    653\u001b[39m status = \u001b[38;5;28;01mNone\u001b[39;00m\n\u001b[32m    654\u001b[39m \u001b[38;5;28;01mwhile\u001b[39;00m status \u001b[38;5;129;01mis\u001b[39;00m \u001b[38;5;28;01mNone\u001b[39;00m:\n\u001b[32m--> \u001b[39m\u001b[32m655\u001b[39m     message = \u001b[43msolver\u001b[49m\u001b[43m.\u001b[49m\u001b[43mstep\u001b[49m\u001b[43m(\u001b[49m\u001b[43m)\u001b[49m\n\u001b[32m    657\u001b[39m     \u001b[38;5;28;01mif\u001b[39;00m solver.status == \u001b[33m'\u001b[39m\u001b[33mfinished\u001b[39m\u001b[33m'\u001b[39m:\n\u001b[32m    658\u001b[39m         status = \u001b[32m0\u001b[39m\n",
      "\u001b[36mFile \u001b[39m\u001b[32m/pub/ahewitt1/Stasis/.venv/lib64/python3.11/site-packages/scipy/integrate/_ivp/base.py:197\u001b[39m, in \u001b[36mOdeSolver.step\u001b[39m\u001b[34m(self)\u001b[39m\n\u001b[32m    195\u001b[39m \u001b[38;5;28;01melse\u001b[39;00m:\n\u001b[32m    196\u001b[39m     t = \u001b[38;5;28mself\u001b[39m.t\n\u001b[32m--> \u001b[39m\u001b[32m197\u001b[39m     success, message = \u001b[38;5;28;43mself\u001b[39;49m\u001b[43m.\u001b[49m\u001b[43m_step_impl\u001b[49m\u001b[43m(\u001b[49m\u001b[43m)\u001b[49m\n\u001b[32m    199\u001b[39m     \u001b[38;5;28;01mif\u001b[39;00m \u001b[38;5;129;01mnot\u001b[39;00m success:\n\u001b[32m    200\u001b[39m         \u001b[38;5;28mself\u001b[39m.status = \u001b[33m'\u001b[39m\u001b[33mfailed\u001b[39m\u001b[33m'\u001b[39m\n",
      "\u001b[36mFile \u001b[39m\u001b[32m/pub/ahewitt1/Stasis/.venv/lib64/python3.11/site-packages/scipy/integrate/_ivp/bdf.py:372\u001b[39m, in \u001b[36mBDF._step_impl\u001b[39m\u001b[34m(self)\u001b[39m\n\u001b[32m    370\u001b[39m \u001b[38;5;28;01mif\u001b[39;00m current_jac:\n\u001b[32m    371\u001b[39m     \u001b[38;5;28;01mbreak\u001b[39;00m\n\u001b[32m--> \u001b[39m\u001b[32m372\u001b[39m J = \u001b[38;5;28;43mself\u001b[39;49m\u001b[43m.\u001b[49m\u001b[43mjac\u001b[49m\u001b[43m(\u001b[49m\u001b[43mt_new\u001b[49m\u001b[43m,\u001b[49m\u001b[43m \u001b[49m\u001b[43my_predict\u001b[49m\u001b[43m)\u001b[49m\n\u001b[32m    373\u001b[39m LU = \u001b[38;5;28;01mNone\u001b[39;00m\n\u001b[32m    374\u001b[39m current_jac = \u001b[38;5;28;01mTrue\u001b[39;00m\n",
      "\u001b[36mFile \u001b[39m\u001b[32m/pub/ahewitt1/Stasis/.venv/lib64/python3.11/site-packages/scipy/integrate/_ivp/bdf.py:271\u001b[39m, in \u001b[36mBDF._validate_jac.<locals>.jac_wrapped\u001b[39m\u001b[34m(t, y)\u001b[39m\n\u001b[32m    269\u001b[39m \u001b[38;5;28mself\u001b[39m.njev += \u001b[32m1\u001b[39m\n\u001b[32m    270\u001b[39m f = \u001b[38;5;28mself\u001b[39m.fun_single(t, y)\n\u001b[32m--> \u001b[39m\u001b[32m271\u001b[39m J, \u001b[38;5;28mself\u001b[39m.jac_factor = \u001b[43mnum_jac\u001b[49m\u001b[43m(\u001b[49m\u001b[38;5;28;43mself\u001b[39;49m\u001b[43m.\u001b[49m\u001b[43mfun_vectorized\u001b[49m\u001b[43m,\u001b[49m\u001b[43m \u001b[49m\u001b[43mt\u001b[49m\u001b[43m,\u001b[49m\u001b[43m \u001b[49m\u001b[43my\u001b[49m\u001b[43m,\u001b[49m\u001b[43m \u001b[49m\u001b[43mf\u001b[49m\u001b[43m,\u001b[49m\n\u001b[32m    272\u001b[39m \u001b[43m                             \u001b[49m\u001b[38;5;28;43mself\u001b[39;49m\u001b[43m.\u001b[49m\u001b[43matol\u001b[49m\u001b[43m,\u001b[49m\u001b[43m \u001b[49m\u001b[38;5;28;43mself\u001b[39;49m\u001b[43m.\u001b[49m\u001b[43mjac_factor\u001b[49m\u001b[43m,\u001b[49m\n\u001b[32m    273\u001b[39m \u001b[43m                             \u001b[49m\u001b[43msparsity\u001b[49m\u001b[43m)\u001b[49m\n\u001b[32m    274\u001b[39m \u001b[38;5;28;01mreturn\u001b[39;00m J\n",
      "\u001b[36mFile \u001b[39m\u001b[32m/pub/ahewitt1/Stasis/.venv/lib64/python3.11/site-packages/scipy/integrate/_ivp/common.py:336\u001b[39m, in \u001b[36mnum_jac\u001b[39m\u001b[34m(fun, t, y, f, threshold, factor, sparsity)\u001b[39m\n\u001b[32m    333\u001b[39m         h[i] = (y[i] + factor[i] * y_scale[i]) - y[i]\n\u001b[32m    335\u001b[39m \u001b[38;5;28;01mif\u001b[39;00m sparsity \u001b[38;5;129;01mis\u001b[39;00m \u001b[38;5;28;01mNone\u001b[39;00m:\n\u001b[32m--> \u001b[39m\u001b[32m336\u001b[39m     \u001b[38;5;28;01mreturn\u001b[39;00m \u001b[43m_dense_num_jac\u001b[49m\u001b[43m(\u001b[49m\u001b[43mfun\u001b[49m\u001b[43m,\u001b[49m\u001b[43m \u001b[49m\u001b[43mt\u001b[49m\u001b[43m,\u001b[49m\u001b[43m \u001b[49m\u001b[43my\u001b[49m\u001b[43m,\u001b[49m\u001b[43m \u001b[49m\u001b[43mf\u001b[49m\u001b[43m,\u001b[49m\u001b[43m \u001b[49m\u001b[43mh\u001b[49m\u001b[43m,\u001b[49m\u001b[43m \u001b[49m\u001b[43mfactor\u001b[49m\u001b[43m,\u001b[49m\u001b[43m \u001b[49m\u001b[43my_scale\u001b[49m\u001b[43m)\u001b[49m\n\u001b[32m    337\u001b[39m \u001b[38;5;28;01melse\u001b[39;00m:\n\u001b[32m    338\u001b[39m     structure, groups = sparsity\n",
      "\u001b[36mFile \u001b[39m\u001b[32m/pub/ahewitt1/Stasis/.venv/lib64/python3.11/site-packages/scipy/integrate/_ivp/common.py:346\u001b[39m, in \u001b[36m_dense_num_jac\u001b[39m\u001b[34m(fun, t, y, f, h, factor, y_scale)\u001b[39m\n\u001b[32m    344\u001b[39m n = y.shape[\u001b[32m0\u001b[39m]\n\u001b[32m    345\u001b[39m h_vecs = np.diag(h)\n\u001b[32m--> \u001b[39m\u001b[32m346\u001b[39m f_new = \u001b[43mfun\u001b[49m\u001b[43m(\u001b[49m\u001b[43mt\u001b[49m\u001b[43m,\u001b[49m\u001b[43m \u001b[49m\u001b[43my\u001b[49m\u001b[43m[\u001b[49m\u001b[43m:\u001b[49m\u001b[43m,\u001b[49m\u001b[43m \u001b[49m\u001b[38;5;28;43;01mNone\u001b[39;49;00m\u001b[43m]\u001b[49m\u001b[43m \u001b[49m\u001b[43m+\u001b[49m\u001b[43m \u001b[49m\u001b[43mh_vecs\u001b[49m\u001b[43m)\u001b[49m\n\u001b[32m    347\u001b[39m diff = f_new - f[:, \u001b[38;5;28;01mNone\u001b[39;00m]\n\u001b[32m    348\u001b[39m max_ind = np.argmax(np.abs(diff), axis=\u001b[32m0\u001b[39m)\n",
      "\u001b[36mFile \u001b[39m\u001b[32m/pub/ahewitt1/Stasis/.venv/lib64/python3.11/site-packages/scipy/integrate/_ivp/base.py:149\u001b[39m, in \u001b[36mOdeSolver.__init__.<locals>.fun_vectorized\u001b[39m\u001b[34m(t, y)\u001b[39m\n\u001b[32m    147\u001b[39m f = np.empty_like(y)\n\u001b[32m    148\u001b[39m \u001b[38;5;28;01mfor\u001b[39;00m i, yi \u001b[38;5;129;01min\u001b[39;00m \u001b[38;5;28menumerate\u001b[39m(y.T):\n\u001b[32m--> \u001b[39m\u001b[32m149\u001b[39m     f[:, i] = \u001b[38;5;28;43mself\u001b[39;49m\u001b[43m.\u001b[49m\u001b[43m_fun\u001b[49m\u001b[43m(\u001b[49m\u001b[43mt\u001b[49m\u001b[43m,\u001b[49m\u001b[43m \u001b[49m\u001b[43myi\u001b[49m\u001b[43m)\u001b[49m\n\u001b[32m    150\u001b[39m \u001b[38;5;28;01mreturn\u001b[39;00m f\n",
      "\u001b[36mFile \u001b[39m\u001b[32m/pub/ahewitt1/Stasis/.venv/lib64/python3.11/site-packages/scipy/integrate/_ivp/base.py:23\u001b[39m, in \u001b[36mcheck_arguments.<locals>.fun_wrapped\u001b[39m\u001b[34m(t, y)\u001b[39m\n\u001b[32m     22\u001b[39m \u001b[38;5;28;01mdef\u001b[39;00m\u001b[38;5;250m \u001b[39m\u001b[34mfun_wrapped\u001b[39m(t, y):\n\u001b[32m---> \u001b[39m\u001b[32m23\u001b[39m     \u001b[38;5;28;01mreturn\u001b[39;00m np.asarray(\u001b[43mfun\u001b[49m\u001b[43m(\u001b[49m\u001b[43mt\u001b[49m\u001b[43m,\u001b[49m\u001b[43m \u001b[49m\u001b[43my\u001b[49m\u001b[43m)\u001b[49m, dtype=dtype)\n",
      "\u001b[36mFile \u001b[39m\u001b[32m/dfs6/pub/ahewitt1/Stasis/Stasis_prym/PRyM/test_main3.py:971\u001b[39m, in \u001b[36mPRyMclass.rhs\u001b[39m\u001b[34m(self, t, y, _last, _dtprint)\u001b[39m\n\u001b[32m    967\u001b[39m dchi_g = -\u001b[32m4.\u001b[39m*H + np.sum(\u001b[38;5;28mself\u001b[39m.stasis[\u001b[33m\"\u001b[39m\u001b[33mGamma_ell_s\u001b[39m\u001b[33m\"\u001b[39m] * np.exp(chi_ell - chi_g))\n\u001b[32m    968\u001b[39m dNdt = H\n\u001b[32m    970\u001b[39m dTg, dTnu = (\n\u001b[32m--> \u001b[39m\u001b[32m971\u001b[39m         \u001b[38;5;28;43mself\u001b[39;49m\u001b[43m.\u001b[49m\u001b[43mdTgdt\u001b[49m\u001b[43m(\u001b[49m\u001b[43mTg\u001b[49m\u001b[43m,\u001b[49m\u001b[43m \u001b[49m\u001b[43mTnu\u001b[49m\u001b[43m,\u001b[49m\u001b[43m \u001b[49m\u001b[43mTnu\u001b[49m\u001b[43m)\u001b[49m,\n\u001b[32m    972\u001b[39m         \u001b[38;5;28mself\u001b[39m.dTnudt(Tg, Tnu, Tnu),\n\u001b[32m    973\u001b[39m     )\n\u001b[32m    974\u001b[39m dTblock = (dTg, dTnu)\n\u001b[32m    976\u001b[39m \u001b[38;5;66;03m# concatenate and return\u001b[39;00m\n",
      "\u001b[36mFile \u001b[39m\u001b[32m/dfs6/pub/ahewitt1/Stasis/Stasis_prym/PRyM/test_main3.py:862\u001b[39m, in \u001b[36mPRyMclass.dTgdt\u001b[39m\u001b[34m(self, Tg, Tnue, Tnumu, T_NP)\u001b[39m\n\u001b[32m    860\u001b[39m num = -(H*(\u001b[32m4.\u001b[39m*PRyMthermo.rho_g(Tg)+\u001b[32m3.\u001b[39m*(PRyMthermo.rho_e(Tg)+PRyMthermo.p_e(Tg))+\u001b[32m3.\u001b[39m*Tg*PRyMthermo.dPdT(Tg)))\n\u001b[32m    861\u001b[39m \u001b[38;5;66;03m# Sum of collision terms must vanish\u001b[39;00m\n\u001b[32m--> \u001b[39m\u001b[32m862\u001b[39m delta_rho_g = -(PRyMthermo.delta_rho_nue(Tg,Tnue,Tnumu)+\u001b[32m2.\u001b[39m*\u001b[43mPRyMthermo\u001b[49m\u001b[43m.\u001b[49m\u001b[43mdelta_rho_numu\u001b[49m\u001b[43m(\u001b[49m\u001b[43mTg\u001b[49m\u001b[43m,\u001b[49m\u001b[43mTnue\u001b[49m\u001b[43m,\u001b[49m\u001b[43mTnumu\u001b[49m\u001b[43m)\u001b[49m)\n\u001b[32m    863\u001b[39m \u001b[38;5;28;01mif\u001b[39;00m(PRyMini.NP_thermo_flag):\n\u001b[32m    864\u001b[39m     delta_rho_g -= PRyMthermo.delta_rho_NP(Tg,Tnue,Tnumu,T_NP) \u001b[38;5;66;03m# traceless collision operator\u001b[39;00m\n",
      "\u001b[36mFile \u001b[39m\u001b[32m/dfs6/pub/ahewitt1/Stasis/Stasis_prym/PRyM/PRyM_thermo.py:309\u001b[39m, in \u001b[36mdelta_rho_numu\u001b[39m\u001b[34m(Tg, Tnue, Tnumu)\u001b[39m\n\u001b[32m    308\u001b[39m \u001b[38;5;28;01mdef\u001b[39;00m\u001b[38;5;250m \u001b[39m\u001b[34mdelta_rho_numu\u001b[39m(Tg,Tnue,Tnumu):\n\u001b[32m--> \u001b[39m\u001b[32m309\u001b[39m     \u001b[38;5;28;01mreturn\u001b[39;00m PRyMini.MeV_to_secm1*PRyMini.GF**\u001b[32m2\u001b[39m/np.pi**\u001b[32m5\u001b[39m*(\u001b[32m4.\u001b[39m*(PRyMini.gmuL**\u001b[32m2\u001b[39m+PRyMini.gmuR**\u001b[32m2\u001b[39m)*\u001b[43mf_nu_mu\u001b[49m\u001b[43m(\u001b[49m\u001b[43mTg\u001b[49m\u001b[43m,\u001b[49m\u001b[43mTnue\u001b[49m\u001b[43m)\u001b[49m-f_g(Tnumu,Tnue))\n",
      "\u001b[36mFile \u001b[39m\u001b[32m/dfs6/pub/ahewitt1/Stasis/Stasis_prym/PRyM/PRyM_thermo.py:299\u001b[39m, in \u001b[36mf_nu_mu\u001b[39m\u001b[34m(T1, T2)\u001b[39m\n\u001b[32m    298\u001b[39m \u001b[38;5;28;01mdef\u001b[39;00m\u001b[38;5;250m \u001b[39m\u001b[34mf_nu_mu\u001b[39m(T1,T2):\n\u001b[32m--> \u001b[39m\u001b[32m299\u001b[39m     res = \u001b[32m32.\u001b[39m*fannFD*(T1**\u001b[32m9\u001b[39m-T2**\u001b[32m9\u001b[39m)*\u001b[43mfnu_mu_ann\u001b[49m\u001b[43m(\u001b[49m\u001b[43mT1\u001b[49m\u001b[43m)\u001b[49m+\u001b[32m56.\u001b[39m*fscatFD*fnu_mu_scat(T1)*T1**\u001b[32m4\u001b[39m*T2**\u001b[32m4\u001b[39m*(T1-T2)\n\u001b[32m    300\u001b[39m     \u001b[38;5;28;01mreturn\u001b[39;00m res\n",
      "\u001b[36mFile \u001b[39m\u001b[32m/pub/ahewitt1/Stasis/.venv/lib64/python3.11/site-packages/scipy/interpolate/_polyint.py:82\u001b[39m, in \u001b[36m_Interpolator1D.__call__\u001b[39m\u001b[34m(self, x)\u001b[39m\n\u001b[32m     61\u001b[39m \u001b[38;5;250m\u001b[39m\u001b[33;03m\"\"\"\u001b[39;00m\n\u001b[32m     62\u001b[39m \u001b[33;03mEvaluate the interpolant\u001b[39;00m\n\u001b[32m     63\u001b[39m \n\u001b[32m   (...)\u001b[39m\u001b[32m     79\u001b[39m \n\u001b[32m     80\u001b[39m \u001b[33;03m\"\"\"\u001b[39;00m\n\u001b[32m     81\u001b[39m x, x_shape = \u001b[38;5;28mself\u001b[39m._prepare_x(x)\n\u001b[32m---> \u001b[39m\u001b[32m82\u001b[39m y = \u001b[38;5;28;43mself\u001b[39;49m\u001b[43m.\u001b[49m\u001b[43m_evaluate\u001b[49m\u001b[43m(\u001b[49m\u001b[43mx\u001b[49m\u001b[43m)\u001b[49m\n\u001b[32m     83\u001b[39m \u001b[38;5;28;01mreturn\u001b[39;00m \u001b[38;5;28mself\u001b[39m._finish_y(y, x_shape)\n",
      "\u001b[36mFile \u001b[39m\u001b[32m/pub/ahewitt1/Stasis/.venv/lib64/python3.11/site-packages/scipy/interpolate/_interpolate.py:549\u001b[39m, in \u001b[36minterp1d._evaluate\u001b[39m\u001b[34m(self, x_new)\u001b[39m\n\u001b[32m    544\u001b[39m \u001b[38;5;28;01mdef\u001b[39;00m\u001b[38;5;250m \u001b[39m\u001b[34m_evaluate\u001b[39m(\u001b[38;5;28mself\u001b[39m, x_new):\n\u001b[32m    545\u001b[39m     \u001b[38;5;66;03m# 1. Handle values in x_new that are outside of x. Throw error,\u001b[39;00m\n\u001b[32m    546\u001b[39m     \u001b[38;5;66;03m#    or return a list of mask array indicating the outofbounds values.\u001b[39;00m\n\u001b[32m    547\u001b[39m     \u001b[38;5;66;03m#    The behavior is set by the bounds_error variable.\u001b[39;00m\n\u001b[32m    548\u001b[39m     x_new = asarray(x_new)\n\u001b[32m--> \u001b[39m\u001b[32m549\u001b[39m     y_new = \u001b[38;5;28;43mself\u001b[39;49m\u001b[43m.\u001b[49m\u001b[43m_call\u001b[49m\u001b[43m(\u001b[49m\u001b[38;5;28;43mself\u001b[39;49m\u001b[43m,\u001b[49m\u001b[43m \u001b[49m\u001b[43mx_new\u001b[49m\u001b[43m)\u001b[49m\n\u001b[32m    550\u001b[39m     \u001b[38;5;28;01mif\u001b[39;00m \u001b[38;5;129;01mnot\u001b[39;00m \u001b[38;5;28mself\u001b[39m._extrapolate:\n\u001b[32m    551\u001b[39m         below_bounds, above_bounds = \u001b[38;5;28mself\u001b[39m._check_bounds(x_new)\n",
      "\u001b[36mFile \u001b[39m\u001b[32m/pub/ahewitt1/Stasis/.venv/lib64/python3.11/site-packages/scipy/interpolate/_interpolate.py:484\u001b[39m, in \u001b[36minterp1d._call_linear\u001b[39m\u001b[34m(self, x_new)\u001b[39m\n\u001b[32m    479\u001b[39m x_new_indices = searchsorted(\u001b[38;5;28mself\u001b[39m.x, x_new)\n\u001b[32m    481\u001b[39m \u001b[38;5;66;03m# 3. Clip x_new_indices so that they are within the range of\u001b[39;00m\n\u001b[32m    482\u001b[39m \u001b[38;5;66;03m#    self.x indices and at least 1. Removes mis-interpolation\u001b[39;00m\n\u001b[32m    483\u001b[39m \u001b[38;5;66;03m#    of x_new[n] = x[0]\u001b[39;00m\n\u001b[32m--> \u001b[39m\u001b[32m484\u001b[39m x_new_indices = x_new_indices.clip(\u001b[32m1\u001b[39m, \u001b[38;5;28mlen\u001b[39m(\u001b[38;5;28mself\u001b[39m.x)-\u001b[32m1\u001b[39m).astype(\u001b[38;5;28mint\u001b[39m)\n\u001b[32m    486\u001b[39m \u001b[38;5;66;03m# 4. Calculate the slope of regions that each x_new value falls in.\u001b[39;00m\n\u001b[32m    487\u001b[39m lo = x_new_indices - \u001b[32m1\u001b[39m\n",
      "\u001b[36mFile \u001b[39m\u001b[32m/pub/ahewitt1/Stasis/.venv/lib64/python3.11/site-packages/numpy/_core/_methods.py:103\u001b[39m, in \u001b[36m_clip\u001b[39m\u001b[34m(a, min, max, out, **kwargs)\u001b[39m\n\u001b[32m     99\u001b[39m \u001b[38;5;28;01mdef\u001b[39;00m\u001b[38;5;250m \u001b[39m\u001b[34m_clip\u001b[39m(a, \u001b[38;5;28mmin\u001b[39m=\u001b[38;5;28;01mNone\u001b[39;00m, \u001b[38;5;28mmax\u001b[39m=\u001b[38;5;28;01mNone\u001b[39;00m, out=\u001b[38;5;28;01mNone\u001b[39;00m, **kwargs):\n\u001b[32m    100\u001b[39m     \u001b[38;5;28;01mif\u001b[39;00m a.dtype.kind \u001b[38;5;129;01min\u001b[39;00m \u001b[33m\"\u001b[39m\u001b[33miu\u001b[39m\u001b[33m\"\u001b[39m:\n\u001b[32m    101\u001b[39m         \u001b[38;5;66;03m# If min/max is a Python integer, deal with out-of-bound values here.\u001b[39;00m\n\u001b[32m    102\u001b[39m         \u001b[38;5;66;03m# (This enforces NEP 50 rules as no value based promotion is done.)\u001b[39;00m\n\u001b[32m--> \u001b[39m\u001b[32m103\u001b[39m         \u001b[38;5;28;01mif\u001b[39;00m \u001b[38;5;28mtype\u001b[39m(\u001b[38;5;28mmin\u001b[39m) \u001b[38;5;129;01mis\u001b[39;00m \u001b[38;5;28mint\u001b[39m \u001b[38;5;129;01mand\u001b[39;00m \u001b[38;5;28mmin\u001b[39m <= \u001b[43mnp\u001b[49m\u001b[43m.\u001b[49m\u001b[43miinfo\u001b[49m\u001b[43m(\u001b[49m\u001b[43ma\u001b[49m\u001b[43m.\u001b[49m\u001b[43mdtype\u001b[49m\u001b[43m)\u001b[49m.min:\n\u001b[32m    104\u001b[39m             \u001b[38;5;28mmin\u001b[39m = \u001b[38;5;28;01mNone\u001b[39;00m\n\u001b[32m    105\u001b[39m         \u001b[38;5;28;01mif\u001b[39;00m \u001b[38;5;28mtype\u001b[39m(\u001b[38;5;28mmax\u001b[39m) \u001b[38;5;129;01mis\u001b[39;00m \u001b[38;5;28mint\u001b[39m \u001b[38;5;129;01mand\u001b[39;00m \u001b[38;5;28mmax\u001b[39m >= np.iinfo(a.dtype).max:\n",
      "\u001b[36mFile \u001b[39m\u001b[32m/pub/ahewitt1/Stasis/.venv/lib64/python3.11/site-packages/numpy/_core/getlimits.py:699\u001b[39m, in \u001b[36miinfo.__init__\u001b[39m\u001b[34m(self, int_type)\u001b[39m\n\u001b[32m    697\u001b[39m \u001b[38;5;28;01mdef\u001b[39;00m\u001b[38;5;250m \u001b[39m\u001b[34m__init__\u001b[39m(\u001b[38;5;28mself\u001b[39m, int_type):\n\u001b[32m    698\u001b[39m     \u001b[38;5;28;01mtry\u001b[39;00m:\n\u001b[32m--> \u001b[39m\u001b[32m699\u001b[39m         \u001b[38;5;28mself\u001b[39m.dtype = \u001b[43mnumeric\u001b[49m\u001b[43m.\u001b[49m\u001b[43mdtype\u001b[49m\u001b[43m(\u001b[49m\u001b[43mint_type\u001b[49m\u001b[43m)\u001b[49m\n\u001b[32m    700\u001b[39m     \u001b[38;5;28;01mexcept\u001b[39;00m \u001b[38;5;167;01mTypeError\u001b[39;00m:\n\u001b[32m    701\u001b[39m         \u001b[38;5;28mself\u001b[39m.dtype = numeric.dtype(\u001b[38;5;28mtype\u001b[39m(int_type))\n",
      "\u001b[31mKeyboardInterrupt\u001b[39m: "
     ]
    }
   ],
   "source": [
    "#minimize -2 ln L with a package\n",
    "from scipy.optimize import minimize\n",
    "import numpy as np\n",
    "\n",
    "'''#initialize random stasis parameters in the desired intervals\n",
    "gamma = random.uniform(4,8)\n",
    "delta = random.uniform(0,3)\n",
    "alpha = (2/7)*gamma - (1/delta)\n",
    "delm = random.uniform(1,10)\n",
    "m0 = delm\n",
    "fplas = random.uniform(0.1,1)\n",
    "f = random.uniform(0.1,1)\n",
    "Tend = random.uniform(1, 10)\n",
    "Nspecies = int(random.randint(1, 20))\n",
    "#PRyMini.stasis_params\n",
    "print(Nspecies)\n",
    "#initialize params\n",
    "params = [gamma,delta,alpha,delm,m0,fplas,f,Tend,Nspecies]\n",
    "\n",
    "# Initial guess\n",
    "#x0 = np.array([0.0, 0.0])\n",
    "\n",
    "# Minimize\n",
    "res = minimize(chi2_fn, params, method='BFGS')'''"
   ]
  }
 ],
 "metadata": {
  "kernelspec": {
   "display_name": ".venv",
   "language": "python",
   "name": "python3"
  },
  "language_info": {
   "codemirror_mode": {
    "name": "ipython",
    "version": 3
   },
   "file_extension": ".py",
   "mimetype": "text/x-python",
   "name": "python",
   "nbconvert_exporter": "python",
   "pygments_lexer": "ipython3",
   "version": "3.11.9"
  }
 },
 "nbformat": 4,
 "nbformat_minor": 5
}
