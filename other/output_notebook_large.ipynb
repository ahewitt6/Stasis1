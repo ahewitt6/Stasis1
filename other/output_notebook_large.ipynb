{
 "cells": [
  {
   "cell_type": "code",
   "execution_count": 1,
   "id": "67bd51ae",
   "metadata": {
    "execution": {
     "iopub.execute_input": "2025-07-04T18:40:27.665176Z",
     "iopub.status.busy": "2025-07-04T18:40:27.664849Z",
     "iopub.status.idle": "2025-07-04T18:40:34.712610Z",
     "shell.execute_reply": "2025-07-04T18:40:34.711995Z"
    },
    "papermill": {
     "duration": 7.054589,
     "end_time": "2025-07-04T18:40:34.714038",
     "exception": false,
     "start_time": "2025-07-04T18:40:27.659449",
     "status": "completed"
    },
    "tags": []
   },
   "outputs": [],
   "source": [
    "import time\n",
    "import numpy as np\n",
    "import types\n",
    "import os\n",
    "from scipy.integrate import solve_ivp\n",
    "from scipy.interpolate import interp1d\n",
    "from scipy.special import zeta\n",
    "import PRyM.PRyM_init as PRyMini\n",
    "import PRyM.PRyM_thermo as PRyMthermo\n",
    "import PRyM.test_main3 as test_main\n",
    "#import PRyM.PRyM_jl_sys as PRyMjl\n",
    "from numdifftools import Derivative\n",
    "import PRyM.PRyM_eval_nTOp as PRyMevalnTOp\n",
    "import PRyM.PRyM_nTOp as PRyMnTOp\n",
    "import matplotlib.pyplot as plt\n",
    "import pandas as pd"
   ]
  },
  {
   "cell_type": "code",
   "execution_count": 2,
   "id": "8cf88fe9",
   "metadata": {
    "execution": {
     "iopub.execute_input": "2025-07-04T18:40:34.720743Z",
     "iopub.status.busy": "2025-07-04T18:40:34.720287Z",
     "iopub.status.idle": "2025-07-04T19:45:06.874028Z",
     "shell.execute_reply": "2025-07-04T19:45:06.872908Z"
    },
    "papermill": {
     "duration": 3872.159274,
     "end_time": "2025-07-04T19:45:06.876264",
     "exception": false,
     "start_time": "2025-07-04T18:40:34.716990",
     "status": "completed"
    },
    "tags": []
   },
   "outputs": [],
   "source": [
    "#creates plots that Tim is looking for\n",
    "\n",
    "PRyMini.compute_bckg_flag = True\n",
    "PRyMini.save_bckg_flag = False\n",
    "PRyMini.stasis_flag = True\n",
    "PRyMini.verbose_flag = False\n",
    "PRyMini.smallnet_flag = False\n",
    "Tends = np.logspace(-3,1,200)\n",
    "\n",
    "\n",
    "\n",
    "# Optional: write header only once\n",
    "file_name = \"results_large.txt\"\n",
    "with open(file_name, \"w\") as f:\n",
    "    f.write(\"Tend Neff Omeganurel 1/Omeganunr YPCMB YPBBN DoHx1e5 He3oHx1e5 Li7oHx1e10\\n\")\n",
    "\n",
    "for T in Tends:\n",
    "    PRyMini.stasis_params['stasis_end_mev'] = T\n",
    "    results = test_main.PRyMclass().PRyMresults()\n",
    "    Neff_f, Omeganurel_f, OneOverOmeganunr_f, YPCMB_f, YPBBN_f, DoHx1e5_f, He3oHx1e5_f, Li7oHx1e10_f = results\n",
    "\n",
    "    #Save this result immediately\n",
    "    with open(file_name, \"a\") as f:\n",
    "        f.write(f\"{T:.6g} {Neff_f:.6g} {Omeganurel_f:.6g} {OneOverOmeganunr_f:.6g} \"\n",
    "                f\"{YPCMB_f:.6g} {YPBBN_f:.6g} {DoHx1e5_f:.6g} {He3oHx1e5_f:.6g} {Li7oHx1e10_f:.6g}\\n\")"
   ]
  },
  {
   "cell_type": "code",
   "execution_count": 3,
   "id": "41ddb4f5",
   "metadata": {
    "execution": {
     "iopub.execute_input": "2025-07-04T19:45:06.899866Z",
     "iopub.status.busy": "2025-07-04T19:45:06.899477Z",
     "iopub.status.idle": "2025-07-04T19:45:06.932477Z",
     "shell.execute_reply": "2025-07-04T19:45:06.931982Z"
    },
    "papermill": {
     "duration": 0.039083,
     "end_time": "2025-07-04T19:45:06.933694",
     "exception": false,
     "start_time": "2025-07-04T19:45:06.894611",
     "status": "completed"
    },
    "tags": []
   },
   "outputs": [
    {
     "name": "stderr",
     "output_type": "stream",
     "text": [
      "/tmp/ahewitt1/40110389/ipykernel_2084406/1224456238.py:8: FutureWarning: The 'delim_whitespace' keyword in pd.read_csv is deprecated and will be removed in a future version. Use ``sep='\\s+'`` instead\n",
      "  df = pd.read_csv(\"results0.txt\", delim_whitespace=True, comment=\"#\", names=columns, skiprows=1)\n"
     ]
    }
   ],
   "source": [
    "#to import data\n",
    "columns = [\n",
    "    \"Tend\", \"Neff\", \"Omeganurel\", \"OneOverOmeganunr\",\n",
    "    \"YPCMB\", \"YPBBN\", \"DoHx1e5\", \"He3oHx1e5\", \"Li7oHx1e10\"\n",
    "]\n",
    "\n",
    "# Read the space-separated file\n",
    "df = pd.read_csv(\"results0.txt\", delim_whitespace=True, comment=\"#\", names=columns, skiprows=1)"
   ]
  },
  {
   "cell_type": "code",
   "execution_count": 4,
   "id": "cafe1d31",
   "metadata": {
    "execution": {
     "iopub.execute_input": "2025-07-04T19:45:06.940064Z",
     "iopub.status.busy": "2025-07-04T19:45:06.939762Z",
     "iopub.status.idle": "2025-07-04T19:45:06.946943Z",
     "shell.execute_reply": "2025-07-04T19:45:06.946345Z"
    },
    "papermill": {
     "duration": 0.011613,
     "end_time": "2025-07-04T19:45:06.947980",
     "exception": false,
     "start_time": "2025-07-04T19:45:06.936367",
     "status": "completed"
    },
    "tags": []
   },
   "outputs": [
    {
     "data": {
      "text/plain": [
       "\"Tends = np.logspace(-3,1,50)\\nplasma_injects = np.linspace(0,1,50)\\n\\nTends = np.logspace(-3, 1, 50)\\nplasma_injects = np.linspace(0, 1, 50)\\n\\n# Create a meshgrid\\nT_grid, plasma_grid = np.meshgrid(Tends, plasma_injects, indexing='ij')\\n\\n# Flatten the grids and stack into pairs\\ngrid_points = np.column_stack([T_grid.ravel(), plasma_grid.ravel()])\""
      ]
     },
     "execution_count": 4,
     "metadata": {},
     "output_type": "execute_result"
    }
   ],
   "source": [
    "'''Tends = np.logspace(-3,1,50)\n",
    "plasma_injects = np.linspace(0,1,50)\n",
    "\n",
    "Tends = np.logspace(-3, 1, 50)\n",
    "plasma_injects = np.linspace(0, 1, 50)\n",
    "\n",
    "# Create a meshgrid\n",
    "T_grid, plasma_grid = np.meshgrid(Tends, plasma_injects, indexing='ij')\n",
    "\n",
    "# Flatten the grids and stack into pairs\n",
    "grid_points = np.column_stack([T_grid.ravel(), plasma_grid.ravel()])'''"
   ]
  }
 ],
 "metadata": {
  "kernelspec": {
   "display_name": ".venv",
   "language": "python",
   "name": "python3"
  },
  "language_info": {
   "codemirror_mode": {
    "name": "ipython",
    "version": 3
   },
   "file_extension": ".py",
   "mimetype": "text/x-python",
   "name": "python",
   "nbconvert_exporter": "python",
   "pygments_lexer": "ipython3",
   "version": "3.11.9"
  },
  "papermill": {
   "default_parameters": {},
   "duration": 3886.277393,
   "end_time": "2025-07-04T19:45:08.069172",
   "environment_variables": {},
   "exception": null,
   "input_path": "/pub/ahewitt1/Stasis/Stasis_prym/Alec_tim_plots_2.ipynb",
   "output_path": "/pub/ahewitt1/Stasis/Stasis_prym/output_notebook_large.ipynb",
   "parameters": {},
   "start_time": "2025-07-04T18:40:21.791779",
   "version": "2.6.0"
  }
 },
 "nbformat": 4,
 "nbformat_minor": 5
}