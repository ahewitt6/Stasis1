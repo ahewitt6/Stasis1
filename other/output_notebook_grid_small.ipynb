{
 "cells": [
  {
   "cell_type": "code",
   "execution_count": 1,
   "id": "67bd51ae",
   "metadata": {
    "execution": {
     "iopub.execute_input": "2025-07-08T01:35:06.700752Z",
     "iopub.status.busy": "2025-07-08T01:35:06.700465Z",
     "iopub.status.idle": "2025-07-08T01:35:12.658252Z",
     "shell.execute_reply": "2025-07-08T01:35:12.657806Z"
    },
    "papermill": {
     "duration": 5.963041,
     "end_time": "2025-07-08T01:35:12.659249",
     "exception": false,
     "start_time": "2025-07-08T01:35:06.696208",
     "status": "completed"
    },
    "tags": []
   },
   "outputs": [],
   "source": [
    "import time\n",
    "import numpy as np\n",
    "import types\n",
    "import os\n",
    "from scipy.integrate import solve_ivp\n",
    "from scipy.interpolate import interp1d\n",
    "from scipy.special import zeta\n",
    "import PRyM.PRyM_init as PRyMini\n",
    "import PRyM.PRyM_thermo as PRyMthermo\n",
    "import PRyM.test_main3 as test_main\n",
    "#import PRyM.PRyM_jl_sys as PRyMjl\n",
    "from numdifftools import Derivative\n",
    "import PRyM.PRyM_eval_nTOp as PRyMevalnTOp\n",
    "import PRyM.PRyM_nTOp as PRyMnTOp\n",
    "import matplotlib.pyplot as plt\n",
    "import pandas as pd"
   ]
  },
  {
   "cell_type": "code",
   "execution_count": 2,
   "id": "8cf88fe9",
   "metadata": {
    "execution": {
     "iopub.execute_input": "2025-07-08T01:35:12.666231Z",
     "iopub.status.busy": "2025-07-08T01:35:12.665918Z",
     "iopub.status.idle": "2025-07-08T01:35:12.672823Z",
     "shell.execute_reply": "2025-07-08T01:35:12.672455Z"
    },
    "papermill": {
     "duration": 0.011025,
     "end_time": "2025-07-08T01:35:12.673559",
     "exception": false,
     "start_time": "2025-07-08T01:35:12.662534",
     "status": "completed"
    },
    "tags": []
   },
   "outputs": [
    {
     "data": {
      "text/plain": [
       "'PRyMini.compute_bckg_flag = True\\nPRyMini.save_bckg_flag = False\\nPRyMini.stasis_flag = True\\nPRyMini.verbose_flag = False\\nPRyMini.smallnet_flag = True\\nTends = np.logspace(-3,1,200)\\n\\n\\n\\n# Optional: write header only once\\nfile_name = \"results_small.txt\"\\nwith open(file_name, \"w\") as f:\\n    f.write(\"Tend Neff Omeganurel 1/Omeganunr YPCMB YPBBN DoHx1e5 He3oHx1e5 Li7oHx1e10\\n\")\\n\\nfor T in Tends:\\n    PRyMini.stasis_params[\\'stasis_end_mev\\'] = T\\n    results = test_main.PRyMclass().PRyMresults()\\n    Neff_f, Omeganurel_f, OneOverOmeganunr_f, YPCMB_f, YPBBN_f, DoHx1e5_f, He3oHx1e5_f, Li7oHx1e10_f = results\\n\\n    #Save this result immediately\\n    with open(file_name, \"a\") as f:\\n        f.write(f\"{T:.6g} {Neff_f:.6g} {Omeganurel_f:.6g} {OneOverOmeganunr_f:.6g} \"\\n                f\"{YPCMB_f:.6g} {YPBBN_f:.6g} {DoHx1e5_f:.6g} {He3oHx1e5_f:.6g} {Li7oHx1e10_f:.6g}\\n\")'"
      ]
     },
     "execution_count": 2,
     "metadata": {},
     "output_type": "execute_result"
    }
   ],
   "source": [
    "#creates plots that Tim is looking for\n",
    "\n",
    "'''PRyMini.compute_bckg_flag = True\n",
    "PRyMini.save_bckg_flag = False\n",
    "PRyMini.stasis_flag = True\n",
    "PRyMini.verbose_flag = False\n",
    "PRyMini.smallnet_flag = True\n",
    "Tends = np.logspace(-3,1,200)\n",
    "\n",
    "\n",
    "\n",
    "# Optional: write header only once\n",
    "file_name = \"results_small.txt\"\n",
    "with open(file_name, \"w\") as f:\n",
    "    f.write(\"Tend Neff Omeganurel 1/Omeganunr YPCMB YPBBN DoHx1e5 He3oHx1e5 Li7oHx1e10\\n\")\n",
    "\n",
    "for T in Tends:\n",
    "    PRyMini.stasis_params['stasis_end_mev'] = T\n",
    "    results = test_main.PRyMclass().PRyMresults()\n",
    "    Neff_f, Omeganurel_f, OneOverOmeganunr_f, YPCMB_f, YPBBN_f, DoHx1e5_f, He3oHx1e5_f, Li7oHx1e10_f = results\n",
    "\n",
    "    #Save this result immediately\n",
    "    with open(file_name, \"a\") as f:\n",
    "        f.write(f\"{T:.6g} {Neff_f:.6g} {Omeganurel_f:.6g} {OneOverOmeganunr_f:.6g} \"\n",
    "                f\"{YPCMB_f:.6g} {YPBBN_f:.6g} {DoHx1e5_f:.6g} {He3oHx1e5_f:.6g} {Li7oHx1e10_f:.6g}\\n\")'''"
   ]
  },
  {
   "cell_type": "code",
   "execution_count": 3,
   "id": "41ddb4f5",
   "metadata": {
    "execution": {
     "iopub.execute_input": "2025-07-08T01:35:12.679858Z",
     "iopub.status.busy": "2025-07-08T01:35:12.679634Z",
     "iopub.status.idle": "2025-07-08T01:35:12.682703Z",
     "shell.execute_reply": "2025-07-08T01:35:12.682273Z"
    },
    "papermill": {
     "duration": 0.007177,
     "end_time": "2025-07-08T01:35:12.683452",
     "exception": false,
     "start_time": "2025-07-08T01:35:12.676275",
     "status": "completed"
    },
    "tags": []
   },
   "outputs": [
    {
     "data": {
      "text/plain": [
       "'columns = [\\n    \"Tend\", \"Neff\", \"Omeganurel\", \"OneOverOmeganunr\",\\n    \"YPCMB\", \"YPBBN\", \"DoHx1e5\", \"He3oHx1e5\", \"Li7oHx1e10\"\\n]\\n\\n# Read the space-separated file\\ndf = pd.read_csv(\"results_small.txt\", delim_whitespace=True, comment=\"#\", names=columns, skiprows=1)'"
      ]
     },
     "execution_count": 3,
     "metadata": {},
     "output_type": "execute_result"
    }
   ],
   "source": [
    "#to import data\n",
    "'''columns = [\n",
    "    \"Tend\", \"Neff\", \"Omeganurel\", \"OneOverOmeganunr\",\n",
    "    \"YPCMB\", \"YPBBN\", \"DoHx1e5\", \"He3oHx1e5\", \"Li7oHx1e10\"\n",
    "]\n",
    "\n",
    "# Read the space-separated file\n",
    "df = pd.read_csv(\"results_small.txt\", delim_whitespace=True, comment=\"#\", names=columns, skiprows=1)'''"
   ]
  },
  {
   "cell_type": "code",
   "execution_count": 4,
   "id": "cafe1d31",
   "metadata": {
    "execution": {
     "iopub.execute_input": "2025-07-08T01:35:12.689562Z",
     "iopub.status.busy": "2025-07-08T01:35:12.689324Z",
     "iopub.status.idle": "2025-07-08T01:35:12.693384Z",
     "shell.execute_reply": "2025-07-08T01:35:12.693013Z"
    },
    "papermill": {
     "duration": 0.007835,
     "end_time": "2025-07-08T01:35:12.694105",
     "exception": false,
     "start_time": "2025-07-08T01:35:12.686270",
     "status": "completed"
    },
    "tags": []
   },
   "outputs": [
    {
     "data": {
      "text/plain": [
       "\"Tends = np.logspace(-3,1,50)\\nplasma_injects = np.linspace(0,1,50)\\n\\nTends = np.logspace(-3, 1, 50)\\nplasma_injects = np.linspace(0, 1, 50)\\n\\n# Create a meshgrid\\nT_grid, plasma_grid = np.meshgrid(Tends, plasma_injects, indexing='ij')\\n\\n# Flatten the grids and stack into pairs\\ngrid_points = np.column_stack([T_grid.ravel(), plasma_grid.ravel()])\""
      ]
     },
     "execution_count": 4,
     "metadata": {},
     "output_type": "execute_result"
    }
   ],
   "source": [
    "'''Tends = np.logspace(-3,1,50)\n",
    "plasma_injects = np.linspace(0,1,50)\n",
    "\n",
    "Tends = np.logspace(-3, 1, 50)\n",
    "plasma_injects = np.linspace(0, 1, 50)\n",
    "\n",
    "# Create a meshgrid\n",
    "T_grid, plasma_grid = np.meshgrid(Tends, plasma_injects, indexing='ij')\n",
    "\n",
    "# Flatten the grids and stack into pairs\n",
    "grid_points = np.column_stack([T_grid.ravel(), plasma_grid.ravel()])'''"
   ]
  },
  {
   "cell_type": "code",
   "execution_count": 5,
   "id": "08e7105a",
   "metadata": {
    "execution": {
     "iopub.execute_input": "2025-07-08T01:35:12.700376Z",
     "iopub.status.busy": "2025-07-08T01:35:12.700219Z",
     "iopub.status.idle": "2025-07-08T10:07:08.234992Z",
     "shell.execute_reply": "2025-07-08T10:07:08.234362Z"
    },
    "papermill": {
     "duration": 30715.539394,
     "end_time": "2025-07-08T10:07:08.236320",
     "exception": false,
     "start_time": "2025-07-08T01:35:12.696926",
     "status": "completed"
    },
    "tags": []
   },
   "outputs": [],
   "source": [
    "#code to creates data for 2d heatmaps\n",
    "Tends = np.logspace(0, 1, 50)\n",
    "plasma_injects = np.linspace(0, 1, 50)\n",
    "\n",
    "# Create the full grid\n",
    "T_grid, plasma_grid = np.meshgrid(Tends, plasma_injects, indexing='ij')\n",
    "\n",
    "# Flatten into 1D arrays\n",
    "T_ends = T_grid.ravel()\n",
    "plasma_injects = plasma_grid.ravel()\n",
    "\n",
    "\n",
    "PRyMini.compute_bckg_flag = True\n",
    "PRyMini.save_bckg_flag = False\n",
    "PRyMini.stasis_flag = True\n",
    "PRyMini.verbose_flag = False\n",
    "PRyMini.smallnet_flag = True\n",
    "\n",
    "\n",
    "\n",
    "\n",
    "# Optional: write header only once\n",
    "file_name = \"results_grid_small.txt\"\n",
    "with open(file_name, \"w\") as f:\n",
    "    f.write(\"Tend f Neff Omeganurel 1/Omeganunr YPCMB YPBBN DoHx1e5 He3oHx1e5 Li7oHx1e10\\n\")\n",
    "\n",
    "for n in range(len(T_ends)):\n",
    "    PRyMini.stasis_params['stasis_end_mev'] = T_ends[n]\n",
    "    PRyMini.stasis_params['plasma_inject_frac'] = plasma_injects[n]\n",
    "    results = test_main.PRyMclass().PRyMresults()\n",
    "    Neff_f, Omeganurel_f, OneOverOmeganunr_f, YPCMB_f, YPBBN_f, DoHx1e5_f, He3oHx1e5_f, Li7oHx1e10_f = results\n",
    "\n",
    "    #Save this result immediately\n",
    "    with open(file_name, \"a\") as f:\n",
    "        f.write(f\"{T_ends[n]:.6g} {plasma_injects[n]:.6g} {Neff_f:.6g} {Omeganurel_f:.6g} {OneOverOmeganunr_f:.6g} \"\n",
    "                f\"{YPCMB_f:.6g} {YPBBN_f:.6g} {DoHx1e5_f:.6g} {He3oHx1e5_f:.6g} {Li7oHx1e10_f:.6g}\\n\")"
   ]
  },
  {
   "cell_type": "code",
   "execution_count": 6,
   "id": "abbd9882",
   "metadata": {
    "execution": {
     "iopub.execute_input": "2025-07-08T10:07:08.261780Z",
     "iopub.status.busy": "2025-07-08T10:07:08.261473Z",
     "iopub.status.idle": "2025-07-08T10:07:08.266624Z",
     "shell.execute_reply": "2025-07-08T10:07:08.266243Z"
    },
    "papermill": {
     "duration": 0.0109,
     "end_time": "2025-07-08T10:07:08.267395",
     "exception": false,
     "start_time": "2025-07-08T10:07:08.256495",
     "status": "completed"
    },
    "tags": []
   },
   "outputs": [
    {
     "data": {
      "text/plain": [
       "'T_ends = df[\\'Tend\\'].tolist()\\nNeff = df[\\'Neff\\'].tolist()\\n\\nplt.plot(T_ends,Neff)\\nplt.xscale(\\'log\\')\\nplt.gca().invert_xaxis()\\nplt.ylim(0,40)\\nplt.ylabel(r\"$N_{\\rm{eff}}$\")\\nplt.xlabel(r\"$T_{\\rm{end}}$\")'"
      ]
     },
     "execution_count": 6,
     "metadata": {},
     "output_type": "execute_result"
    }
   ],
   "source": [
    "\n",
    "'''T_ends = df['Tend'].tolist()\n",
    "Neff = df['Neff'].tolist()\n",
    "\n",
    "plt.plot(T_ends,Neff)\n",
    "plt.xscale('log')\n",
    "plt.gca().invert_xaxis()\n",
    "plt.ylim(0,40)\n",
    "plt.ylabel(r\"$N_{\\rm{eff}}$\")\n",
    "plt.xlabel(r\"$T_{\\rm{end}}$\")'''"
   ]
  },
  {
   "cell_type": "code",
   "execution_count": 7,
   "id": "84ab5f50",
   "metadata": {
    "execution": {
     "iopub.execute_input": "2025-07-08T10:07:08.276549Z",
     "iopub.status.busy": "2025-07-08T10:07:08.276310Z",
     "iopub.status.idle": "2025-07-08T10:07:08.280368Z",
     "shell.execute_reply": "2025-07-08T10:07:08.280001Z"
    },
    "papermill": {
     "duration": 0.009429,
     "end_time": "2025-07-08T10:07:08.281065",
     "exception": false,
     "start_time": "2025-07-08T10:07:08.271636",
     "status": "completed"
    },
    "tags": []
   },
   "outputs": [
    {
     "data": {
      "text/plain": [
       "'columns = [\\n    \"Tend\", \"f\",\"Neff\", \"Omeganurel\", \"OneOverOmeganunr\",\\n    \"YPCMB\", \"YPBBN\", \"DoHx1e5\", \"He3oHx1e5\", \"Li7oHx1e10\"\\n]\\n\\n# Read the space-separated file\\ndf = pd.read_csv(\"results_grid.txt\", delim_whitespace=True, comment=\"#\", names=columns, skiprows=1)'"
      ]
     },
     "execution_count": 7,
     "metadata": {},
     "output_type": "execute_result"
    }
   ],
   "source": [
    "'''columns = [\n",
    "    \"Tend\", \"f\",\"Neff\", \"Omeganurel\", \"OneOverOmeganunr\",\n",
    "    \"YPCMB\", \"YPBBN\", \"DoHx1e5\", \"He3oHx1e5\", \"Li7oHx1e10\"\n",
    "]\n",
    "\n",
    "# Read the space-separated file\n",
    "df = pd.read_csv(\"results_grid.txt\", delim_whitespace=True, comment=\"#\", names=columns, skiprows=1)'''"
   ]
  },
  {
   "cell_type": "code",
   "execution_count": 8,
   "id": "158f79bd",
   "metadata": {
    "execution": {
     "iopub.execute_input": "2025-07-08T10:07:08.289228Z",
     "iopub.status.busy": "2025-07-08T10:07:08.289074Z",
     "iopub.status.idle": "2025-07-08T10:07:08.291368Z",
     "shell.execute_reply": "2025-07-08T10:07:08.290950Z"
    },
    "papermill": {
     "duration": 0.007231,
     "end_time": "2025-07-08T10:07:08.292116",
     "exception": false,
     "start_time": "2025-07-08T10:07:08.284885",
     "status": "completed"
    },
    "tags": []
   },
   "outputs": [],
   "source": [
    "#df"
   ]
  },
  {
   "cell_type": "code",
   "execution_count": 9,
   "id": "bfd21938",
   "metadata": {
    "execution": {
     "iopub.execute_input": "2025-07-08T10:07:08.300951Z",
     "iopub.status.busy": "2025-07-08T10:07:08.300728Z",
     "iopub.status.idle": "2025-07-08T10:07:08.303332Z",
     "shell.execute_reply": "2025-07-08T10:07:08.302947Z"
    },
    "papermill": {
     "duration": 0.007612,
     "end_time": "2025-07-08T10:07:08.304040",
     "exception": false,
     "start_time": "2025-07-08T10:07:08.296428",
     "status": "completed"
    },
    "tags": []
   },
   "outputs": [],
   "source": [
    "#df.columns"
   ]
  },
  {
   "cell_type": "code",
   "execution_count": 10,
   "id": "0df22bfe",
   "metadata": {
    "execution": {
     "iopub.execute_input": "2025-07-08T10:07:08.312648Z",
     "iopub.status.busy": "2025-07-08T10:07:08.312457Z",
     "iopub.status.idle": "2025-07-08T10:07:08.317610Z",
     "shell.execute_reply": "2025-07-08T10:07:08.317235Z"
    },
    "papermill": {
     "duration": 0.010234,
     "end_time": "2025-07-08T10:07:08.318332",
     "exception": false,
     "start_time": "2025-07-08T10:07:08.308098",
     "status": "completed"
    },
    "tags": []
   },
   "outputs": [],
   "source": [
    "def plot_heatmap(ax, x, y, z, title, vmin=None, vmax=None):\n",
    "    # Convert to numpy arrays\n",
    "    x = np.array(x)\n",
    "    y = np.array(y)\n",
    "    z = np.array(z)\n",
    "\n",
    "    # Infer grid shape\n",
    "    x_unique = np.unique(x)\n",
    "    y_unique = np.unique(y)\n",
    "    nx = len(x_unique)\n",
    "    ny = len(y_unique)\n",
    "\n",
    "    # Reshape z\n",
    "    sort_idx = np.lexsort((x, y))\n",
    "    z_sorted = z[sort_idx].reshape(ny, nx)\n",
    "\n",
    "    # Plot\n",
    "    c = ax.imshow(z_sorted,\n",
    "                  extent=[x.min(), x.max(), y.min(), y.max()],\n",
    "                  origin='lower',\n",
    "                  aspect='auto',\n",
    "                  vmin=vmin,\n",
    "                  vmax=vmax)\n",
    "    #ax.set_title(title)\n",
    "    ax.set_xscale('log')\n",
    "    #ax.set_zscale('log')\n",
    "    #ax.set_yscale('log')\n",
    "    \n",
    "    return c"
   ]
  },
  {
   "cell_type": "code",
   "execution_count": 11,
   "id": "0e1a97e4",
   "metadata": {
    "execution": {
     "iopub.execute_input": "2025-07-08T10:07:08.327135Z",
     "iopub.status.busy": "2025-07-08T10:07:08.326911Z",
     "iopub.status.idle": "2025-07-08T10:07:08.331723Z",
     "shell.execute_reply": "2025-07-08T10:07:08.331364Z"
    },
    "papermill": {
     "duration": 0.009804,
     "end_time": "2025-07-08T10:07:08.332406",
     "exception": false,
     "start_time": "2025-07-08T10:07:08.322602",
     "status": "completed"
    },
    "tags": []
   },
   "outputs": [
    {
     "data": {
      "text/plain": [
       "'# Create four different (x, y) grids\\nx1 = df[\\'Tend\\'].tolist()\\ny1 = df[\\'f\\'].tolist()\\n#X1, Y1 = np.meshgrid(x1, y1)\\nz1 = df[\\'Neff\\'].tolist()\\n\\nx2 = df[\\'Tend\\'].tolist()\\ny2 = df[\\'f\\'].tolist()\\n#X2, Y2 = np.meshgrid(x2, y2)\\nz2 = df[\\'Li7oHx1e10\\'].tolist()\\n\\nx3 = df[\\'Tend\\'].tolist()\\ny3 = df[\\'f\\'].tolist()\\n#X3, Y3 = np.meshgrid(x3, y3)\\nz3 = df[\\'YPCMB\\'].tolist()\\n\\nx4 = df[\\'Tend\\'].tolist()\\ny4 = df[\\'f\\'].tolist()\\n#X4, Y4 = np.meshgrid(x4, y4)\\nz4 = df[\\'DoHx1e5\\'].tolist()\\n\\n# Plotting\\nfig, axs = plt.subplots(2, 2, figsize=(10, 8))\\n\\nc1 = plot_heatmap(axs[0, 0], x1, y1, z1, \\'sin(x² + y²)\\',0,5)\\ncb1 = fig.colorbar(c1, ax=axs[0, 0])\\ncb1.set_label(\"Neff\")\\naxs[0,0].set_xlabel(\"Tend\")\\naxs[0,0].set_ylabel(\"fraction\")\\n\\nc2 = plot_heatmap(axs[0, 1], x2, y2, z2, \\'cos(x) * sin(y)\\',0,10)\\n#fig.colorbar(c2, ax=axs[0, 1])\\ncb2 = fig.colorbar(c2, ax=axs[0, 1])\\ncb2.set_label(\"Li7oHx1e10\")\\naxs[0,1].set_xlabel(\"Tend\")\\naxs[0,1].set_ylabel(\"fraction\")\\n\\n\\nc3 = plot_heatmap(axs[1, 0], x3, y3, z3, \\'exp(-x² - y²)\\',.2,.4)\\n#fig.colorbar(c3, ax=axs[1, 0])\\ncb3 = fig.colorbar(c3, ax=axs[1, 0])\\ncb3.set_label(\"YPCMB\")\\naxs[1,0].set_xlabel(\"Tend\")\\naxs[1,0].set_ylabel(\"fraction\")\\n\\nc4 = plot_heatmap(axs[1, 1], x4, y4, z4, \\'x * y\\',1,4)\\n#fig.colorbar(c4, ax=axs[1, 1])\\ncb4 = fig.colorbar(c4, ax=axs[1, 1])\\ncb4.set_label(\"DoHx1e5\")\\naxs[1,1].set_xlabel(\"Tend\")\\naxs[1,1].set_ylabel(\"fraction\")\\n\\n\\nplt.tight_layout()\\nplt.savefig(\\'2d_heatmap.pdf\\')\\nplt.show()'"
      ]
     },
     "execution_count": 11,
     "metadata": {},
     "output_type": "execute_result"
    }
   ],
   "source": [
    "#creates 2D heat maps\n",
    "\n",
    "'''# Create four different (x, y) grids\n",
    "x1 = df['Tend'].tolist()\n",
    "y1 = df['f'].tolist()\n",
    "#X1, Y1 = np.meshgrid(x1, y1)\n",
    "z1 = df['Neff'].tolist()\n",
    "\n",
    "x2 = df['Tend'].tolist()\n",
    "y2 = df['f'].tolist()\n",
    "#X2, Y2 = np.meshgrid(x2, y2)\n",
    "z2 = df['Li7oHx1e10'].tolist()\n",
    "\n",
    "x3 = df['Tend'].tolist()\n",
    "y3 = df['f'].tolist()\n",
    "#X3, Y3 = np.meshgrid(x3, y3)\n",
    "z3 = df['YPCMB'].tolist()\n",
    "\n",
    "x4 = df['Tend'].tolist()\n",
    "y4 = df['f'].tolist()\n",
    "#X4, Y4 = np.meshgrid(x4, y4)\n",
    "z4 = df['DoHx1e5'].tolist()\n",
    "\n",
    "# Plotting\n",
    "fig, axs = plt.subplots(2, 2, figsize=(10, 8))\n",
    "\n",
    "c1 = plot_heatmap(axs[0, 0], x1, y1, z1, 'sin(x² + y²)',0,5)\n",
    "cb1 = fig.colorbar(c1, ax=axs[0, 0])\n",
    "cb1.set_label(\"Neff\")\n",
    "axs[0,0].set_xlabel(\"Tend\")\n",
    "axs[0,0].set_ylabel(\"fraction\")\n",
    "\n",
    "c2 = plot_heatmap(axs[0, 1], x2, y2, z2, 'cos(x) * sin(y)',0,10)\n",
    "#fig.colorbar(c2, ax=axs[0, 1])\n",
    "cb2 = fig.colorbar(c2, ax=axs[0, 1])\n",
    "cb2.set_label(\"Li7oHx1e10\")\n",
    "axs[0,1].set_xlabel(\"Tend\")\n",
    "axs[0,1].set_ylabel(\"fraction\")\n",
    "\n",
    "\n",
    "c3 = plot_heatmap(axs[1, 0], x3, y3, z3, 'exp(-x² - y²)',.2,.4)\n",
    "#fig.colorbar(c3, ax=axs[1, 0])\n",
    "cb3 = fig.colorbar(c3, ax=axs[1, 0])\n",
    "cb3.set_label(\"YPCMB\")\n",
    "axs[1,0].set_xlabel(\"Tend\")\n",
    "axs[1,0].set_ylabel(\"fraction\")\n",
    "\n",
    "c4 = plot_heatmap(axs[1, 1], x4, y4, z4, 'x * y',1,4)\n",
    "#fig.colorbar(c4, ax=axs[1, 1])\n",
    "cb4 = fig.colorbar(c4, ax=axs[1, 1])\n",
    "cb4.set_label(\"DoHx1e5\")\n",
    "axs[1,1].set_xlabel(\"Tend\")\n",
    "axs[1,1].set_ylabel(\"fraction\")\n",
    "\n",
    "\n",
    "plt.tight_layout()\n",
    "plt.savefig('2d_heatmap.pdf')\n",
    "plt.show()'''"
   ]
  }
 ],
 "metadata": {
  "kernelspec": {
   "display_name": ".venv",
   "language": "python",
   "name": "python3"
  },
  "language_info": {
   "codemirror_mode": {
    "name": "ipython",
    "version": 3
   },
   "file_extension": ".py",
   "mimetype": "text/x-python",
   "name": "python",
   "nbconvert_exporter": "python",
   "pygments_lexer": "ipython3",
   "version": "3.11.9"
  },
  "papermill": {
   "default_parameters": {},
   "duration": 30728.38674,
   "end_time": "2025-07-08T10:07:09.853163",
   "environment_variables": {},
   "exception": null,
   "input_path": "/pub/ahewitt1/Stasis/Stasis_prym/Alec_tim_plots_2.ipynb",
   "output_path": "/pub/ahewitt1/Stasis/Stasis_prym/output_notebook_grid_small.ipynb",
   "parameters": {},
   "start_time": "2025-07-08T01:35:01.466423",
   "version": "2.6.0"
  }
 },
 "nbformat": 4,
 "nbformat_minor": 5
}