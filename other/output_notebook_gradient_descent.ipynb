{
 "cells": [
  {
   "cell_type": "markdown",
   "id": "b246bc6a",
   "metadata": {
    "tags": [
     "papermill-error-cell-tag"
    ]
   },
   "source": [
    "<span style=\"color:red; font-family:Helvetica Neue, Helvetica, Arial, sans-serif; font-size:2em;\">An Exception was encountered at '<a href=\"#papermill-error-cell\">In [8]</a>'.</span>"
   ]
  },
  {
   "cell_type": "code",
   "execution_count": 1,
   "id": "89012fbd",
   "metadata": {
    "execution": {
     "iopub.execute_input": "2025-07-14T02:39:39.116179Z",
     "iopub.status.busy": "2025-07-14T02:39:39.115952Z",
     "iopub.status.idle": "2025-07-14T02:40:02.524300Z",
     "shell.execute_reply": "2025-07-14T02:40:02.523903Z"
    },
    "papermill": {
     "duration": 23.415924,
     "end_time": "2025-07-14T02:40:02.525098",
     "exception": false,
     "start_time": "2025-07-14T02:39:39.109174",
     "status": "completed"
    },
    "tags": []
   },
   "outputs": [],
   "source": [
    "import time\n",
    "import numpy as np\n",
    "import types\n",
    "import os\n",
    "from scipy.integrate import solve_ivp\n",
    "from scipy.interpolate import interp1d\n",
    "from scipy.special import zeta\n",
    "import PRyM.PRyM_init as PRyMini\n",
    "import PRyM.PRyM_thermo as PRyMthermo\n",
    "import PRyM.test_main3 as test_main\n",
    "#import PRyM.PRyM_jl_sys as PRyMjl\n",
    "from numdifftools import Derivative\n",
    "import PRyM.PRyM_eval_nTOp as PRyMevalnTOp\n",
    "import PRyM.PRyM_nTOp as PRyMnTOp\n",
    "import matplotlib.pyplot as plt\n",
    "import pandas as pd\n",
    "import random"
   ]
  },
  {
   "cell_type": "code",
   "execution_count": 2,
   "id": "6131e6e6",
   "metadata": {
    "execution": {
     "iopub.execute_input": "2025-07-14T02:40:02.534182Z",
     "iopub.status.busy": "2025-07-14T02:40:02.533865Z",
     "iopub.status.idle": "2025-07-14T02:40:02.537116Z",
     "shell.execute_reply": "2025-07-14T02:40:02.536718Z"
    },
    "papermill": {
     "duration": 0.008297,
     "end_time": "2025-07-14T02:40:02.537716",
     "exception": false,
     "start_time": "2025-07-14T02:40:02.529419",
     "status": "completed"
    },
    "tags": []
   },
   "outputs": [],
   "source": [
    "#observed values, all wrong currently, for testing purposes\n",
    "#Neff_obs, Omeganurel_obs, OneOverOmeganunr_obs, YPCMB_obs, YPBBN_obs, DoHx1e5_obs, He3oHx1e5_obs, Li7oHx1e10_obs = np.array([3.04439907, 5.69942692, 93.03336616, 0.24552507, 0.24685084, 2.5276775, 1.04572838, 5.27256451])\n",
    "#Yp, Omega_B h^2, Neff\n",
    "#YPCMB_obs, OmegaB_obs, Neff_obs, DoHx1e5_obs, Li7oHx1e10_obs\n",
    "YPCMB_obs, Neff_obs, DoHx1e5_obs, Li7oHx1e10_obs = np.array([0.24,3.85,2.547,1.63])\n",
    "X_obs = np.array([YPCMB_obs, Neff_obs, DoHx1e5_obs, Li7oHx1e10_obs])\n",
    "#X_obs = np.array([Neff_obs, Omeganurel_obs, OneOverOmeganunr_obs, YPCMB_obs, YPBBN_obs, DoHx1e5_obs, He3oHx1e5_obs, Li7oHx1e10_obs])\n",
    "#Neff_sig, Omeganurel_sig, OneOverOmeganunr_sig, YPCMB, YPBBN_sig, DoHx1e5_sig, He3oHx1e5_sig, Li7oHx1e10_sig = np.array([0.5,0.5,3,.1,.1,.3,.2,1])\n",
    "YPCMB_sig, Neff_sig, DoHx1e5_sig, Li7oHx1e10_sig = np.array([0.24,0.62,0.029,0.3])\n",
    "#sigma_X = np.array([Neff_sig, Omeganurel_sig, OneOverOmeganunr_sig, YPCMB, YPBBN_sig, DoHx1e5_sig, He3oHx1e5_sig, Li7oHx1e10_sig])\n",
    "sigma_X = np.array([YPCMB_sig, Neff_sig, DoHx1e5_sig, Li7oHx1e10_sig])"
   ]
  },
  {
   "cell_type": "code",
   "execution_count": 3,
   "id": "f4634fd6",
   "metadata": {
    "execution": {
     "iopub.execute_input": "2025-07-14T02:40:02.546603Z",
     "iopub.status.busy": "2025-07-14T02:40:02.546417Z",
     "iopub.status.idle": "2025-07-14T02:40:02.548878Z",
     "shell.execute_reply": "2025-07-14T02:40:02.548559Z"
    },
    "papermill": {
     "duration": 0.006858,
     "end_time": "2025-07-14T02:40:02.549423",
     "exception": false,
     "start_time": "2025-07-14T02:40:02.542565",
     "status": "completed"
    },
    "tags": []
   },
   "outputs": [],
   "source": [
    "#chi2_fn(params)"
   ]
  },
  {
   "cell_type": "code",
   "execution_count": 4,
   "id": "bda261f9",
   "metadata": {
    "execution": {
     "iopub.execute_input": "2025-07-14T02:40:02.558858Z",
     "iopub.status.busy": "2025-07-14T02:40:02.558679Z",
     "iopub.status.idle": "2025-07-14T02:40:02.561040Z",
     "shell.execute_reply": "2025-07-14T02:40:02.560732Z"
    },
    "papermill": {
     "duration": 0.007433,
     "end_time": "2025-07-14T02:40:02.561592",
     "exception": false,
     "start_time": "2025-07-14T02:40:02.554159",
     "status": "completed"
    },
    "tags": []
   },
   "outputs": [],
   "source": [
    "#params"
   ]
  },
  {
   "cell_type": "code",
   "execution_count": 5,
   "id": "4318e7d8",
   "metadata": {
    "execution": {
     "iopub.execute_input": "2025-07-14T02:40:02.569222Z",
     "iopub.status.busy": "2025-07-14T02:40:02.569045Z",
     "iopub.status.idle": "2025-07-14T02:40:02.575034Z",
     "shell.execute_reply": "2025-07-14T02:40:02.574718Z"
    },
    "papermill": {
     "duration": 0.010555,
     "end_time": "2025-07-14T02:40:02.575707",
     "exception": false,
     "start_time": "2025-07-14T02:40:02.565152",
     "status": "completed"
    },
    "tags": []
   },
   "outputs": [],
   "source": [
    "filename = \"output.txt\"\n",
    "\n",
    "# Create the file (or clear it if it already exists)\n",
    "with open(filename, 'w') as f:\n",
    "    f.write(\"Starting output:\\n\")"
   ]
  },
  {
   "cell_type": "code",
   "execution_count": 6,
   "id": "d182f064",
   "metadata": {
    "execution": {
     "iopub.execute_input": "2025-07-14T02:40:02.584595Z",
     "iopub.status.busy": "2025-07-14T02:40:02.584426Z",
     "iopub.status.idle": "2025-07-14T02:40:02.649231Z",
     "shell.execute_reply": "2025-07-14T02:40:02.648850Z"
    },
    "papermill": {
     "duration": 0.070027,
     "end_time": "2025-07-14T02:40:02.649781",
     "exception": false,
     "start_time": "2025-07-14T02:40:02.579754",
     "status": "completed"
    },
    "tags": []
   },
   "outputs": [],
   "source": [
    "# Chi^2 function\n",
    "#params = [gamma,delta,alpha,delm,m0,fplas,f,Tend,Nspecies]\n",
    "def chi2_fn(params):\n",
    "    #initialize stasis parameters\n",
    "    PRyMini.compute_bckg_flag = True\n",
    "    PRyMini.save_bckg_flag = False\n",
    "    PRyMini.stasis_flag = True\n",
    "    PRyMini.verbose_flag = False\n",
    "    PRyMini.stasis_params['gamma'] = params[0]\n",
    "    PRyMini.stasis_params['delta'] = params[1]\n",
    "    PRyMini.stasis_params['alpha'] = params[2]\n",
    "    PRyMini.stasis_params['Delta_m'] = params[3]\n",
    "    PRyMini.stasis_params['m0'] = params[4]\n",
    "    PRyMini.stasis_params['plasma_inject_frac'] = params[5]\n",
    "    PRyMini.stasis_params['tiny_radiation'] = params[6]\n",
    "    PRyMini.stasis_params['stasis_end_mev'] = params[7]\n",
    "    PRyMini.stasis_params['N_SPECIES'] = int(params[8])\n",
    "    print(PRyMini.stasis_params)\n",
    "    #predictions = model(params)\n",
    "    #residuals = (predictions - X_obs) / errors\n",
    "    #sum(((X_th-X_obs)/sigma_X)**2)\n",
    "    #calculate theoretical values\n",
    "    results = test_main.PRyMclass().PRyMresults()\n",
    "    Neff, Omeganurel, OneOverOmeganunr, YPCMB, YPBBN, DoHx1e5, He3oHx1e5, Li7oHx1e10 = results\n",
    "    #X_th = np.array([Neff, Omeganurel, OneOverOmeganunr, YPCMB, YPBBN, DoHx1e5, He3oHx1e5, Li7oHx1e10])\n",
    "    X_th = np.array([YPCMB, Neff, DoHx1e5, Li7oHx1e10])\n",
    "    return sum(((X_th-X_obs)/sigma_X)**2)\n",
    "\n",
    "# Gradient of chi^2 (numerical)\n",
    "def grad_chi2(params, eps=1e-5):\n",
    "    grad = np.zeros_like(params)\n",
    "    for i in range(len(params)):\n",
    "        dparams = np.zeros_like(params)\n",
    "        dparams[i] = eps\n",
    "        grad[i] = (chi2_fn(params + dparams) - chi2_fn(params - dparams)) / (2 * eps)\n",
    "    return grad\n",
    "\n",
    "# Gradient descent routine\n",
    "def gradient_descent(init_params, lr=0.01, tol=1e-6, max_iter=100):\n",
    "    params = np.array(init_params)#, dtype=float)\n",
    "    with open(filename, 'a') as f:\n",
    "        f.write(str(params))\n",
    "        f.flush()\n",
    "    for step in range(max_iter):\n",
    "        print(step)\n",
    "        grad = grad_chi2(params)\n",
    "        params -= lr * grad\n",
    "        with open(filename, 'a') as f:\n",
    "            f.write(str(params))\n",
    "            f.flush()\n",
    "\n",
    "        if np.linalg.norm(grad) < tol:\n",
    "            print(f\"Converged in {step} steps.\")\n",
    "            break\n",
    "    return params"
   ]
  },
  {
   "cell_type": "code",
   "execution_count": 7,
   "id": "5f1b0ddb",
   "metadata": {
    "execution": {
     "iopub.execute_input": "2025-07-14T02:40:02.658223Z",
     "iopub.status.busy": "2025-07-14T02:40:02.658032Z",
     "iopub.status.idle": "2025-07-14T02:40:02.663314Z",
     "shell.execute_reply": "2025-07-14T02:40:02.662997Z"
    },
    "papermill": {
     "duration": 0.009686,
     "end_time": "2025-07-14T02:40:02.663911",
     "exception": false,
     "start_time": "2025-07-14T02:40:02.654225",
     "status": "completed"
    },
    "tags": []
   },
   "outputs": [
    {
     "data": {
      "text/plain": [
       "{'gamma': 7,\n",
       " 'delta': 1,\n",
       " 'm0': 1.0,\n",
       " 'Delta_m': 1.0,\n",
       " 'N_SPECIES': 10,\n",
       " 'GAMMA_OVER_H': 100000.0,\n",
       " 'stasis_end_mev': 50,\n",
       " 'tiny_radiation': 0.01,\n",
       " 'plasma_inject_frac': 0.1,\n",
       " 'alpha': 1.0}"
      ]
     },
     "execution_count": 7,
     "metadata": {},
     "output_type": "execute_result"
    }
   ],
   "source": [
    "PRyMini.stasis_params"
   ]
  },
  {
   "cell_type": "markdown",
   "id": "0c6e73b0",
   "metadata": {
    "tags": [
     "papermill-error-cell-tag"
    ]
   },
   "source": [
    "<span id=\"papermill-error-cell\" style=\"color:red; font-family:Helvetica Neue, Helvetica, Arial, sans-serif; font-size:2em;\">Execution using papermill encountered an exception here and stopped:</span>"
   ]
  },
  {
   "cell_type": "code",
   "execution_count": 8,
   "id": "fbaf9f4d",
   "metadata": {
    "execution": {
     "iopub.execute_input": "2025-07-14T02:40:02.674548Z",
     "iopub.status.busy": "2025-07-14T02:40:02.674341Z",
     "iopub.status.idle": "2025-07-14T02:43:01.700464Z",
     "shell.execute_reply": "2025-07-14T02:43:01.699572Z"
    },
    "papermill": {
     "duration": 179.031765,
     "end_time": "2025-07-14T02:43:01.701144",
     "exception": true,
     "start_time": "2025-07-14T02:40:02.669379",
     "status": "failed"
    },
    "tags": []
   },
   "outputs": [
    {
     "name": "stdout",
     "output_type": "stream",
     "text": [
      "20\n",
      "0\n",
      "{'gamma': np.float64(5.809355705496223), 'delta': np.float64(2.9811026795260283), 'm0': np.float64(5.703363042766905), 'Delta_m': np.float64(5.703363042766905), 'N_SPECIES': 20, 'GAMMA_OVER_H': 100000.0, 'stasis_end_mev': np.float64(5.628032816623824), 'tiny_radiation': np.float64(0.2832358299160309), 'plasma_inject_frac': np.float64(0.5464390034666677), 'alpha': np.float64(1.3243667130143755)}\n"
     ]
    },
    {
     "name": "stdout",
     "output_type": "stream",
     "text": [
      "{'gamma': np.float64(5.809335705496224), 'delta': np.float64(2.9811026795260283), 'm0': np.float64(5.703363042766905), 'Delta_m': np.float64(5.703363042766905), 'N_SPECIES': 20, 'GAMMA_OVER_H': 100000.0, 'stasis_end_mev': np.float64(5.628032816623824), 'tiny_radiation': np.float64(0.2832358299160309), 'plasma_inject_frac': np.float64(0.5464390034666677), 'alpha': np.float64(1.3243667130143755)}\n"
     ]
    },
    {
     "name": "stdout",
     "output_type": "stream",
     "text": [
      "{'gamma': np.float64(5.809345705496224), 'delta': np.float64(2.9811126795260283), 'm0': np.float64(5.703363042766905), 'Delta_m': np.float64(5.703363042766905), 'N_SPECIES': 20, 'GAMMA_OVER_H': 100000.0, 'stasis_end_mev': np.float64(5.628032816623824), 'tiny_radiation': np.float64(0.2832358299160309), 'plasma_inject_frac': np.float64(0.5464390034666677), 'alpha': np.float64(1.3243667130143755)}\n"
     ]
    },
    {
     "name": "stdout",
     "output_type": "stream",
     "text": [
      "{'gamma': np.float64(5.809345705496224), 'delta': np.float64(2.981092679526028), 'm0': np.float64(5.703363042766905), 'Delta_m': np.float64(5.703363042766905), 'N_SPECIES': 20, 'GAMMA_OVER_H': 100000.0, 'stasis_end_mev': np.float64(5.628032816623824), 'tiny_radiation': np.float64(0.2832358299160309), 'plasma_inject_frac': np.float64(0.5464390034666677), 'alpha': np.float64(1.3243667130143755)}\n"
     ]
    },
    {
     "name": "stdout",
     "output_type": "stream",
     "text": [
      "{'gamma': np.float64(5.809345705496224), 'delta': np.float64(2.9811026795260283), 'm0': np.float64(5.703363042766905), 'Delta_m': np.float64(5.703363042766905), 'N_SPECIES': 20, 'GAMMA_OVER_H': 100000.0, 'stasis_end_mev': np.float64(5.628032816623824), 'tiny_radiation': np.float64(0.2832358299160309), 'plasma_inject_frac': np.float64(0.5464390034666677), 'alpha': np.float64(1.3243767130143755)}\n"
     ]
    },
    {
     "name": "stdout",
     "output_type": "stream",
     "text": [
      "{'gamma': np.float64(5.809345705496224), 'delta': np.float64(2.9811026795260283), 'm0': np.float64(5.703363042766905), 'Delta_m': np.float64(5.703363042766905), 'N_SPECIES': 20, 'GAMMA_OVER_H': 100000.0, 'stasis_end_mev': np.float64(5.628032816623824), 'tiny_radiation': np.float64(0.2832358299160309), 'plasma_inject_frac': np.float64(0.5464390034666677), 'alpha': np.float64(1.3243567130143754)}\n"
     ]
    },
    {
     "name": "stdout",
     "output_type": "stream",
     "text": [
      "{'gamma': np.float64(5.809345705496224), 'delta': np.float64(2.9811026795260283), 'm0': np.float64(5.703363042766905), 'Delta_m': np.float64(5.703373042766905), 'N_SPECIES': 20, 'GAMMA_OVER_H': 100000.0, 'stasis_end_mev': np.float64(5.628032816623824), 'tiny_radiation': np.float64(0.2832358299160309), 'plasma_inject_frac': np.float64(0.5464390034666677), 'alpha': np.float64(1.3243667130143755)}\n"
     ]
    },
    {
     "name": "stdout",
     "output_type": "stream",
     "text": [
      "{'gamma': np.float64(5.809345705496224), 'delta': np.float64(2.9811026795260283), 'm0': np.float64(5.703363042766905), 'Delta_m': np.float64(5.7033530427669055), 'N_SPECIES': 20, 'GAMMA_OVER_H': 100000.0, 'stasis_end_mev': np.float64(5.628032816623824), 'tiny_radiation': np.float64(0.2832358299160309), 'plasma_inject_frac': np.float64(0.5464390034666677), 'alpha': np.float64(1.3243667130143755)}\n"
     ]
    },
    {
     "name": "stdout",
     "output_type": "stream",
     "text": [
      "{'gamma': np.float64(5.809345705496224), 'delta': np.float64(2.9811026795260283), 'm0': np.float64(5.703373042766905), 'Delta_m': np.float64(5.703363042766905), 'N_SPECIES': 20, 'GAMMA_OVER_H': 100000.0, 'stasis_end_mev': np.float64(5.628032816623824), 'tiny_radiation': np.float64(0.2832358299160309), 'plasma_inject_frac': np.float64(0.5464390034666677), 'alpha': np.float64(1.3243667130143755)}\n"
     ]
    },
    {
     "name": "stdout",
     "output_type": "stream",
     "text": [
      "{'gamma': np.float64(5.809345705496224), 'delta': np.float64(2.9811026795260283), 'm0': np.float64(5.7033530427669055), 'Delta_m': np.float64(5.703363042766905), 'N_SPECIES': 20, 'GAMMA_OVER_H': 100000.0, 'stasis_end_mev': np.float64(5.628032816623824), 'tiny_radiation': np.float64(0.2832358299160309), 'plasma_inject_frac': np.float64(0.5464390034666677), 'alpha': np.float64(1.3243667130143755)}\n"
     ]
    },
    {
     "name": "stdout",
     "output_type": "stream",
     "text": [
      "{'gamma': np.float64(5.809345705496224), 'delta': np.float64(2.9811026795260283), 'm0': np.float64(5.703363042766905), 'Delta_m': np.float64(5.703363042766905), 'N_SPECIES': 20, 'GAMMA_OVER_H': 100000.0, 'stasis_end_mev': np.float64(5.628032816623824), 'tiny_radiation': np.float64(0.2832358299160309), 'plasma_inject_frac': np.float64(0.5464490034666677), 'alpha': np.float64(1.3243667130143755)}\n"
     ]
    },
    {
     "name": "stdout",
     "output_type": "stream",
     "text": [
      "{'gamma': np.float64(5.809345705496224), 'delta': np.float64(2.9811026795260283), 'm0': np.float64(5.703363042766905), 'Delta_m': np.float64(5.703363042766905), 'N_SPECIES': 20, 'GAMMA_OVER_H': 100000.0, 'stasis_end_mev': np.float64(5.628032816623824), 'tiny_radiation': np.float64(0.2832358299160309), 'plasma_inject_frac': np.float64(0.5464290034666678), 'alpha': np.float64(1.3243667130143755)}\n"
     ]
    },
    {
     "name": "stdout",
     "output_type": "stream",
     "text": [
      "{'gamma': np.float64(5.809345705496224), 'delta': np.float64(2.9811026795260283), 'm0': np.float64(5.703363042766905), 'Delta_m': np.float64(5.703363042766905), 'N_SPECIES': 20, 'GAMMA_OVER_H': 100000.0, 'stasis_end_mev': np.float64(5.628032816623824), 'tiny_radiation': np.float64(0.2832458299160309), 'plasma_inject_frac': np.float64(0.5464390034666677), 'alpha': np.float64(1.3243667130143755)}\n"
     ]
    },
    {
     "name": "stdout",
     "output_type": "stream",
     "text": [
      "{'gamma': np.float64(5.809345705496224), 'delta': np.float64(2.9811026795260283), 'm0': np.float64(5.703363042766905), 'Delta_m': np.float64(5.703363042766905), 'N_SPECIES': 20, 'GAMMA_OVER_H': 100000.0, 'stasis_end_mev': np.float64(5.628032816623824), 'tiny_radiation': np.float64(0.2832258299160309), 'plasma_inject_frac': np.float64(0.5464390034666677), 'alpha': np.float64(1.3243667130143755)}\n"
     ]
    },
    {
     "name": "stdout",
     "output_type": "stream",
     "text": [
      "{'gamma': np.float64(5.809345705496224), 'delta': np.float64(2.9811026795260283), 'm0': np.float64(5.703363042766905), 'Delta_m': np.float64(5.703363042766905), 'N_SPECIES': 20, 'GAMMA_OVER_H': 100000.0, 'stasis_end_mev': np.float64(5.628042816623823), 'tiny_radiation': np.float64(0.2832358299160309), 'plasma_inject_frac': np.float64(0.5464390034666677), 'alpha': np.float64(1.3243667130143755)}\n"
     ]
    },
    {
     "name": "stdout",
     "output_type": "stream",
     "text": [
      "{'gamma': np.float64(5.809345705496224), 'delta': np.float64(2.9811026795260283), 'm0': np.float64(5.703363042766905), 'Delta_m': np.float64(5.703363042766905), 'N_SPECIES': 20, 'GAMMA_OVER_H': 100000.0, 'stasis_end_mev': np.float64(5.628022816623824), 'tiny_radiation': np.float64(0.2832358299160309), 'plasma_inject_frac': np.float64(0.5464390034666677), 'alpha': np.float64(1.3243667130143755)}\n"
     ]
    },
    {
     "name": "stdout",
     "output_type": "stream",
     "text": [
      "{'gamma': np.float64(5.809345705496224), 'delta': np.float64(2.9811026795260283), 'm0': np.float64(5.703363042766905), 'Delta_m': np.float64(5.703363042766905), 'N_SPECIES': 20, 'GAMMA_OVER_H': 100000.0, 'stasis_end_mev': np.float64(5.628032816623824), 'tiny_radiation': np.float64(0.2832358299160309), 'plasma_inject_frac': np.float64(0.5464390034666677), 'alpha': np.float64(1.3243667130143755)}\n"
     ]
    },
    {
     "name": "stdout",
     "output_type": "stream",
     "text": [
      "{'gamma': np.float64(5.809345705496224), 'delta': np.float64(2.9811026795260283), 'm0': np.float64(5.703363042766905), 'Delta_m': np.float64(5.703363042766905), 'N_SPECIES': 19, 'GAMMA_OVER_H': 100000.0, 'stasis_end_mev': np.float64(5.628032816623824), 'tiny_radiation': np.float64(0.2832358299160309), 'plasma_inject_frac': np.float64(0.5464390034666677), 'alpha': np.float64(1.3243667130143755)}\n"
     ]
    },
    {
     "name": "stdout",
     "output_type": "stream",
     "text": [
      "1\n",
      "{'gamma': np.float64(-391.06532448511024), 'delta': np.float64(2.9811026795260283), 'm0': np.float64(242.6817298973675), 'Delta_m': np.float64(319.10262429232444), 'N_SPECIES': 4, 'GAMMA_OVER_H': 100000.0, 'stasis_end_mev': np.float64(-414.6348424781578), 'tiny_radiation': np.float64(-277.3000089475586), 'plasma_inject_frac': np.float64(-44.26126895503097), 'alpha': np.float64(508.668848270155)}\n"
     ]
    },
    {
     "name": "stderr",
     "output_type": "stream",
     "text": [
      "/dfs6/pub/ahewitt1/Stasis/Stasis_prym/PRyM/test_main3.py:749: RuntimeWarning: overflow encountered in power\n",
      "  omega = (m_ell/m0)**alpha\n",
      "/dfs6/pub/ahewitt1/Stasis/Stasis_prym/PRyM/test_main3.py:750: RuntimeWarning: invalid value encountered in divide\n",
      "  omega /= omega.sum()\n",
      "/dfs6/pub/ahewitt1/Stasis/Stasis_prym/PRyM/test_main3.py:782: RuntimeWarning: divide by zero encountered in log\n",
      "  \"chi_ell0\":   np.log(rho_ell0),\n"
     ]
    },
    {
     "ename": "ValueError",
     "evalue": "All components of the initial state `y0` must be finite.",
     "output_type": "error",
     "traceback": [
      "\u001b[31m---------------------------------------------------------------------------\u001b[39m",
      "\u001b[31mValueError\u001b[39m                                Traceback (most recent call last)",
      "\u001b[36mCell\u001b[39m\u001b[36m \u001b[39m\u001b[32mIn[8]\u001b[39m\u001b[32m, line 17\u001b[39m\n\u001b[32m     14\u001b[39m params = [gamma,delta,alpha,delm,m0,fplas,f,Tend,Nspecies]\n\u001b[32m     16\u001b[39m \u001b[38;5;66;03m#apply gradient descent, extremely slow right now\u001b[39;00m\n\u001b[32m---> \u001b[39m\u001b[32m17\u001b[39m \u001b[43mgradient_descent\u001b[49m\u001b[43m(\u001b[49m\u001b[43mparams\u001b[49m\u001b[43m,\u001b[49m\u001b[43m \u001b[49m\u001b[43mlr\u001b[49m\u001b[43m=\u001b[49m\u001b[32;43m0.01\u001b[39;49m\u001b[43m,\u001b[49m\u001b[43m \u001b[49m\u001b[43mtol\u001b[49m\u001b[43m=\u001b[49m\u001b[32;43m1e-6\u001b[39;49m\u001b[43m,\u001b[49m\u001b[43m \u001b[49m\u001b[43mmax_iter\u001b[49m\u001b[43m=\u001b[49m\u001b[32;43m100\u001b[39;49m\u001b[43m)\u001b[49m\n",
      "\u001b[36mCell\u001b[39m\u001b[36m \u001b[39m\u001b[32mIn[6]\u001b[39m\u001b[32m, line 46\u001b[39m, in \u001b[36mgradient_descent\u001b[39m\u001b[34m(init_params, lr, tol, max_iter)\u001b[39m\n\u001b[32m     44\u001b[39m \u001b[38;5;28;01mfor\u001b[39;00m step \u001b[38;5;129;01min\u001b[39;00m \u001b[38;5;28mrange\u001b[39m(max_iter):\n\u001b[32m     45\u001b[39m     \u001b[38;5;28mprint\u001b[39m(step)\n\u001b[32m---> \u001b[39m\u001b[32m46\u001b[39m     grad = \u001b[43mgrad_chi2\u001b[49m\u001b[43m(\u001b[49m\u001b[43mparams\u001b[49m\u001b[43m)\u001b[49m\n\u001b[32m     47\u001b[39m     params -= lr * grad\n\u001b[32m     48\u001b[39m     \u001b[38;5;28;01mwith\u001b[39;00m \u001b[38;5;28mopen\u001b[39m(filename, \u001b[33m'\u001b[39m\u001b[33ma\u001b[39m\u001b[33m'\u001b[39m) \u001b[38;5;28;01mas\u001b[39;00m f:\n",
      "\u001b[36mCell\u001b[39m\u001b[36m \u001b[39m\u001b[32mIn[6]\u001b[39m\u001b[32m, line 35\u001b[39m, in \u001b[36mgrad_chi2\u001b[39m\u001b[34m(params, eps)\u001b[39m\n\u001b[32m     33\u001b[39m     dparams = np.zeros_like(params)\n\u001b[32m     34\u001b[39m     dparams[i] = eps\n\u001b[32m---> \u001b[39m\u001b[32m35\u001b[39m     grad[i] = (\u001b[43mchi2_fn\u001b[49m\u001b[43m(\u001b[49m\u001b[43mparams\u001b[49m\u001b[43m \u001b[49m\u001b[43m+\u001b[49m\u001b[43m \u001b[49m\u001b[43mdparams\u001b[49m\u001b[43m)\u001b[49m - chi2_fn(params - dparams)) / (\u001b[32m2\u001b[39m * eps)\n\u001b[32m     36\u001b[39m \u001b[38;5;28;01mreturn\u001b[39;00m grad\n",
      "\u001b[36mCell\u001b[39m\u001b[36m \u001b[39m\u001b[32mIn[6]\u001b[39m\u001b[32m, line 23\u001b[39m, in \u001b[36mchi2_fn\u001b[39m\u001b[34m(params)\u001b[39m\n\u001b[32m     18\u001b[39m \u001b[38;5;28mprint\u001b[39m(PRyMini.stasis_params)\n\u001b[32m     19\u001b[39m \u001b[38;5;66;03m#predictions = model(params)\u001b[39;00m\n\u001b[32m     20\u001b[39m \u001b[38;5;66;03m#residuals = (predictions - X_obs) / errors\u001b[39;00m\n\u001b[32m     21\u001b[39m \u001b[38;5;66;03m#sum(((X_th-X_obs)/sigma_X)**2)\u001b[39;00m\n\u001b[32m     22\u001b[39m \u001b[38;5;66;03m#calculate theoretical values\u001b[39;00m\n\u001b[32m---> \u001b[39m\u001b[32m23\u001b[39m results = \u001b[43mtest_main\u001b[49m\u001b[43m.\u001b[49m\u001b[43mPRyMclass\u001b[49m\u001b[43m(\u001b[49m\u001b[43m)\u001b[49m.PRyMresults()\n\u001b[32m     24\u001b[39m Neff, Omeganurel, OneOverOmeganunr, YPCMB, YPBBN, DoHx1e5, He3oHx1e5, Li7oHx1e10 = results\n\u001b[32m     25\u001b[39m \u001b[38;5;66;03m#X_th = np.array([Neff, Omeganurel, OneOverOmeganunr, YPCMB, YPBBN, DoHx1e5, He3oHx1e5, Li7oHx1e10])\u001b[39;00m\n",
      "\u001b[36mFile \u001b[39m\u001b[32m/dfs6/pub/ahewitt1/Stasis/Stasis_prym/PRyM/test_main3.py:166\u001b[39m, in \u001b[36mPRyMclass.__init__\u001b[39m\u001b[34m(self, my_rho_NP, my_p_NP, my_drho_NP_dT, my_delta_rho_NP, stasis_params)\u001b[39m\n\u001b[32m    156\u001b[39m     \u001b[38;5;28mself\u001b[39m.Tnu_vec = sol_thermo_uMat[:,\u001b[32m1\u001b[39m]\n\u001b[32m    158\u001b[39m \u001b[38;5;28;01melse\u001b[39;00m:\n\u001b[32m    159\u001b[39m     \u001b[38;5;66;03m# sol_thermo = solve_ivp(self.dTtotdt,[tini,tfin],Tini_vec,t_eval=sol_thermo_sampling,method='LSODA',rtol=1.e-6,atol=1.e-9)\u001b[39;00m\n\u001b[32m    160\u001b[39m     \u001b[38;5;66;03m# sol_thermo = solve_ivp(self.dTtotdt,[tini,tfin],Tini_vec,t_eval=sol_thermo_sampling,method='BDF',rtol=1.e-6,atol=1.e-9)\u001b[39;00m\n\u001b[32m   (...)\u001b[39m\u001b[32m    164\u001b[39m \n\u001b[32m    165\u001b[39m     \u001b[38;5;66;03m# sol_thermo = solve_ivp(self.rhs,(tini, tfin),y0,t_eval=sol_thermo_sampling,method='LSODA',rtol=1.e-6,atol=1.e-9)\u001b[39;00m\n\u001b[32m--> \u001b[39m\u001b[32m166\u001b[39m     sol_thermo = \u001b[43msolve_ivp\u001b[49m\u001b[43m(\u001b[49m\u001b[38;5;28;43mself\u001b[39;49m\u001b[43m.\u001b[49m\u001b[43mrhs\u001b[49m\u001b[43m,\u001b[49m\u001b[43m(\u001b[49m\u001b[43mtini\u001b[49m\u001b[43m,\u001b[49m\u001b[43m \u001b[49m\u001b[43mtfin\u001b[49m\u001b[43m)\u001b[49m\u001b[43m,\u001b[49m\u001b[43my0\u001b[49m\u001b[43m,\u001b[49m\u001b[43mt_eval\u001b[49m\u001b[43m=\u001b[49m\u001b[43msol_thermo_sampling\u001b[49m\u001b[43m,\u001b[49m\u001b[43mmethod\u001b[49m\u001b[43m=\u001b[49m\u001b[33;43m'\u001b[39;49m\u001b[33;43mBDF\u001b[39;49m\u001b[33;43m'\u001b[39;49m\u001b[43m,\u001b[49m\u001b[43mrtol\u001b[49m\u001b[43m=\u001b[49m\u001b[32;43m1.e-6\u001b[39;49m\u001b[43m,\u001b[49m\u001b[43matol\u001b[49m\u001b[43m=\u001b[49m\u001b[32;43m1.e-9\u001b[39;49m\u001b[43m)\u001b[49m\n\u001b[32m    169\u001b[39m     \u001b[38;5;66;03m# self.t_vec = sol_thermo.t\u001b[39;00m\n\u001b[32m    170\u001b[39m     \u001b[38;5;66;03m# self.Tg_vec = sol_thermo.y[0][:]\u001b[39;00m\n\u001b[32m    171\u001b[39m     \u001b[38;5;66;03m# self.Tnu_vec = sol_thermo.y[1][:]\u001b[39;00m\n\u001b[32m    172\u001b[39m     \u001b[38;5;28mself\u001b[39m.t_vec   = sol_thermo.t\n",
      "\u001b[36mFile \u001b[39m\u001b[32m/dfs6/pub/ahewitt1/Stasis/.venv/lib64/python3.11/site-packages/scipy/integrate/_ivp/ivp.py:621\u001b[39m, in \u001b[36msolve_ivp\u001b[39m\u001b[34m(fun, t_span, y0, method, t_eval, dense_output, events, vectorized, args, **options)\u001b[39m\n\u001b[32m    618\u001b[39m \u001b[38;5;28;01mif\u001b[39;00m method \u001b[38;5;129;01min\u001b[39;00m METHODS:\n\u001b[32m    619\u001b[39m     method = METHODS[method]\n\u001b[32m--> \u001b[39m\u001b[32m621\u001b[39m solver = \u001b[43mmethod\u001b[49m\u001b[43m(\u001b[49m\u001b[43mfun\u001b[49m\u001b[43m,\u001b[49m\u001b[43m \u001b[49m\u001b[43mt0\u001b[49m\u001b[43m,\u001b[49m\u001b[43m \u001b[49m\u001b[43my0\u001b[49m\u001b[43m,\u001b[49m\u001b[43m \u001b[49m\u001b[43mtf\u001b[49m\u001b[43m,\u001b[49m\u001b[43m \u001b[49m\u001b[43mvectorized\u001b[49m\u001b[43m=\u001b[49m\u001b[43mvectorized\u001b[49m\u001b[43m,\u001b[49m\u001b[43m \u001b[49m\u001b[43m*\u001b[49m\u001b[43m*\u001b[49m\u001b[43moptions\u001b[49m\u001b[43m)\u001b[49m\n\u001b[32m    623\u001b[39m \u001b[38;5;28;01mif\u001b[39;00m t_eval \u001b[38;5;129;01mis\u001b[39;00m \u001b[38;5;28;01mNone\u001b[39;00m:\n\u001b[32m    624\u001b[39m     ts = [t0]\n",
      "\u001b[36mFile \u001b[39m\u001b[32m/dfs6/pub/ahewitt1/Stasis/.venv/lib64/python3.11/site-packages/scipy/integrate/_ivp/bdf.py:201\u001b[39m, in \u001b[36mBDF.__init__\u001b[39m\u001b[34m(self, fun, t0, y0, t_bound, max_step, rtol, atol, jac, jac_sparsity, vectorized, first_step, **extraneous)\u001b[39m\n\u001b[32m    197\u001b[39m \u001b[38;5;28;01mdef\u001b[39;00m\u001b[38;5;250m \u001b[39m\u001b[34m__init__\u001b[39m(\u001b[38;5;28mself\u001b[39m, fun, t0, y0, t_bound, max_step=np.inf,\n\u001b[32m    198\u001b[39m              rtol=\u001b[32m1e-3\u001b[39m, atol=\u001b[32m1e-6\u001b[39m, jac=\u001b[38;5;28;01mNone\u001b[39;00m, jac_sparsity=\u001b[38;5;28;01mNone\u001b[39;00m,\n\u001b[32m    199\u001b[39m              vectorized=\u001b[38;5;28;01mFalse\u001b[39;00m, first_step=\u001b[38;5;28;01mNone\u001b[39;00m, **extraneous):\n\u001b[32m    200\u001b[39m     warn_extraneous(extraneous)\n\u001b[32m--> \u001b[39m\u001b[32m201\u001b[39m     \u001b[38;5;28;43msuper\u001b[39;49m\u001b[43m(\u001b[49m\u001b[43m)\u001b[49m\u001b[43m.\u001b[49m\u001b[34;43m__init__\u001b[39;49m\u001b[43m(\u001b[49m\u001b[43mfun\u001b[49m\u001b[43m,\u001b[49m\u001b[43m \u001b[49m\u001b[43mt0\u001b[49m\u001b[43m,\u001b[49m\u001b[43m \u001b[49m\u001b[43my0\u001b[49m\u001b[43m,\u001b[49m\u001b[43m \u001b[49m\u001b[43mt_bound\u001b[49m\u001b[43m,\u001b[49m\u001b[43m \u001b[49m\u001b[43mvectorized\u001b[49m\u001b[43m,\u001b[49m\n\u001b[32m    202\u001b[39m \u001b[43m                     \u001b[49m\u001b[43msupport_complex\u001b[49m\u001b[43m=\u001b[49m\u001b[38;5;28;43;01mTrue\u001b[39;49;00m\u001b[43m)\u001b[49m\n\u001b[32m    203\u001b[39m     \u001b[38;5;28mself\u001b[39m.max_step = validate_max_step(max_step)\n\u001b[32m    204\u001b[39m     \u001b[38;5;28mself\u001b[39m.rtol, \u001b[38;5;28mself\u001b[39m.atol = validate_tol(rtol, atol, \u001b[38;5;28mself\u001b[39m.n)\n",
      "\u001b[36mFile \u001b[39m\u001b[32m/dfs6/pub/ahewitt1/Stasis/.venv/lib64/python3.11/site-packages/scipy/integrate/_ivp/base.py:135\u001b[39m, in \u001b[36mOdeSolver.__init__\u001b[39m\u001b[34m(self, fun, t0, y0, t_bound, vectorized, support_complex)\u001b[39m\n\u001b[32m    133\u001b[39m \u001b[38;5;28mself\u001b[39m.t_old = \u001b[38;5;28;01mNone\u001b[39;00m\n\u001b[32m    134\u001b[39m \u001b[38;5;28mself\u001b[39m.t = t0\n\u001b[32m--> \u001b[39m\u001b[32m135\u001b[39m \u001b[38;5;28mself\u001b[39m._fun, \u001b[38;5;28mself\u001b[39m.y = \u001b[43mcheck_arguments\u001b[49m\u001b[43m(\u001b[49m\u001b[43mfun\u001b[49m\u001b[43m,\u001b[49m\u001b[43m \u001b[49m\u001b[43my0\u001b[49m\u001b[43m,\u001b[49m\u001b[43m \u001b[49m\u001b[43msupport_complex\u001b[49m\u001b[43m)\u001b[49m\n\u001b[32m    136\u001b[39m \u001b[38;5;28mself\u001b[39m.t_bound = t_bound\n\u001b[32m    137\u001b[39m \u001b[38;5;28mself\u001b[39m.vectorized = vectorized\n",
      "\u001b[36mFile \u001b[39m\u001b[32m/dfs6/pub/ahewitt1/Stasis/.venv/lib64/python3.11/site-packages/scipy/integrate/_ivp/base.py:20\u001b[39m, in \u001b[36mcheck_arguments\u001b[39m\u001b[34m(fun, y0, support_complex)\u001b[39m\n\u001b[32m     17\u001b[39m     \u001b[38;5;28;01mraise\u001b[39;00m \u001b[38;5;167;01mValueError\u001b[39;00m(\u001b[33m\"\u001b[39m\u001b[33m`y0` must be 1-dimensional.\u001b[39m\u001b[33m\"\u001b[39m)\n\u001b[32m     19\u001b[39m \u001b[38;5;28;01mif\u001b[39;00m \u001b[38;5;129;01mnot\u001b[39;00m np.isfinite(y0).all():\n\u001b[32m---> \u001b[39m\u001b[32m20\u001b[39m     \u001b[38;5;28;01mraise\u001b[39;00m \u001b[38;5;167;01mValueError\u001b[39;00m(\u001b[33m\"\u001b[39m\u001b[33mAll components of the initial state `y0` must be finite.\u001b[39m\u001b[33m\"\u001b[39m)\n\u001b[32m     22\u001b[39m \u001b[38;5;28;01mdef\u001b[39;00m\u001b[38;5;250m \u001b[39m\u001b[34mfun_wrapped\u001b[39m(t, y):\n\u001b[32m     23\u001b[39m     \u001b[38;5;28;01mreturn\u001b[39;00m np.asarray(fun(t, y), dtype=dtype)\n",
      "\u001b[31mValueError\u001b[39m: All components of the initial state `y0` must be finite."
     ]
    }
   ],
   "source": [
    "#initialize random stasis parameters in the desired intervals\n",
    "gamma = random.uniform(4,8)\n",
    "delta = random.uniform(0,3)\n",
    "alpha = (2/7)*gamma - (1/delta)\n",
    "delm = random.uniform(1,10)\n",
    "m0 = delm\n",
    "fplas = random.uniform(0.1,1)\n",
    "f = random.uniform(0.1,1)\n",
    "Tend = random.uniform(1, 10)\n",
    "Nspecies = int(random.randint(1, 20))\n",
    "#PRyMini.stasis_params\n",
    "print(Nspecies)\n",
    "#initialize params\n",
    "params = [gamma,delta,alpha,delm,m0,fplas,f,Tend,Nspecies]\n",
    "\n",
    "#apply gradient descent, extremely slow right now\n",
    "gradient_descent(params, lr=0.01, tol=1e-6, max_iter=100)"
   ]
  }
 ],
 "metadata": {
  "kernelspec": {
   "display_name": ".venv",
   "language": "python",
   "name": "python3"
  },
  "language_info": {
   "codemirror_mode": {
    "name": "ipython",
    "version": 3
   },
   "file_extension": ".py",
   "mimetype": "text/x-python",
   "name": "python",
   "nbconvert_exporter": "python",
   "pygments_lexer": "ipython3",
   "version": "3.11.9"
  },
  "papermill": {
   "default_parameters": {},
   "duration": 222.952717,
   "end_time": "2025-07-14T02:43:02.421075",
   "environment_variables": {},
   "exception": true,
   "input_path": "/pub/ahewitt1/Stasis/Stasis_prym/Alec_gradient_descent.ipynb",
   "output_path": "/pub/ahewitt1/Stasis/Stasis_prym/output_notebook_gradient_descent.ipynb",
   "parameters": {},
   "start_time": "2025-07-14T02:39:19.468358",
   "version": "2.6.0"
  }
 },
 "nbformat": 4,
 "nbformat_minor": 5
}