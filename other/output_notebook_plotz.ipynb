{
 "cells": [
  {
   "cell_type": "markdown",
   "id": "8417b29a",
   "metadata": {
    "tags": [
     "papermill-error-cell-tag"
    ]
   },
   "source": [
    "<span style=\"color:red; font-family:Helvetica Neue, Helvetica, Arial, sans-serif; font-size:2em;\">An Exception was encountered at '<a href=\"#papermill-error-cell\">In [6]</a>'.</span>"
   ]
  },
  {
   "cell_type": "code",
   "execution_count": 1,
   "id": "89012fbd",
   "metadata": {
    "execution": {
     "iopub.execute_input": "2025-07-15T21:12:20.163670Z",
     "iopub.status.busy": "2025-07-15T21:12:20.163450Z",
     "iopub.status.idle": "2025-07-15T21:12:37.374470Z",
     "shell.execute_reply": "2025-07-15T21:12:37.373947Z"
    },
    "papermill": {
     "duration": 17.215982,
     "end_time": "2025-07-15T21:12:37.375594",
     "exception": false,
     "start_time": "2025-07-15T21:12:20.159612",
     "status": "completed"
    },
    "tags": []
   },
   "outputs": [],
   "source": [
    "import time\n",
    "import numpy as np\n",
    "import types\n",
    "import os\n",
    "from scipy.integrate import solve_ivp\n",
    "from scipy.interpolate import interp1d\n",
    "from scipy.special import zeta\n",
    "import PRyM.PRyM_init as PRyMini\n",
    "import PRyM.PRyM_thermo as PRyMthermo\n",
    "import PRyM.test_main3 as test_main\n",
    "#import PRyM.PRyM_jl_sys as PRyMjl\n",
    "from numdifftools import Derivative\n",
    "import PRyM.PRyM_eval_nTOp as PRyMevalnTOp\n",
    "import PRyM.PRyM_nTOp as PRyMnTOp\n",
    "import matplotlib.pyplot as plt\n",
    "import pandas as pd\n",
    "import random"
   ]
  },
  {
   "cell_type": "code",
   "execution_count": 2,
   "id": "6131e6e6",
   "metadata": {
    "execution": {
     "iopub.execute_input": "2025-07-15T21:12:37.382377Z",
     "iopub.status.busy": "2025-07-15T21:12:37.381997Z",
     "iopub.status.idle": "2025-07-15T21:12:37.386710Z",
     "shell.execute_reply": "2025-07-15T21:12:37.386273Z"
    },
    "papermill": {
     "duration": 0.008838,
     "end_time": "2025-07-15T21:12:37.387514",
     "exception": false,
     "start_time": "2025-07-15T21:12:37.378676",
     "status": "completed"
    },
    "tags": []
   },
   "outputs": [],
   "source": [
    "#observed values, all wrong currently, for testing purposes\n",
    "#Neff_obs, Omeganurel_obs, OneOverOmeganunr_obs, YPCMB_obs, YPBBN_obs, DoHx1e5_obs, He3oHx1e5_obs, Li7oHx1e10_obs = np.array([3.04439907, 5.69942692, 93.03336616, 0.24552507, 0.24685084, 2.5276775, 1.04572838, 5.27256451])\n",
    "#Yp, Omega_B h^2, Neff\n",
    "#YPCMB_obs, OmegaB_obs, Neff_obs, DoHx1e5_obs, Li7oHx1e10_obs\n",
    "YPCMB_obs, Neff_obs, DoHx1e5_obs, Li7oHx1e10_obs = np.array([0.24,3.85,2.547,1.63])\n",
    "X_obs = np.array([YPCMB_obs, Neff_obs, DoHx1e5_obs, Li7oHx1e10_obs])\n",
    "#X_obs = np.array([Neff_obs, Omeganurel_obs, OneOverOmeganunr_obs, YPCMB_obs, YPBBN_obs, DoHx1e5_obs, He3oHx1e5_obs, Li7oHx1e10_obs])\n",
    "#Neff_sig, Omeganurel_sig, OneOverOmeganunr_sig, YPCMB, YPBBN_sig, DoHx1e5_sig, He3oHx1e5_sig, Li7oHx1e10_sig = np.array([0.5,0.5,3,.1,.1,.3,.2,1])\n",
    "YPCMB_sig, Neff_sig, DoHx1e5_sig, Li7oHx1e10_sig = np.array([0.24,0.62,0.029,0.3])\n",
    "#sigma_X = np.array([Neff_sig, Omeganurel_sig, OneOverOmeganunr_sig, YPCMB, YPBBN_sig, DoHx1e5_sig, He3oHx1e5_sig, Li7oHx1e10_sig])\n",
    "sigma_X = np.array([YPCMB_sig, Neff_sig, DoHx1e5_sig, Li7oHx1e10_sig])"
   ]
  },
  {
   "cell_type": "code",
   "execution_count": 3,
   "id": "4318e7d8",
   "metadata": {
    "execution": {
     "iopub.execute_input": "2025-07-15T21:12:37.393607Z",
     "iopub.status.busy": "2025-07-15T21:12:37.393351Z",
     "iopub.status.idle": "2025-07-15T21:12:37.398572Z",
     "shell.execute_reply": "2025-07-15T21:12:37.398126Z"
    },
    "papermill": {
     "duration": 0.009244,
     "end_time": "2025-07-15T21:12:37.399327",
     "exception": false,
     "start_time": "2025-07-15T21:12:37.390083",
     "status": "completed"
    },
    "tags": []
   },
   "outputs": [
    {
     "data": {
      "text/plain": [
       "'filename = \"output.txt\"\\n\\n# Create the file (or clear it if it already exists)\\nwith open(filename, \\'w\\') as f:\\n    f.write(\"Starting output:\\n\")'"
      ]
     },
     "execution_count": 3,
     "metadata": {},
     "output_type": "execute_result"
    }
   ],
   "source": [
    "'''filename = \"output.txt\"\n",
    "\n",
    "# Create the file (or clear it if it already exists)\n",
    "with open(filename, 'w') as f:\n",
    "    f.write(\"Starting output:\\n\")'''"
   ]
  },
  {
   "cell_type": "code",
   "execution_count": 4,
   "id": "d182f064",
   "metadata": {
    "execution": {
     "iopub.execute_input": "2025-07-15T21:12:37.405408Z",
     "iopub.status.busy": "2025-07-15T21:12:37.405168Z",
     "iopub.status.idle": "2025-07-15T21:12:37.490773Z",
     "shell.execute_reply": "2025-07-15T21:12:37.490228Z"
    },
    "papermill": {
     "duration": 0.089732,
     "end_time": "2025-07-15T21:12:37.491625",
     "exception": false,
     "start_time": "2025-07-15T21:12:37.401893",
     "status": "completed"
    },
    "tags": []
   },
   "outputs": [],
   "source": [
    "# Chi^2 function\n",
    "#params = [gamma,delta,alpha,delm,m0,fplas,f,Tend,Nspecies]\n",
    "def chi2_fn(params):\n",
    "    #initialize stasis parameters\n",
    "    PRyMini.compute_bckg_flag = True\n",
    "    PRyMini.save_bckg_flag = False\n",
    "    PRyMini.stasis_flag = True\n",
    "    PRyMini.verbose_flag = False\n",
    "    PRyMini.stasis_params['gamma'] = params[0]\n",
    "    PRyMini.stasis_params['delta'] = params[1]\n",
    "    #PRyMini.stasis_params['alpha'] = params[2]\n",
    "    PRyMini.stasis_params['alpha'] = (2/7)*PRyMini.stasis_params['gamma'] - (1/PRyMini.stasis_params['delta'])\n",
    "    PRyMini.stasis_params['Delta_m'] = params[3]\n",
    "    PRyMini.stasis_params['m0'] = params[4]\n",
    "    PRyMini.stasis_params['plasma_inject_frac'] = params[5]\n",
    "    PRyMini.stasis_params['tiny_radiation'] = params[6]\n",
    "    PRyMini.stasis_params['stasis_end_mev'] = params[7]\n",
    "    PRyMini.stasis_params['N_SPECIES'] = int(params[8])\n",
    "    #print(PRyMini.stasis_params)\n",
    "    #predictions = model(params)\n",
    "    #residuals = (predictions - X_obs) / errors\n",
    "    #sum(((X_th-X_obs)/sigma_X)**2)\n",
    "    #calculate theoretical values\n",
    "    results = test_main.PRyMclass().PRyMresults()\n",
    "    Neff, Omeganurel, OneOverOmeganunr, YPCMB, YPBBN, DoHx1e5, He3oHx1e5, Li7oHx1e10 = results\n",
    "    #X_th = np.array([Neff, Omeganurel, OneOverOmeganunr, YPCMB, YPBBN, DoHx1e5, He3oHx1e5, Li7oHx1e10])\n",
    "    X_th = np.array([YPCMB, Neff, DoHx1e5, Li7oHx1e10])\n",
    "    return sum(((X_th-X_obs)/sigma_X)**2)\n",
    "\n",
    "# Gradient of chi^2 (numerical)\n",
    "def grad_chi2(params, eps=1e-5):\n",
    "    grad = np.zeros_like(params)\n",
    "    for i in range(len(params)):\n",
    "        dparams = np.zeros_like(params)\n",
    "        dparams[i] = eps\n",
    "        grad[i] = (chi2_fn(params + dparams) - chi2_fn(params - dparams)) / (2 * eps)\n",
    "    return grad\n",
    "\n",
    "# Gradient descent routine\n",
    "def gradient_descent(init_params, lr=0.01, tol=1e-6, max_iter=100):\n",
    "    params = np.array(init_params)#, dtype=float)\n",
    "    '''with open(filename, 'a') as f:\n",
    "        f.write(str(params))\n",
    "        f.flush()'''\n",
    "    #for step in range(max_iter):\n",
    "    #print(step)\n",
    "    grad = grad_chi2(params)\n",
    "    print('gradient: ',grad)\n",
    "    print('params_init: ',init_params)\n",
    "    #update params\n",
    "    for i in range(len(params)):\n",
    "        #gamma\n",
    "        if i==0:\n",
    "            if params[i] - lr * grad[i]>0 and params[i] - lr * grad[i]<10:\n",
    "                params[i] -= lr * grad[i]\n",
    "            else:\n",
    "                params[i] = params[i]\n",
    "        #delta\n",
    "        if i==1:\n",
    "            if params[i] - lr * grad[i]>0 and params[i] - lr * grad[i]<10:\n",
    "                params[i] -= lr * grad[i]\n",
    "            else:\n",
    "                params[i] = params[i]\n",
    "        #alpha\n",
    "        #alpha is determined from delta and gamma\n",
    "        '''if i==2:\n",
    "            if in params[i] - lr * grad[i]>0:\n",
    "                params[i] -= lr * grad[i]\n",
    "            else:\n",
    "                params[i] = params[i]'''\n",
    "        #delta_m\n",
    "        if i==3:\n",
    "            if params[i] - lr * grad[i]>0:\n",
    "                params[i] -= lr * grad[i]\n",
    "            else:\n",
    "                params[i] = params[i]\n",
    "        #m0\n",
    "        if i==4:\n",
    "            params[i]=params[i-1]\n",
    "            '''if in params[i] - lr * grad[i]>0:\n",
    "                params[i] -= lr * grad[i]\n",
    "            else:\n",
    "                params[i] = params[i]'''\n",
    "        #plasma_inject_frac\n",
    "        if i==5:\n",
    "            if params[i] - lr * grad[i]>0 and params[i] - lr * grad[i] < 1:\n",
    "                params[i] -= lr * grad[i]\n",
    "            else:\n",
    "                params[i] = params[i]\n",
    "        #tiny_radiation\n",
    "        if i==6:\n",
    "            if params[i] - lr * grad[i]>0 and params[i] - lr * grad[i] < 1:\n",
    "                params[i] -= lr * grad[i]\n",
    "            else:\n",
    "                params[i] = params[i]\n",
    "        #Tend\n",
    "        if i==7:\n",
    "            if params[i] - lr * grad[i]>0:\n",
    "                params[i] -= lr * grad[i]\n",
    "            else:\n",
    "                params[i] = params[i]\n",
    "        #Nspecies\n",
    "        if i==8:\n",
    "            if params[i] - lr * grad[i]>0:\n",
    "                params[i] -= lr * grad[i]\n",
    "                params[i] = int(np.floor(params[i]))\n",
    "            else:\n",
    "                params[i] = int(params[i])\n",
    "\n",
    "    PRyMini.stasis_params['gamma'] = params[0]\n",
    "    PRyMini.stasis_params['delta'] = params[1]\n",
    "    #PRyMini.stasis_params['alpha'] = params[2]\n",
    "    PRyMini.stasis_params['alpha'] = (2/7)*PRyMini.stasis_params['gamma'] - (1/PRyMini.stasis_params['delta'])\n",
    "    params[2] = (2/7)*PRyMini.stasis_params['gamma'] - (1/PRyMini.stasis_params['delta'])\n",
    "    PRyMini.stasis_params['Delta_m'] = params[3]\n",
    "    PRyMini.stasis_params['m0'] = params[4]\n",
    "    PRyMini.stasis_params['plasma_inject_frac'] = params[5]\n",
    "    PRyMini.stasis_params['tiny_radiation'] = params[6]\n",
    "    PRyMini.stasis_params['stasis_end_mev'] = params[7]\n",
    "    PRyMini.stasis_params['N_SPECIES'] = params[8]\n",
    "    #params -= lr * grad\n",
    "    '''with open(filename, 'a') as f:\n",
    "        f.write(str(params))\n",
    "        f.flush()'''\n",
    "\n",
    "    '''if np.linalg.norm(grad) < tol:\n",
    "        print(f\"Converged in {step} steps.\")\n",
    "        break'''\n",
    "    print('params_fin: ',params)\n",
    "    return params"
   ]
  },
  {
   "cell_type": "code",
   "execution_count": 5,
   "id": "5f1b0ddb",
   "metadata": {
    "execution": {
     "iopub.execute_input": "2025-07-15T21:12:37.498083Z",
     "iopub.status.busy": "2025-07-15T21:12:37.497809Z",
     "iopub.status.idle": "2025-07-15T21:12:37.502603Z",
     "shell.execute_reply": "2025-07-15T21:12:37.502206Z"
    },
    "papermill": {
     "duration": 0.008935,
     "end_time": "2025-07-15T21:12:37.503358",
     "exception": false,
     "start_time": "2025-07-15T21:12:37.494423",
     "status": "completed"
    },
    "tags": []
   },
   "outputs": [
    {
     "data": {
      "text/plain": [
       "{'gamma': 7,\n",
       " 'delta': 1,\n",
       " 'm0': 1.0,\n",
       " 'Delta_m': 1.0,\n",
       " 'N_SPECIES': 10,\n",
       " 'GAMMA_OVER_H': 100000.0,\n",
       " 'stasis_end_mev': 50,\n",
       " 'tiny_radiation': 0.01,\n",
       " 'plasma_inject_frac': 0.1,\n",
       " 'alpha': 1.0}"
      ]
     },
     "execution_count": 5,
     "metadata": {},
     "output_type": "execute_result"
    }
   ],
   "source": [
    "PRyMini.stasis_params"
   ]
  },
  {
   "cell_type": "markdown",
   "id": "bb07740f",
   "metadata": {
    "tags": [
     "papermill-error-cell-tag"
    ]
   },
   "source": [
    "<span id=\"papermill-error-cell\" style=\"color:red; font-family:Helvetica Neue, Helvetica, Arial, sans-serif; font-size:2em;\">Execution using papermill encountered an exception here and stopped:</span>"
   ]
  },
  {
   "cell_type": "code",
   "execution_count": 6,
   "id": "fbaf9f4d",
   "metadata": {
    "execution": {
     "iopub.execute_input": "2025-07-15T21:12:37.509358Z",
     "iopub.status.busy": "2025-07-15T21:12:37.509130Z",
     "iopub.status.idle": "2025-07-15T21:23:54.744438Z",
     "shell.execute_reply": "2025-07-15T21:23:54.743213Z"
    },
    "papermill": {
     "duration": 677.239232,
     "end_time": "2025-07-15T21:23:54.745236",
     "exception": true,
     "start_time": "2025-07-15T21:12:37.506004",
     "status": "failed"
    },
    "tags": []
   },
   "outputs": [
    {
     "name": "stdout",
     "output_type": "stream",
     "text": [
      "gradient:  [-4743.65928377 30956.27152887     0.         71107.37131414\n",
      " 18917.51513776 16412.35183269 17764.28706198 -5756.63472208\n",
      " -5912.47386647]\n",
      "params_init:  [5.991717857255438, 1.1650518340105016, 0.8535884785455198, 5.556582254890086, 5.556582254890086, 0.9034122984533277, 0.8381547709187545, 5.674058180255756, 19]\n",
      "params_fin:  [ 5.99171786  1.16505183  0.85358848  5.55658225  5.55658225  0.9034123\n",
      "  0.83815477 11.4306929  24.        ]\n"
     ]
    },
    {
     "name": "stdout",
     "output_type": "stream",
     "text": [
      "gradient:  [ 30181.34103549 -30142.69531546      0.           4903.63498895\n",
      "   6576.44634642  -7146.76297981  37923.71812043    375.73098325\n",
      "  -8241.94400545]\n",
      "params_init:  [ 5.99171786  1.16505183  0.85358848  5.55658225  5.55658225  0.9034123\n",
      "  0.83815477 11.4306929  24.        ]\n",
      "params_fin:  [ 5.99171786  1.16505183  0.85358848  0.65294727  0.65294727  0.9034123\n",
      "  0.83815477 11.05496192 32.        ]\n"
     ]
    },
    {
     "name": "stderr",
     "output_type": "stream",
     "text": [
      "/dfs6/pub/ahewitt1/Stasis/Stasis_prym/PRyM/test_main3.py:967: RuntimeWarning: overflow encountered in exp\n",
      "  dchi_g = -4.*H + np.sum(self.stasis[\"Gamma_ell_s\"] * np.exp(chi_ell - chi_g))\n",
      "/dfs6/pub/ahewitt1/Stasis/.venv/lib64/python3.11/site-packages/scipy/integrate/_ivp/common.py:366: RuntimeWarning: invalid value encountered in multiply\n",
      "  update = max_diff[ind] * scale_new < max_diff_new * scale[ind]\n"
     ]
    },
    {
     "ename": "ValueError",
     "evalue": "array must not contain infs or NaNs",
     "output_type": "error",
     "traceback": [
      "\u001b[31m---------------------------------------------------------------------------\u001b[39m",
      "\u001b[31mValueError\u001b[39m                                Traceback (most recent call last)",
      "\u001b[36mCell\u001b[39m\u001b[36m \u001b[39m\u001b[32mIn[6]\u001b[39m\u001b[32m, line 25\u001b[39m\n\u001b[32m     23\u001b[39m \u001b[38;5;66;03m#apply gradient descent, extremely slow right now\u001b[39;00m\n\u001b[32m     24\u001b[39m \u001b[38;5;28;01mfor\u001b[39;00m n \u001b[38;5;129;01min\u001b[39;00m \u001b[38;5;28mrange\u001b[39m(\u001b[32m1000\u001b[39m):\n\u001b[32m---> \u001b[39m\u001b[32m25\u001b[39m     params = \u001b[43mgradient_descent\u001b[49m\u001b[43m(\u001b[49m\u001b[43mparams\u001b[49m\u001b[43m,\u001b[49m\u001b[43m \u001b[49m\u001b[43mlr\u001b[49m\u001b[43m=\u001b[49m\u001b[32;43m0.001\u001b[39;49m\u001b[43m,\u001b[49m\u001b[43m \u001b[49m\u001b[43mtol\u001b[49m\u001b[43m=\u001b[49m\u001b[32;43m7\u001b[39;49m\u001b[43m,\u001b[49m\u001b[43m \u001b[49m\u001b[43mmax_iter\u001b[49m\u001b[43m=\u001b[49m\u001b[32;43m100\u001b[39;49m\u001b[43m)\u001b[49m\n\u001b[32m     26\u001b[39m     chi2 = chi2_fn(params)\n\u001b[32m     27\u001b[39m     \u001b[38;5;28;01mwith\u001b[39;00m \u001b[38;5;28mopen\u001b[39m(file_name, \u001b[33m\"\u001b[39m\u001b[33ma\u001b[39m\u001b[33m\"\u001b[39m) \u001b[38;5;28;01mas\u001b[39;00m ff:\n",
      "\u001b[36mCell\u001b[39m\u001b[36m \u001b[39m\u001b[32mIn[4]\u001b[39m\u001b[32m, line 47\u001b[39m, in \u001b[36mgradient_descent\u001b[39m\u001b[34m(init_params, lr, tol, max_iter)\u001b[39m\n\u001b[32m     42\u001b[39m \u001b[38;5;250m\u001b[39m\u001b[33;03m'''with open(filename, 'a') as f:\u001b[39;00m\n\u001b[32m     43\u001b[39m \u001b[33;03m    f.write(str(params))\u001b[39;00m\n\u001b[32m     44\u001b[39m \u001b[33;03m    f.flush()'''\u001b[39;00m\n\u001b[32m     45\u001b[39m \u001b[38;5;66;03m#for step in range(max_iter):\u001b[39;00m\n\u001b[32m     46\u001b[39m \u001b[38;5;66;03m#print(step)\u001b[39;00m\n\u001b[32m---> \u001b[39m\u001b[32m47\u001b[39m grad = \u001b[43mgrad_chi2\u001b[49m\u001b[43m(\u001b[49m\u001b[43mparams\u001b[49m\u001b[43m)\u001b[49m\n\u001b[32m     48\u001b[39m \u001b[38;5;28mprint\u001b[39m(\u001b[33m'\u001b[39m\u001b[33mgradient: \u001b[39m\u001b[33m'\u001b[39m,grad)\n\u001b[32m     49\u001b[39m \u001b[38;5;28mprint\u001b[39m(\u001b[33m'\u001b[39m\u001b[33mparams_init: \u001b[39m\u001b[33m'\u001b[39m,init_params)\n",
      "\u001b[36mCell\u001b[39m\u001b[36m \u001b[39m\u001b[32mIn[4]\u001b[39m\u001b[32m, line 36\u001b[39m, in \u001b[36mgrad_chi2\u001b[39m\u001b[34m(params, eps)\u001b[39m\n\u001b[32m     34\u001b[39m     dparams = np.zeros_like(params)\n\u001b[32m     35\u001b[39m     dparams[i] = eps\n\u001b[32m---> \u001b[39m\u001b[32m36\u001b[39m     grad[i] = (\u001b[43mchi2_fn\u001b[49m\u001b[43m(\u001b[49m\u001b[43mparams\u001b[49m\u001b[43m \u001b[49m\u001b[43m+\u001b[49m\u001b[43m \u001b[49m\u001b[43mdparams\u001b[49m\u001b[43m)\u001b[49m - chi2_fn(params - dparams)) / (\u001b[32m2\u001b[39m * eps)\n\u001b[32m     37\u001b[39m \u001b[38;5;28;01mreturn\u001b[39;00m grad\n",
      "\u001b[36mCell\u001b[39m\u001b[36m \u001b[39m\u001b[32mIn[4]\u001b[39m\u001b[32m, line 24\u001b[39m, in \u001b[36mchi2_fn\u001b[39m\u001b[34m(params)\u001b[39m\n\u001b[32m     18\u001b[39m PRyMini.stasis_params[\u001b[33m'\u001b[39m\u001b[33mN_SPECIES\u001b[39m\u001b[33m'\u001b[39m] = \u001b[38;5;28mint\u001b[39m(params[\u001b[32m8\u001b[39m])\n\u001b[32m     19\u001b[39m \u001b[38;5;66;03m#print(PRyMini.stasis_params)\u001b[39;00m\n\u001b[32m     20\u001b[39m \u001b[38;5;66;03m#predictions = model(params)\u001b[39;00m\n\u001b[32m     21\u001b[39m \u001b[38;5;66;03m#residuals = (predictions - X_obs) / errors\u001b[39;00m\n\u001b[32m     22\u001b[39m \u001b[38;5;66;03m#sum(((X_th-X_obs)/sigma_X)**2)\u001b[39;00m\n\u001b[32m     23\u001b[39m \u001b[38;5;66;03m#calculate theoretical values\u001b[39;00m\n\u001b[32m---> \u001b[39m\u001b[32m24\u001b[39m results = \u001b[43mtest_main\u001b[49m\u001b[43m.\u001b[49m\u001b[43mPRyMclass\u001b[49m\u001b[43m(\u001b[49m\u001b[43m)\u001b[49m.PRyMresults()\n\u001b[32m     25\u001b[39m Neff, Omeganurel, OneOverOmeganunr, YPCMB, YPBBN, DoHx1e5, He3oHx1e5, Li7oHx1e10 = results\n\u001b[32m     26\u001b[39m \u001b[38;5;66;03m#X_th = np.array([Neff, Omeganurel, OneOverOmeganunr, YPCMB, YPBBN, DoHx1e5, He3oHx1e5, Li7oHx1e10])\u001b[39;00m\n",
      "\u001b[36mFile \u001b[39m\u001b[32m/dfs6/pub/ahewitt1/Stasis/Stasis_prym/PRyM/test_main3.py:166\u001b[39m, in \u001b[36mPRyMclass.__init__\u001b[39m\u001b[34m(self, my_rho_NP, my_p_NP, my_drho_NP_dT, my_delta_rho_NP, stasis_params)\u001b[39m\n\u001b[32m    156\u001b[39m     \u001b[38;5;28mself\u001b[39m.Tnu_vec = sol_thermo_uMat[:,\u001b[32m1\u001b[39m]\n\u001b[32m    158\u001b[39m \u001b[38;5;28;01melse\u001b[39;00m:\n\u001b[32m    159\u001b[39m     \u001b[38;5;66;03m# sol_thermo = solve_ivp(self.dTtotdt,[tini,tfin],Tini_vec,t_eval=sol_thermo_sampling,method='LSODA',rtol=1.e-6,atol=1.e-9)\u001b[39;00m\n\u001b[32m    160\u001b[39m     \u001b[38;5;66;03m# sol_thermo = solve_ivp(self.dTtotdt,[tini,tfin],Tini_vec,t_eval=sol_thermo_sampling,method='BDF',rtol=1.e-6,atol=1.e-9)\u001b[39;00m\n\u001b[32m   (...)\u001b[39m\u001b[32m    164\u001b[39m \n\u001b[32m    165\u001b[39m     \u001b[38;5;66;03m# sol_thermo = solve_ivp(self.rhs,(tini, tfin),y0,t_eval=sol_thermo_sampling,method='LSODA',rtol=1.e-6,atol=1.e-9)\u001b[39;00m\n\u001b[32m--> \u001b[39m\u001b[32m166\u001b[39m     sol_thermo = \u001b[43msolve_ivp\u001b[49m\u001b[43m(\u001b[49m\u001b[38;5;28;43mself\u001b[39;49m\u001b[43m.\u001b[49m\u001b[43mrhs\u001b[49m\u001b[43m,\u001b[49m\u001b[43m(\u001b[49m\u001b[43mtini\u001b[49m\u001b[43m,\u001b[49m\u001b[43m \u001b[49m\u001b[43mtfin\u001b[49m\u001b[43m)\u001b[49m\u001b[43m,\u001b[49m\u001b[43my0\u001b[49m\u001b[43m,\u001b[49m\u001b[43mt_eval\u001b[49m\u001b[43m=\u001b[49m\u001b[43msol_thermo_sampling\u001b[49m\u001b[43m,\u001b[49m\u001b[43mmethod\u001b[49m\u001b[43m=\u001b[49m\u001b[33;43m'\u001b[39;49m\u001b[33;43mBDF\u001b[39;49m\u001b[33;43m'\u001b[39;49m\u001b[43m,\u001b[49m\u001b[43mrtol\u001b[49m\u001b[43m=\u001b[49m\u001b[32;43m1.e-6\u001b[39;49m\u001b[43m,\u001b[49m\u001b[43matol\u001b[49m\u001b[43m=\u001b[49m\u001b[32;43m1.e-9\u001b[39;49m\u001b[43m)\u001b[49m\n\u001b[32m    169\u001b[39m     \u001b[38;5;66;03m# self.t_vec = sol_thermo.t\u001b[39;00m\n\u001b[32m    170\u001b[39m     \u001b[38;5;66;03m# self.Tg_vec = sol_thermo.y[0][:]\u001b[39;00m\n\u001b[32m    171\u001b[39m     \u001b[38;5;66;03m# self.Tnu_vec = sol_thermo.y[1][:]\u001b[39;00m\n\u001b[32m    172\u001b[39m     \u001b[38;5;28mself\u001b[39m.t_vec   = sol_thermo.t\n",
      "\u001b[36mFile \u001b[39m\u001b[32m/dfs6/pub/ahewitt1/Stasis/.venv/lib64/python3.11/site-packages/scipy/integrate/_ivp/ivp.py:655\u001b[39m, in \u001b[36msolve_ivp\u001b[39m\u001b[34m(fun, t_span, y0, method, t_eval, dense_output, events, vectorized, args, **options)\u001b[39m\n\u001b[32m    653\u001b[39m status = \u001b[38;5;28;01mNone\u001b[39;00m\n\u001b[32m    654\u001b[39m \u001b[38;5;28;01mwhile\u001b[39;00m status \u001b[38;5;129;01mis\u001b[39;00m \u001b[38;5;28;01mNone\u001b[39;00m:\n\u001b[32m--> \u001b[39m\u001b[32m655\u001b[39m     message = \u001b[43msolver\u001b[49m\u001b[43m.\u001b[49m\u001b[43mstep\u001b[49m\u001b[43m(\u001b[49m\u001b[43m)\u001b[49m\n\u001b[32m    657\u001b[39m     \u001b[38;5;28;01mif\u001b[39;00m solver.status == \u001b[33m'\u001b[39m\u001b[33mfinished\u001b[39m\u001b[33m'\u001b[39m:\n\u001b[32m    658\u001b[39m         status = \u001b[32m0\u001b[39m\n",
      "\u001b[36mFile \u001b[39m\u001b[32m/dfs6/pub/ahewitt1/Stasis/.venv/lib64/python3.11/site-packages/scipy/integrate/_ivp/base.py:197\u001b[39m, in \u001b[36mOdeSolver.step\u001b[39m\u001b[34m(self)\u001b[39m\n\u001b[32m    195\u001b[39m \u001b[38;5;28;01melse\u001b[39;00m:\n\u001b[32m    196\u001b[39m     t = \u001b[38;5;28mself\u001b[39m.t\n\u001b[32m--> \u001b[39m\u001b[32m197\u001b[39m     success, message = \u001b[38;5;28;43mself\u001b[39;49m\u001b[43m.\u001b[49m\u001b[43m_step_impl\u001b[49m\u001b[43m(\u001b[49m\u001b[43m)\u001b[49m\n\u001b[32m    199\u001b[39m     \u001b[38;5;28;01mif\u001b[39;00m \u001b[38;5;129;01mnot\u001b[39;00m success:\n\u001b[32m    200\u001b[39m         \u001b[38;5;28mself\u001b[39m.status = \u001b[33m'\u001b[39m\u001b[33mfailed\u001b[39m\u001b[33m'\u001b[39m\n",
      "\u001b[36mFile \u001b[39m\u001b[32m/dfs6/pub/ahewitt1/Stasis/.venv/lib64/python3.11/site-packages/scipy/integrate/_ivp/bdf.py:363\u001b[39m, in \u001b[36mBDF._step_impl\u001b[39m\u001b[34m(self)\u001b[39m\n\u001b[32m    361\u001b[39m \u001b[38;5;28;01mwhile\u001b[39;00m \u001b[38;5;129;01mnot\u001b[39;00m converged:\n\u001b[32m    362\u001b[39m     \u001b[38;5;28;01mif\u001b[39;00m LU \u001b[38;5;129;01mis\u001b[39;00m \u001b[38;5;28;01mNone\u001b[39;00m:\n\u001b[32m--> \u001b[39m\u001b[32m363\u001b[39m         LU = \u001b[38;5;28;43mself\u001b[39;49m\u001b[43m.\u001b[49m\u001b[43mlu\u001b[49m\u001b[43m(\u001b[49m\u001b[38;5;28;43mself\u001b[39;49m\u001b[43m.\u001b[49m\u001b[43mI\u001b[49m\u001b[43m \u001b[49m\u001b[43m-\u001b[49m\u001b[43m \u001b[49m\u001b[43mc\u001b[49m\u001b[43m \u001b[49m\u001b[43m*\u001b[49m\u001b[43m \u001b[49m\u001b[43mJ\u001b[49m\u001b[43m)\u001b[49m\n\u001b[32m    365\u001b[39m     converged, n_iter, y_new, d = solve_bdf_system(\n\u001b[32m    366\u001b[39m         \u001b[38;5;28mself\u001b[39m.fun, t_new, y_predict, c, psi, LU, \u001b[38;5;28mself\u001b[39m.solve_lu,\n\u001b[32m    367\u001b[39m         scale, \u001b[38;5;28mself\u001b[39m.newton_tol)\n\u001b[32m    369\u001b[39m     \u001b[38;5;28;01mif\u001b[39;00m \u001b[38;5;129;01mnot\u001b[39;00m converged:\n",
      "\u001b[36mFile \u001b[39m\u001b[32m/dfs6/pub/ahewitt1/Stasis/.venv/lib64/python3.11/site-packages/scipy/integrate/_ivp/bdf.py:232\u001b[39m, in \u001b[36mBDF.__init__.<locals>.lu\u001b[39m\u001b[34m(A)\u001b[39m\n\u001b[32m    230\u001b[39m \u001b[38;5;28;01mdef\u001b[39;00m\u001b[38;5;250m \u001b[39m\u001b[34mlu\u001b[39m(A):\n\u001b[32m    231\u001b[39m     \u001b[38;5;28mself\u001b[39m.nlu += \u001b[32m1\u001b[39m\n\u001b[32m--> \u001b[39m\u001b[32m232\u001b[39m     \u001b[38;5;28;01mreturn\u001b[39;00m \u001b[43mlu_factor\u001b[49m\u001b[43m(\u001b[49m\u001b[43mA\u001b[49m\u001b[43m,\u001b[49m\u001b[43m \u001b[49m\u001b[43moverwrite_a\u001b[49m\u001b[43m=\u001b[49m\u001b[38;5;28;43;01mTrue\u001b[39;49;00m\u001b[43m)\u001b[49m\n",
      "\u001b[36mFile \u001b[39m\u001b[32m/dfs6/pub/ahewitt1/Stasis/.venv/lib64/python3.11/site-packages/scipy/_lib/_util.py:1226\u001b[39m, in \u001b[36m_apply_over_batch.<locals>.decorator.<locals>.wrapper\u001b[39m\u001b[34m(*args, **kwargs)\u001b[39m\n\u001b[32m   1224\u001b[39m \u001b[38;5;66;03m# Early exit if call is not batched\u001b[39;00m\n\u001b[32m   1225\u001b[39m \u001b[38;5;28;01mif\u001b[39;00m \u001b[38;5;129;01mnot\u001b[39;00m \u001b[38;5;28many\u001b[39m(batch_shapes):\n\u001b[32m-> \u001b[39m\u001b[32m1226\u001b[39m     \u001b[38;5;28;01mreturn\u001b[39;00m \u001b[43mf\u001b[49m\u001b[43m(\u001b[49m\u001b[43m*\u001b[49m\u001b[43marrays\u001b[49m\u001b[43m,\u001b[49m\u001b[43m \u001b[49m\u001b[43m*\u001b[49m\u001b[43mother_args\u001b[49m\u001b[43m,\u001b[49m\u001b[43m \u001b[49m\u001b[43m*\u001b[49m\u001b[43m*\u001b[49m\u001b[43mkwargs\u001b[49m\u001b[43m)\u001b[49m\n\u001b[32m   1228\u001b[39m \u001b[38;5;66;03m# Determine broadcasted batch shape\u001b[39;00m\n\u001b[32m   1229\u001b[39m batch_shape = np.broadcast_shapes(*batch_shapes)  \u001b[38;5;66;03m# Gives OK error message\u001b[39;00m\n",
      "\u001b[36mFile \u001b[39m\u001b[32m/dfs6/pub/ahewitt1/Stasis/.venv/lib64/python3.11/site-packages/scipy/linalg/_decomp_lu.py:109\u001b[39m, in \u001b[36mlu_factor\u001b[39m\u001b[34m(a, overwrite_a, check_finite)\u001b[39m\n\u001b[32m     24\u001b[39m \u001b[38;5;250m\u001b[39m\u001b[33;03m\"\"\"\u001b[39;00m\n\u001b[32m     25\u001b[39m \u001b[33;03mCompute pivoted LU decomposition of a matrix.\u001b[39;00m\n\u001b[32m     26\u001b[39m \n\u001b[32m   (...)\u001b[39m\u001b[32m    106\u001b[39m \u001b[33;03mTrue\u001b[39;00m\n\u001b[32m    107\u001b[39m \u001b[33;03m\"\"\"\u001b[39;00m\n\u001b[32m    108\u001b[39m \u001b[38;5;28;01mif\u001b[39;00m check_finite:\n\u001b[32m--> \u001b[39m\u001b[32m109\u001b[39m     a1 = \u001b[43masarray_chkfinite\u001b[49m\u001b[43m(\u001b[49m\u001b[43ma\u001b[49m\u001b[43m)\u001b[49m\n\u001b[32m    110\u001b[39m \u001b[38;5;28;01melse\u001b[39;00m:\n\u001b[32m    111\u001b[39m     a1 = asarray(a)\n",
      "\u001b[36mFile \u001b[39m\u001b[32m/dfs6/pub/ahewitt1/Stasis/.venv/lib64/python3.11/site-packages/numpy/lib/_function_base_impl.py:646\u001b[39m, in \u001b[36masarray_chkfinite\u001b[39m\u001b[34m(a, dtype, order)\u001b[39m\n\u001b[32m    644\u001b[39m a = asarray(a, dtype=dtype, order=order)\n\u001b[32m    645\u001b[39m \u001b[38;5;28;01mif\u001b[39;00m a.dtype.char \u001b[38;5;129;01min\u001b[39;00m typecodes[\u001b[33m'\u001b[39m\u001b[33mAllFloat\u001b[39m\u001b[33m'\u001b[39m] \u001b[38;5;129;01mand\u001b[39;00m \u001b[38;5;129;01mnot\u001b[39;00m np.isfinite(a).all():\n\u001b[32m--> \u001b[39m\u001b[32m646\u001b[39m     \u001b[38;5;28;01mraise\u001b[39;00m \u001b[38;5;167;01mValueError\u001b[39;00m(\n\u001b[32m    647\u001b[39m         \u001b[33m\"\u001b[39m\u001b[33marray must not contain infs or NaNs\u001b[39m\u001b[33m\"\u001b[39m)\n\u001b[32m    648\u001b[39m \u001b[38;5;28;01mreturn\u001b[39;00m a\n",
      "\u001b[31mValueError\u001b[39m: array must not contain infs or NaNs"
     ]
    }
   ],
   "source": [
    "#run stasis gradient descent and save results ot a file\n",
    "# Optional: write header only once\n",
    "file_name = \"results_grad_descent.txt\"\n",
    "with open(file_name, \"w\") as ff:\n",
    "    ff.write(\"gamma delta alpha delm m0 fplas f Tend Nspecies chi2\\n\")\n",
    "#initialize random stasis parameters in the desired intervals\n",
    "gamma = random.uniform(4,8)\n",
    "delta = random.uniform(0,3)\n",
    "alpha = (2/7)*gamma - (1/delta)\n",
    "delm = random.uniform(1,10)\n",
    "m0 = delm\n",
    "fplas = random.uniform(0.1,1)\n",
    "f = random.uniform(0.1,1)\n",
    "Tend = random.uniform(1, 10)\n",
    "Nspecies = int(random.randint(1, 20))\n",
    "#PRyMini.stasis_params\n",
    "#print(Nspecies)\n",
    "#initialize params\n",
    "params = [gamma,delta,alpha,delm,m0,fplas,f,Tend,Nspecies]\n",
    "chi2 = chi2_fn(params)\n",
    "with open(file_name, \"a\") as ff:\n",
    "    ff.write(f\"{gamma} {delta} {alpha} {delm} {m0} {fplas} {f} {Tend} {Nspecies} {chi2}\\n\")\n",
    "#apply gradient descent, extremely slow right now\n",
    "for n in range(1000):\n",
    "    params = gradient_descent(params, lr=0.001, tol=7, max_iter=100)\n",
    "    chi2 = chi2_fn(params)\n",
    "    with open(file_name, \"a\") as ff:\n",
    "        ff.write(f\"{params[0]} {params[1]} {params[2]} {params[3]} {params[4]} {params[5]} {params[6]} {params[7]} {params[8]} {chi2}\\n\")\n",
    "        ff.flush()"
   ]
  },
  {
   "cell_type": "code",
   "execution_count": null,
   "id": "d4c0cebd",
   "metadata": {
    "papermill": {
     "duration": null,
     "end_time": null,
     "exception": null,
     "start_time": null,
     "status": "pending"
    },
    "tags": []
   },
   "outputs": [],
   "source": [
    "#minimize -2 ln L with a package\n",
    "from scipy.optimize import minimize\n",
    "import numpy as np\n",
    "\n",
    "'''#initialize random stasis parameters in the desired intervals\n",
    "gamma = random.uniform(4,8)\n",
    "delta = random.uniform(0,3)\n",
    "alpha = (2/7)*gamma - (1/delta)\n",
    "delm = random.uniform(1,10)\n",
    "m0 = delm\n",
    "fplas = random.uniform(0.1,1)\n",
    "f = random.uniform(0.1,1)\n",
    "Tend = random.uniform(1, 10)\n",
    "Nspecies = int(random.randint(1, 20))\n",
    "#PRyMini.stasis_params\n",
    "print(Nspecies)\n",
    "#initialize params\n",
    "params = [gamma,delta,alpha,delm,m0,fplas,f,Tend,Nspecies]\n",
    "\n",
    "# Initial guess\n",
    "#x0 = np.array([0.0, 0.0])\n",
    "\n",
    "# Minimize\n",
    "res = minimize(chi2_fn, params, method='BFGS')'''"
   ]
  }
 ],
 "metadata": {
  "kernelspec": {
   "display_name": ".venv",
   "language": "python",
   "name": "python3"
  },
  "language_info": {
   "codemirror_mode": {
    "name": "ipython",
    "version": 3
   },
   "file_extension": ".py",
   "mimetype": "text/x-python",
   "name": "python",
   "nbconvert_exporter": "python",
   "pygments_lexer": "ipython3",
   "version": "3.11.9"
  },
  "papermill": {
   "default_parameters": {},
   "duration": 702.767771,
   "end_time": "2025-07-15T21:23:55.664102",
   "environment_variables": {},
   "exception": true,
   "input_path": "/pub/ahewitt1/Stasis/Stasis_prym/Alec_gradient_descent.ipynb",
   "output_path": "/pub/ahewitt1/Stasis/Stasis_prym/output_notebook_plotz.ipynb",
   "parameters": {},
   "start_time": "2025-07-15T21:12:12.896331",
   "version": "2.6.0"
  }
 },
 "nbformat": 4,
 "nbformat_minor": 5
}