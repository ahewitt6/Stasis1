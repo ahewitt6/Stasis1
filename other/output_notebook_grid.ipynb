{
 "cells": [
  {
   "cell_type": "code",
   "execution_count": 1,
   "id": "67bd51ae",
   "metadata": {
    "execution": {
     "iopub.execute_input": "2025-07-04T20:59:21.915452Z",
     "iopub.status.busy": "2025-07-04T20:59:21.915228Z",
     "iopub.status.idle": "2025-07-04T20:59:40.226152Z",
     "shell.execute_reply": "2025-07-04T20:59:40.225436Z"
    },
    "papermill": {
     "duration": 18.315775,
     "end_time": "2025-07-04T20:59:40.227331",
     "exception": false,
     "start_time": "2025-07-04T20:59:21.911556",
     "status": "completed"
    },
    "tags": []
   },
   "outputs": [],
   "source": [
    "import time\n",
    "import numpy as np\n",
    "import types\n",
    "import os\n",
    "from scipy.integrate import solve_ivp\n",
    "from scipy.interpolate import interp1d\n",
    "from scipy.special import zeta\n",
    "import PRyM.PRyM_init as PRyMini\n",
    "import PRyM.PRyM_thermo as PRyMthermo\n",
    "import PRyM.test_main3 as test_main\n",
    "#import PRyM.PRyM_jl_sys as PRyMjl\n",
    "from numdifftools import Derivative\n",
    "import PRyM.PRyM_eval_nTOp as PRyMevalnTOp\n",
    "import PRyM.PRyM_nTOp as PRyMnTOp\n",
    "import matplotlib.pyplot as plt\n",
    "import pandas as pd"
   ]
  },
  {
   "cell_type": "code",
   "execution_count": 2,
   "id": "8cf88fe9",
   "metadata": {
    "execution": {
     "iopub.execute_input": "2025-07-04T20:59:40.234269Z",
     "iopub.status.busy": "2025-07-04T20:59:40.233811Z",
     "iopub.status.idle": "2025-07-04T20:59:40.240577Z",
     "shell.execute_reply": "2025-07-04T20:59:40.240095Z"
    },
    "papermill": {
     "duration": 0.011134,
     "end_time": "2025-07-04T20:59:40.241435",
     "exception": false,
     "start_time": "2025-07-04T20:59:40.230301",
     "status": "completed"
    },
    "tags": []
   },
   "outputs": [
    {
     "data": {
      "text/plain": [
       "'PRyMini.compute_bckg_flag = True\\nPRyMini.save_bckg_flag = False\\nPRyMini.stasis_flag = True\\nPRyMini.verbose_flag = False\\nPRyMini.smallnet_flag = True\\nTends = np.logspace(-3,1,200)\\n\\n\\n\\n# Optional: write header only once\\nfile_name = \"results_small.txt\"\\nwith open(file_name, \"w\") as f:\\n    f.write(\"Tend Neff Omeganurel 1/Omeganunr YPCMB YPBBN DoHx1e5 He3oHx1e5 Li7oHx1e10\\n\")\\n\\nfor T in Tends:\\n    PRyMini.stasis_params[\\'stasis_end_mev\\'] = T\\n    results = test_main.PRyMclass().PRyMresults()\\n    Neff_f, Omeganurel_f, OneOverOmeganunr_f, YPCMB_f, YPBBN_f, DoHx1e5_f, He3oHx1e5_f, Li7oHx1e10_f = results\\n\\n    #Save this result immediately\\n    with open(file_name, \"a\") as f:\\n        f.write(f\"{T:.6g} {Neff_f:.6g} {Omeganurel_f:.6g} {OneOverOmeganunr_f:.6g} \"\\n                f\"{YPCMB_f:.6g} {YPBBN_f:.6g} {DoHx1e5_f:.6g} {He3oHx1e5_f:.6g} {Li7oHx1e10_f:.6g}\\n\")'"
      ]
     },
     "execution_count": 2,
     "metadata": {},
     "output_type": "execute_result"
    }
   ],
   "source": [
    "#creates plots that Tim is looking for\n",
    "\n",
    "'''PRyMini.compute_bckg_flag = True\n",
    "PRyMini.save_bckg_flag = False\n",
    "PRyMini.stasis_flag = True\n",
    "PRyMini.verbose_flag = False\n",
    "PRyMini.smallnet_flag = True\n",
    "Tends = np.logspace(-3,1,200)\n",
    "\n",
    "\n",
    "\n",
    "# Optional: write header only once\n",
    "file_name = \"results_small.txt\"\n",
    "with open(file_name, \"w\") as f:\n",
    "    f.write(\"Tend Neff Omeganurel 1/Omeganunr YPCMB YPBBN DoHx1e5 He3oHx1e5 Li7oHx1e10\\n\")\n",
    "\n",
    "for T in Tends:\n",
    "    PRyMini.stasis_params['stasis_end_mev'] = T\n",
    "    results = test_main.PRyMclass().PRyMresults()\n",
    "    Neff_f, Omeganurel_f, OneOverOmeganunr_f, YPCMB_f, YPBBN_f, DoHx1e5_f, He3oHx1e5_f, Li7oHx1e10_f = results\n",
    "\n",
    "    #Save this result immediately\n",
    "    with open(file_name, \"a\") as f:\n",
    "        f.write(f\"{T:.6g} {Neff_f:.6g} {Omeganurel_f:.6g} {OneOverOmeganunr_f:.6g} \"\n",
    "                f\"{YPCMB_f:.6g} {YPBBN_f:.6g} {DoHx1e5_f:.6g} {He3oHx1e5_f:.6g} {Li7oHx1e10_f:.6g}\\n\")'''"
   ]
  },
  {
   "cell_type": "code",
   "execution_count": 3,
   "id": "41ddb4f5",
   "metadata": {
    "execution": {
     "iopub.execute_input": "2025-07-04T20:59:40.248271Z",
     "iopub.status.busy": "2025-07-04T20:59:40.248036Z",
     "iopub.status.idle": "2025-07-04T20:59:40.251529Z",
     "shell.execute_reply": "2025-07-04T20:59:40.251070Z"
    },
    "papermill": {
     "duration": 0.007802,
     "end_time": "2025-07-04T20:59:40.252354",
     "exception": false,
     "start_time": "2025-07-04T20:59:40.244552",
     "status": "completed"
    },
    "tags": []
   },
   "outputs": [
    {
     "data": {
      "text/plain": [
       "'columns = [\\n    \"Tend\", \"Neff\", \"Omeganurel\", \"OneOverOmeganunr\",\\n    \"YPCMB\", \"YPBBN\", \"DoHx1e5\", \"He3oHx1e5\", \"Li7oHx1e10\"\\n]\\n\\n# Read the space-separated file\\ndf = pd.read_csv(\"results_small.txt\", delim_whitespace=True, comment=\"#\", names=columns, skiprows=1)'"
      ]
     },
     "execution_count": 3,
     "metadata": {},
     "output_type": "execute_result"
    }
   ],
   "source": [
    "#to import data\n",
    "'''columns = [\n",
    "    \"Tend\", \"Neff\", \"Omeganurel\", \"OneOverOmeganunr\",\n",
    "    \"YPCMB\", \"YPBBN\", \"DoHx1e5\", \"He3oHx1e5\", \"Li7oHx1e10\"\n",
    "]\n",
    "\n",
    "# Read the space-separated file\n",
    "df = pd.read_csv(\"results_small.txt\", delim_whitespace=True, comment=\"#\", names=columns, skiprows=1)'''"
   ]
  },
  {
   "cell_type": "code",
   "execution_count": 4,
   "id": "cafe1d31",
   "metadata": {
    "execution": {
     "iopub.execute_input": "2025-07-04T20:59:40.258834Z",
     "iopub.status.busy": "2025-07-04T20:59:40.258613Z",
     "iopub.status.idle": "2025-07-04T20:59:40.262409Z",
     "shell.execute_reply": "2025-07-04T20:59:40.261962Z"
    },
    "papermill": {
     "duration": 0.008342,
     "end_time": "2025-07-04T20:59:40.263248",
     "exception": false,
     "start_time": "2025-07-04T20:59:40.254906",
     "status": "completed"
    },
    "tags": []
   },
   "outputs": [
    {
     "data": {
      "text/plain": [
       "\"Tends = np.logspace(-3,1,50)\\nplasma_injects = np.linspace(0,1,50)\\n\\nTends = np.logspace(-3, 1, 50)\\nplasma_injects = np.linspace(0, 1, 50)\\n\\n# Create a meshgrid\\nT_grid, plasma_grid = np.meshgrid(Tends, plasma_injects, indexing='ij')\\n\\n# Flatten the grids and stack into pairs\\ngrid_points = np.column_stack([T_grid.ravel(), plasma_grid.ravel()])\""
      ]
     },
     "execution_count": 4,
     "metadata": {},
     "output_type": "execute_result"
    }
   ],
   "source": [
    "'''Tends = np.logspace(-3,1,50)\n",
    "plasma_injects = np.linspace(0,1,50)\n",
    "\n",
    "Tends = np.logspace(-3, 1, 50)\n",
    "plasma_injects = np.linspace(0, 1, 50)\n",
    "\n",
    "# Create a meshgrid\n",
    "T_grid, plasma_grid = np.meshgrid(Tends, plasma_injects, indexing='ij')\n",
    "\n",
    "# Flatten the grids and stack into pairs\n",
    "grid_points = np.column_stack([T_grid.ravel(), plasma_grid.ravel()])'''"
   ]
  },
  {
   "cell_type": "code",
   "execution_count": 5,
   "id": "08e7105a",
   "metadata": {
    "execution": {
     "iopub.execute_input": "2025-07-04T20:59:40.269315Z",
     "iopub.status.busy": "2025-07-04T20:59:40.269061Z",
     "iopub.status.idle": "2025-07-05T06:08:26.176473Z",
     "shell.execute_reply": "2025-07-05T06:08:26.175764Z"
    },
    "papermill": {
     "duration": 32925.912141,
     "end_time": "2025-07-05T06:08:26.178080",
     "exception": false,
     "start_time": "2025-07-04T20:59:40.265939",
     "status": "completed"
    },
    "tags": []
   },
   "outputs": [
    {
     "name": "stderr",
     "output_type": "stream",
     "text": [
      "/dfs6/pub/ahewitt1/Stasis/.venv/lib64/python3.11/site-packages/scipy/_lib/_util.py:1226: LinAlgWarning: Diagonal number 8 is exactly zero. Singular matrix.\n",
      "  return f(*arrays, *other_args, **kwargs)\n"
     ]
    }
   ],
   "source": [
    "#code to create 2d heatmaps\n",
    "Tends = np.logspace(-3, 1, 50)\n",
    "plasma_injects = np.linspace(0, 1, 50)\n",
    "\n",
    "# Create the full grid\n",
    "T_grid, plasma_grid = np.meshgrid(Tends, plasma_injects, indexing='ij')\n",
    "\n",
    "# Flatten into 1D arrays\n",
    "T_ends = T_grid.ravel()\n",
    "plasma_injects = plasma_grid.ravel()\n",
    "\n",
    "\n",
    "PRyMini.compute_bckg_flag = True\n",
    "PRyMini.save_bckg_flag = False\n",
    "PRyMini.stasis_flag = True\n",
    "PRyMini.verbose_flag = False\n",
    "PRyMini.smallnet_flag = True\n",
    "\n",
    "\n",
    "\n",
    "\n",
    "# Optional: write header only once\n",
    "file_name = \"results_grid.txt\"\n",
    "with open(file_name, \"w\") as f:\n",
    "    f.write(\"Tend f Neff Omeganurel 1/Omeganunr YPCMB YPBBN DoHx1e5 He3oHx1e5 Li7oHx1e10\\n\")\n",
    "\n",
    "for n in range(len(T_ends)):\n",
    "    PRyMini.stasis_params['stasis_end_mev'] = T_ends[n]\n",
    "    PRyMini.stasis_params['plasma_inject_frac'] = plasma_injects[n]\n",
    "    results = test_main.PRyMclass().PRyMresults()\n",
    "    Neff_f, Omeganurel_f, OneOverOmeganunr_f, YPCMB_f, YPBBN_f, DoHx1e5_f, He3oHx1e5_f, Li7oHx1e10_f = results\n",
    "\n",
    "    #Save this result immediately\n",
    "    with open(file_name, \"a\") as f:\n",
    "        f.write(f\"{T_ends[n]:.6g} {plasma_injects[n]:.6g} {Neff_f:.6g} {Omeganurel_f:.6g} {OneOverOmeganunr_f:.6g} \"\n",
    "                f\"{YPCMB_f:.6g} {YPBBN_f:.6g} {DoHx1e5_f:.6g} {He3oHx1e5_f:.6g} {Li7oHx1e10_f:.6g}\\n\")"
   ]
  },
  {
   "cell_type": "code",
   "execution_count": 6,
   "id": "abbd9882",
   "metadata": {
    "execution": {
     "iopub.execute_input": "2025-07-05T06:08:26.219337Z",
     "iopub.status.busy": "2025-07-05T06:08:26.219068Z",
     "iopub.status.idle": "2025-07-05T06:08:26.224661Z",
     "shell.execute_reply": "2025-07-05T06:08:26.224259Z"
    },
    "papermill": {
     "duration": 0.010197,
     "end_time": "2025-07-05T06:08:26.225476",
     "exception": false,
     "start_time": "2025-07-05T06:08:26.215279",
     "status": "completed"
    },
    "tags": []
   },
   "outputs": [
    {
     "data": {
      "text/plain": [
       "'T_ends = df[\\'Tend\\'].tolist()\\nNeff = df[\\'Neff\\'].tolist()\\n\\nplt.plot(T_ends,Neff)\\nplt.xscale(\\'log\\')\\nplt.gca().invert_xaxis()\\nplt.ylim(0,40)\\nplt.ylabel(r\"$N_{\\rm{eff}}$\")\\nplt.xlabel(r\"$T_{\\rm{end}}$\")'"
      ]
     },
     "execution_count": 6,
     "metadata": {},
     "output_type": "execute_result"
    }
   ],
   "source": [
    "\n",
    "'''T_ends = df['Tend'].tolist()\n",
    "Neff = df['Neff'].tolist()\n",
    "\n",
    "plt.plot(T_ends,Neff)\n",
    "plt.xscale('log')\n",
    "plt.gca().invert_xaxis()\n",
    "plt.ylim(0,40)\n",
    "plt.ylabel(r\"$N_{\\rm{eff}}$\")\n",
    "plt.xlabel(r\"$T_{\\rm{end}}$\")'''"
   ]
  }
 ],
 "metadata": {
  "kernelspec": {
   "display_name": ".venv",
   "language": "python",
   "name": "python3"
  },
  "language_info": {
   "codemirror_mode": {
    "name": "ipython",
    "version": 3
   },
   "file_extension": ".py",
   "mimetype": "text/x-python",
   "name": "python",
   "nbconvert_exporter": "python",
   "pygments_lexer": "ipython3",
   "version": "3.11.9"
  },
  "papermill": {
   "default_parameters": {},
   "duration": 32953.062534,
   "end_time": "2025-07-05T06:08:27.445074",
   "environment_variables": {},
   "exception": null,
   "input_path": "/pub/ahewitt1/Stasis/Stasis_prym/Alec_tim_plots_2.ipynb",
   "output_path": "/pub/ahewitt1/Stasis/Stasis_prym/output_notebook_grid.ipynb",
   "parameters": {},
   "start_time": "2025-07-04T20:59:14.382540",
   "version": "2.6.0"
  }
 },
 "nbformat": 4,
 "nbformat_minor": 5
}