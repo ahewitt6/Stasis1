{
 "cells": [
  {
   "cell_type": "code",
   "execution_count": 1,
   "id": "67bd51ae",
   "metadata": {
    "execution": {
     "iopub.execute_input": "2025-07-04T18:10:34.055186Z",
     "iopub.status.busy": "2025-07-04T18:10:34.055012Z",
     "iopub.status.idle": "2025-07-04T18:10:39.972976Z",
     "shell.execute_reply": "2025-07-04T18:10:39.972480Z"
    },
    "papermill": {
     "duration": 5.922449,
     "end_time": "2025-07-04T18:10:39.974075",
     "exception": false,
     "start_time": "2025-07-04T18:10:34.051626",
     "status": "completed"
    },
    "tags": []
   },
   "outputs": [],
   "source": [
    "import time\n",
    "import numpy as np\n",
    "import types\n",
    "import os\n",
    "from scipy.integrate import solve_ivp\n",
    "from scipy.interpolate import interp1d\n",
    "from scipy.special import zeta\n",
    "import PRyM.PRyM_init as PRyMini\n",
    "import PRyM.PRyM_thermo as PRyMthermo\n",
    "import PRyM.test_main3 as test_main\n",
    "#import PRyM.PRyM_jl_sys as PRyMjl\n",
    "from numdifftools import Derivative\n",
    "import PRyM.PRyM_eval_nTOp as PRyMevalnTOp\n",
    "import PRyM.PRyM_nTOp as PRyMnTOp\n",
    "import matplotlib.pyplot as plt\n",
    "import pandas as pd"
   ]
  },
  {
   "cell_type": "code",
   "execution_count": null,
   "id": "8cf88fe9",
   "metadata": {
    "papermill": {
     "duration": null,
     "end_time": null,
     "exception": false,
     "start_time": "2025-07-04T18:10:39.976776",
     "status": "running"
    },
    "tags": []
   },
   "outputs": [],
   "source": [
    "#creates plots that Tim is looking for\n",
    "\n",
    "PRyMini.compute_bckg_flag = True\n",
    "PRyMini.save_bckg_flag = False\n",
    "PRyMini.stasis_flag = True\n",
    "PRyMini.verbose_flag = False\n",
    "\n",
    "Tends = np.logspace(-3,1,200)\n",
    "\n",
    "\n",
    "\n",
    "# Optional: write header only once\n",
    "with open(\"results.txt\", \"w\") as f:\n",
    "    f.write(\"Tend Neff Omeganurel 1/Omeganunr YPCMB YPBBN DoHx1e5 He3oHx1e5 Li7oHx1e10\\n\")\n",
    "\n",
    "for T in Tends:\n",
    "    PRyMini.stasis_params['stasis_end_mev'] = T\n",
    "    results = test_main.PRyMclass().PRyMresults()\n",
    "    Neff_f, Omeganurel_f, OneOverOmeganunr_f, YPCMB_f, YPBBN_f, DoHx1e5_f, He3oHx1e5_f, Li7oHx1e10_f = results\n",
    "\n",
    "    #Save this result immediately\n",
    "    with open(\"results.txt\", \"a\") as f:\n",
    "        f.write(f\"{T:.6g} {Neff_f:.6g} {Omeganurel_f:.6g} {OneOverOmeganunr_f:.6g} \"\n",
    "                f\"{YPCMB_f:.6g} {YPBBN_f:.6g} {DoHx1e5_f:.6g} {He3oHx1e5_f:.6g} {Li7oHx1e10_f:.6g}\\n\")"
   ]
  },
  {
   "cell_type": "code",
   "execution_count": null,
   "id": "41ddb4f5",
   "metadata": {
    "papermill": {
     "duration": null,
     "end_time": null,
     "exception": null,
     "start_time": null,
     "status": "pending"
    },
    "tags": []
   },
   "outputs": [],
   "source": [
    "#to import data\n",
    "columns = [\n",
    "    \"Tend\", \"Neff\", \"Omeganurel\", \"OneOverOmeganunr\",\n",
    "    \"YPCMB\", \"YPBBN\", \"DoHx1e5\", \"He3oHx1e5\", \"Li7oHx1e10\"\n",
    "]\n",
    "\n",
    "# Read the space-separated file\n",
    "df = pd.read_csv(\"results0.txt\", delim_whitespace=True, comment=\"#\", names=columns, skiprows=1)"
   ]
  },
  {
   "cell_type": "code",
   "execution_count": null,
   "id": "82bf126a",
   "metadata": {
    "papermill": {
     "duration": null,
     "end_time": null,
     "exception": null,
     "start_time": null,
     "status": "pending"
    },
    "tags": []
   },
   "outputs": [],
   "source": [
    "Tend = df['Tend'].tolist()\n",
    "Neff = df['Neff'].tolist()\n",
    "plt.plot(Tend,Neff)\n",
    "plt.xscale('log')"
   ]
  }
 ],
 "metadata": {
  "kernelspec": {
   "display_name": ".venv",
   "language": "python",
   "name": "python3"
  },
  "language_info": {
   "codemirror_mode": {
    "name": "ipython",
    "version": 3
   },
   "file_extension": ".py",
   "mimetype": "text/x-python",
   "name": "python",
   "nbconvert_exporter": "python",
   "pygments_lexer": "ipython3",
   "version": "3.11.9"
  },
  "papermill": {
   "default_parameters": {},
   "duration": null,
   "end_time": null,
   "environment_variables": {},
   "exception": null,
   "input_path": "/pub/ahewitt1/Stasis/Stasis_prym/Alec_tim_plots.ipynb",
   "output_path": "/pub/ahewitt1/Stasis/Stasis_prym/output_notebook.ipynb",
   "parameters": {},
   "start_time": "2025-07-04T18:10:28.998327",
   "version": "2.6.0"
  }
 },
 "nbformat": 4,
 "nbformat_minor": 5
}