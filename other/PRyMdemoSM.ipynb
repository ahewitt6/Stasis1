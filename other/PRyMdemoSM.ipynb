{
 "cells": [
  {
   "cell_type": "code",
   "execution_count": 1,
   "metadata": {
    "scrolled": true
   },
   "outputs": [
    {
     "name": "stdout",
     "output_type": "stream",
     "text": [
      "CPU times: user 6.78 s, sys: 62 ms, total: 6.84 s\n",
      "Wall time: 6.92 s\n"
     ]
    }
   ],
   "source": [
    "# Hello, World! of PRyMordial\n",
    "import PRyM.PRyM_main as PRyMmain\n",
    "%time myPRyM = PRyMmain.PRyMclass()"
   ]
  },
  {
   "cell_type": "code",
   "execution_count": 2,
   "metadata": {},
   "outputs": [
    {
     "data": {
      "text/plain": [
       "array([ 3.04438852,  5.69940717, 93.03360798,  0.24556139,  0.2468873 ,\n",
       "        2.46225365,  1.04204994,  5.42356155])"
      ]
     },
     "execution_count": 2,
     "metadata": {},
     "output_type": "execute_result"
    }
   ],
   "source": [
    "# [Neff , Ω_ν h^2 × 10^6 (rel), ∑ m_ν / (Ω_ν h^2) [eV], YP (CMB), YP (BBN), D/H × 10^5, 3He/H × 10^5, 7Li/H × 10^10]\n",
    "myPRyM.PRyMresults()"
   ]
  },
  {
   "cell_type": "code",
   "execution_count": 3,
   "metadata": {},
   "outputs": [
    {
     "data": {
      "text/plain": [
       "(np.float64(3.044388520277093),\n",
       " np.float64(5.699407167709801),\n",
       " np.float64(0.010748803811036461),\n",
       " np.float64(0.24556139207051403),\n",
       " np.float64(0.2468872961883013),\n",
       " np.float64(2.462253649187069e-05),\n",
       " np.float64(1.04204993836121e-05),\n",
       " np.float64(5.42356154576855e-10))"
      ]
     },
     "execution_count": 3,
     "metadata": {},
     "output_type": "execute_result"
    }
   ],
   "source": [
    "# Individual call for each observable\n",
    "myPRyM.Neff(),myPRyM.Omeganurel(),myPRyM.Omeganunonrel(),myPRyM.YPCMB(),myPRyM.YPBBN(),myPRyM.DoH(),myPRyM.He3oH(),myPRyM.Li7oH(),"
   ]
  },
  {
   "cell_type": "code",
   "execution_count": 4,
   "metadata": {},
   "outputs": [],
   "source": [
    "# Change of input parameter\n",
    "import PRyM.PRyM_init as PRyMini\n",
    "PRyMini.tau_n = 879 # s\n",
    "myPRyMnewtau = PRyMmain.PRyMclass()"
   ]
  },
  {
   "cell_type": "code",
   "execution_count": 5,
   "metadata": {},
   "outputs": [
    {
     "data": {
      "text/plain": [
       "array([ 3.04438852,  5.69940717, 93.03360798,  0.24568329,  0.24700963,\n",
       "        2.46123924,  1.04209406,  5.42618103])"
      ]
     },
     "execution_count": 5,
     "metadata": {},
     "output_type": "execute_result"
    }
   ],
   "source": [
    "# Results with new neutron lifetime\n",
    "myPRyMnewtau.PRyMresults()"
   ]
  },
  {
   "cell_type": "code",
   "execution_count": 6,
   "metadata": {},
   "outputs": [],
   "source": [
    "# Change of nuclear rates\n",
    "PRyMini.nacreii_flag = True\n",
    "PRyMini.ReloadKeyRates()\n",
    "myPRyMnacreii = PRyMmain.PRyMclass()"
   ]
  },
  {
   "cell_type": "code",
   "execution_count": 7,
   "metadata": {
    "scrolled": true
   },
   "outputs": [
    {
     "data": {
      "text/plain": [
       "array([ 3.04438852,  5.69940717, 93.03360798,  0.24560228,  0.24692834,\n",
       "        2.53332718,  1.04628913,  5.26140204])"
      ]
     },
     "execution_count": 7,
     "metadata": {},
     "output_type": "execute_result"
    }
   ],
   "source": [
    "# Results with NACRE-II key nuclear rates\n",
    "myPRyMnacreii.PRyMresults()"
   ]
  },
  {
   "cell_type": "code",
   "execution_count": 8,
   "metadata": {},
   "outputs": [
    {
     "name": "stdout",
     "output_type": "stream",
     "text": [
      "CPU times: user 4.48 s, sys: 20.9 ms, total: 4.5 s\n",
      "Wall time: 4.58 s\n"
     ]
    },
    {
     "data": {
      "text/plain": [
       "array([ 3.04438852,  5.69940717, 93.03360798,  0.24559572,  0.24692175,\n",
       "        2.52850084,  1.04615251,  5.32563037])"
      ]
     },
     "execution_count": 8,
     "metadata": {},
     "output_type": "execute_result"
    }
   ],
   "source": [
    "# Use small nuclear network comprising key rates for YP and D/H\n",
    "PRyMini.smallnet_flag = True\n",
    "%time PRyMmain.PRyMclass().PRyMresults()"
   ]
  },
  {
   "cell_type": "code",
   "execution_count": 9,
   "metadata": {},
   "outputs": [],
   "source": [
    "############################################\n",
    "# Code to reproduce Figure 2 of 2307.07061 #\n",
    "############################################\n",
    "# Restore neutron lifetime of PDG 2023\n",
    "PRyMini.tau_n = 878.4 # s\n",
    "# Include incomplete decoupling in a(T)\n",
    "aTid_flag = True\n",
    "# Recompute the background from scratch\n",
    "PRyMini.compute_bckg_flag = True\n",
    "# Save the background in PRyMrates/thermo\n",
    "PRyMini.save_bckg_flag = True\n",
    "# Recompute n <--> p rates from scratch\n",
    "PRyMini.compute_nTOp_flag = True\n",
    "# Save n <--> p rates in PRyMrates/nTOp\n",
    "PRyMini.save_nTOp_flag = True\n",
    "# Include only key rates in nuclear network\n",
    "PRyMini.smallnet_flag = True\n",
    "# NACRE II compilation for key rates\n",
    "PRyMini.nacreii_flag = True\n",
    "# compute PRyM observables\n",
    "YP,DoHx1e5,He3oHx1e5,Li7oHx1e10 = PRyMmain.PRyMclass().PRyMresults()[4:8]"
   ]
  },
  {
   "cell_type": "code",
   "execution_count": 10,
   "metadata": {},
   "outputs": [
    {
     "name": "stdout",
     "output_type": "stream",
     "text": [
      "CPU times: user 840 ms, sys: 4.62 ms, total: 845 ms\n",
      "Wall time: 848 ms\n"
     ]
    }
   ],
   "source": [
    "# Change in etab does not require to recompute background and p <--> n\n",
    "PRyMini.compute_bckg_flag = False\n",
    "PRyMini.save_bckg_flag = False\n",
    "PRyMini.compute_nTOp_flag = False\n",
    "PRyMini.save_nTOp_flag = False\n",
    "# Compute PRyMordial obs will now be faster!\n",
    "%time YP,DoHx1e5,He3oHx1e5,Li7oHx1e10 = PRyMmain.PRyMclass().PRyMresults()[4:8]"
   ]
  },
  {
   "cell_type": "code",
   "execution_count": 11,
   "metadata": {},
   "outputs": [],
   "source": [
    "# PDG plot\n",
    "npoints = 20\n",
    "import numpy as np\n",
    "etabvec = np.logspace(-10,-9,npoints)\n",
    "# Initialization of array of observables\n",
    "YP_vec, DoH_vec, He3oH_vec, Li7oH_vec = np.zeros((4,npoints))\n",
    "for i in range(npoints):\n",
    "    # Update value of baryon-to-photon ratio\n",
    "    PRyMini.eta0b = etabvec[i]\n",
    "    # Store obs computed for the new eta\n",
    "    YP_vec[i], DoH_vec[i], He3oH_vec[i], Li7oH_vec[i] = PRyMmain.PRyMclass().PRyMresults()[4:8]"
   ]
  },
  {
   "cell_type": "code",
   "execution_count": 12,
   "metadata": {},
   "outputs": [
    {
     "name": "stdout",
     "output_type": "stream",
     "text": [
      "etab10 :  [ 1.          1.12883789  1.27427499  1.43844989  1.62377674  1.83298071\n",
      "  2.06913808  2.33572147  2.6366509   2.97635144  3.35981829  3.79269019\n",
      "  4.2813324   4.83293024  5.45559478  6.15848211  6.95192796  7.8475997\n",
      "  8.8586679  10.        ]\n",
      "YP :  [0.22160966 0.22436958 0.22684115 0.22906949 0.2311058  0.23296969\n",
      " 0.23469653 0.23630145 0.23783247 0.23927865 0.2406507  0.2419748\n",
      " 0.24324814 0.24449203 0.24569994 0.24688064 0.2480388  0.24916722\n",
      " 0.25029471 0.25139583]\n",
      "DoH :  [46.3128514  37.96092114 31.12851634 25.47584431 20.86102153 17.08792982\n",
      " 14.05693442 11.56335541  9.54998619  7.87418431  6.52338528  5.39185588\n",
      "  4.45082538  3.68145726  3.03373873  2.48951755  2.03478354  1.65601479\n",
      "  1.3356304   1.06332693]\n"
     ]
    }
   ],
   "source": [
    "# Sample of array values for Figure 2 in 2307.07061\n",
    "# Figure 2 obtained w/ 50 points + PDG 2023 inputs + large nuclear network\n",
    "print(\"etab10 : \",etabvec*1e+10)\n",
    "print(\"YP : \",YP_vec)\n",
    "print(\"DoH : \",DoH_vec)"
   ]
  },
  {
   "cell_type": "code",
   "execution_count": 13,
   "metadata": {},
   "outputs": [],
   "source": [
    "############################################\n",
    "# Code to reproduce Figure 3 of 2307.07061 #\n",
    "############################################\n",
    "# SM MC run\n",
    "num_it = 80 # toy MC ... 10K used for Figure 3 w/ large network\n",
    "import numpy as np\n",
    "YP_vec, DoH_vec, He3oH_vec, Li7oH_vec = np.zeros((4,num_it))\n",
    "# Baryon eta from Planck 18 (no BBN prior)\n",
    "mean_eta0b = PRyMini.Omegabh2_to_eta0b*0.02230\n",
    "std_eta0b = PRyMini.Omegabh2_to_eta0b*2*1.e-4\n",
    "# Neutron lifetime from PDG 2023\n",
    "mean_tau_n = 878.4 # s\n",
    "std_tau_n = 0.5 # s"
   ]
  },
  {
   "cell_type": "code",
   "execution_count": 14,
   "metadata": {},
   "outputs": [],
   "source": [
    "# Compute primordial abundances at each iteration\n",
    "def ComputeAbundances(i):\n",
    "    # Settings to speed up the SM MC\n",
    "    PRyMini.recompute_bckg = False\n",
    "    PRyMini.recompute_nTOp_rates = False\n",
    "    # Small network used: Set to False for a more reliable prediction of Li7\n",
    "    PRyMini.smallnet_flag = True\n",
    "    PRyMini.num_reactions = 12 # for the large network, set this to be 63\n",
    "    # Gaussian prior on baryon-to-photon ratio\n",
    "    PRyMini.eta0b = np.random.normal(mean_eta0b,std_eta0b)\n",
    "    # Gaussian prior on neutron lifetime\n",
    "    PRyMini.tau_n = np.random.normal(mean_tau_n,std_tau_n)\n",
    "    # Log-normal prior on nuclear rates\n",
    "    # For the large network, many more ... see PRyM_init.py\n",
    "    PRyMini.p_npdg,PRyMini.p_dpHe3g,PRyMini.p_ddHe3n,PRyMini.p_ddtp,PRyMini.p_tpag,PRyMini.p_tdan,PRyMini.p_taLi7g,PRyMini.p_He3ntp,PRyMini.p_He3dap,PRyMini.p_He3aBe7g,PRyMini.p_Be7nLi7p,PRyMini.p_Li7paa = np.random.normal(0,1,PRyMini.num_reactions)\n",
    "    # Adopt NACRE II compilation for key rates\n",
    "    PRyMini.nacreii_flag = True\n",
    "    PRyMini.ReloadKeyRates()\n",
    "    return PRyMmain.PRyMclass().PRyMresults()[4:8]"
   ]
  },
  {
   "cell_type": "code",
   "execution_count": 18,
   "metadata": {},
   "outputs": [
    {
     "ename": "ModuleNotFoundError",
     "evalue": "No module named 'joblib'",
     "output_type": "error",
     "traceback": [
      "\u001b[0;31m---------------------------------------------------------------------------\u001b[0m",
      "\u001b[0;31mModuleNotFoundError\u001b[0m                       Traceback (most recent call last)",
      "Cell \u001b[0;32mIn[18], line 2\u001b[0m\n\u001b[1;32m      1\u001b[0m \u001b[38;5;66;03m# Parallelizing w/ joblib + multiprocessing\u001b[39;00m\n\u001b[0;32m----> 2\u001b[0m \u001b[38;5;28;01mfrom\u001b[39;00m\u001b[38;5;250m \u001b[39m\u001b[38;5;21;01mjoblib\u001b[39;00m\u001b[38;5;250m \u001b[39m\u001b[38;5;28;01mimport\u001b[39;00m Parallel, delayed\n\u001b[1;32m      3\u001b[0m \u001b[38;5;28;01mimport\u001b[39;00m\u001b[38;5;250m \u001b[39m\u001b[38;5;21;01mmultiprocessing\u001b[39;00m\n\u001b[1;32m      4\u001b[0m num_cpu \u001b[38;5;241m=\u001b[39m \u001b[38;5;28mint\u001b[39m(multiprocessing\u001b[38;5;241m.\u001b[39mcpu_count())\n",
      "\u001b[0;31mModuleNotFoundError\u001b[0m: No module named 'joblib'"
     ]
    }
   ],
   "source": [
    "# Parallelizing w/ joblib + multiprocessing\n",
    "from joblib import Parallel, delayed\n",
    "import multiprocessing\n",
    "num_cpu = int(multiprocessing.cpu_count())\n",
    "FinalAbundances = Parallel(n_jobs = num_cpu)(delayed(ComputeAbundances)((i)) \n",
    "for i in range(num_it))\n",
    "YP_vec, DoH_vec, He3oH_vec, Li7oH_vec = np.array(FinalAbundances).transpose()"
   ]
  },
  {
   "cell_type": "code",
   "execution_count": 16,
   "metadata": {},
   "outputs": [
    {
     "name": "stdout",
     "output_type": "stream",
     "text": [
      "Mean 0.0  +- 0.0\n"
     ]
    },
    {
     "data": {
      "text/plain": [
       "array([0., 0., 0.])"
      ]
     },
     "execution_count": 16,
     "metadata": {},
     "output_type": "execute_result"
    }
   ],
   "source": [
    "# Statistics for primordial helium-4 mass fraction\n",
    "print(\"Mean\", np.mean(YP_vec), \" +-\", np.std(YP_vec))\n",
    "np.quantile(YP_vec,[0.16,0.5,0.84])"
   ]
  },
  {
   "cell_type": "code",
   "execution_count": 17,
   "metadata": {},
   "outputs": [
    {
     "name": "stdout",
     "output_type": "stream",
     "text": [
      "Mean 0.0  +- 0.0\n"
     ]
    },
    {
     "data": {
      "text/plain": [
       "array([0., 0., 0.])"
      ]
     },
     "execution_count": 17,
     "metadata": {},
     "output_type": "execute_result"
    }
   ],
   "source": [
    "# Statistics for primordial deuterium relative H number density\n",
    "print(\"Mean\", np.mean(DoH_vec), \" +-\", np.std(DoH_vec))\n",
    "np.quantile(DoH_vec,[0.16,0.5,0.84])"
   ]
  }
 ],
 "metadata": {
  "kernelspec": {
   "display_name": ".venv",
   "language": "python",
   "name": "python3"
  },
  "language_info": {
   "codemirror_mode": {
    "name": "ipython",
    "version": 3
   },
   "file_extension": ".py",
   "mimetype": "text/x-python",
   "name": "python",
   "nbconvert_exporter": "python",
   "pygments_lexer": "ipython3",
   "version": "3.12.7"
  }
 },
 "nbformat": 4,
 "nbformat_minor": 4
}
