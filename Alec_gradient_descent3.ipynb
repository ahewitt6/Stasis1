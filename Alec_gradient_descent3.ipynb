{
 "cells": [
  {
   "cell_type": "code",
   "execution_count": 1,
   "id": "89012fbd",
   "metadata": {},
   "outputs": [],
   "source": [
    "import time\n",
    "import numpy as np\n",
    "import types\n",
    "import os\n",
    "from scipy.integrate import solve_ivp\n",
    "from scipy.interpolate import interp1d\n",
    "from scipy.special import zeta\n",
    "import PRyM.PRyM_init as PRyMini\n",
    "import PRyM.PRyM_thermo as PRyMthermo\n",
    "import PRyM.test_main3 as test_main\n",
    "#import PRyM.PRyM_jl_sys as PRyMjl\n",
    "from numdifftools import Derivative\n",
    "import PRyM.PRyM_eval_nTOp as PRyMevalnTOp\n",
    "import PRyM.PRyM_nTOp as PRyMnTOp\n",
    "import matplotlib.pyplot as plt\n",
    "import pandas as pd\n",
    "import random"
   ]
  },
  {
   "cell_type": "code",
   "execution_count": 2,
   "id": "6f1702c7",
   "metadata": {},
   "outputs": [],
   "source": [
    "#generate grid of f_inj v.s. T_end"
   ]
  },
  {
   "cell_type": "code",
   "execution_count": 3,
   "id": "6131e6e6",
   "metadata": {},
   "outputs": [],
   "source": [
    "#observed values, all wrong currently, for testing purposes\n",
    "YPCMB_obs, Neff_obs, DoHx1e5_obs, Li7oHx1e10_obs = np.array([0.245,3.85,2.547,1.63])\n",
    "X_obs = np.array([YPCMB_obs, Neff_obs, DoHx1e5_obs, Li7oHx1e10_obs])\n",
    "YPCMB_sig, Neff_sig, DoHx1e5_sig, Li7oHx1e10_sig = np.array([0.003,0.62,0.0029,0.3])\n",
    "sigma_X = np.array([YPCMB_sig, Neff_sig, DoHx1e5_sig, Li7oHx1e10_sig])\n",
    "\n",
    "eta_obs = 6.04*10**(-10)\n",
    "eta_sigma = 0.118*10**(-10)\n"
   ]
  },
  {
   "cell_type": "code",
   "execution_count": 4,
   "id": "1c73fb7b",
   "metadata": {},
   "outputs": [],
   "source": [
    "#vary 12 key nuclear rates\n",
    "#params for standard normal \n",
    "mu = 0       # Mean\n",
    "sigma = 1    # Standard deviation\n",
    "#choose a random sample p using standard normal rate = median_rate*exp(p sigma)\n",
    "PRyMini.p_npdg = np.random.normal(loc=mu, scale=sigma)\n",
    "PRyMini.p_dpHe3g = np.random.normal(loc=mu, scale=sigma)\n",
    "PRyMini.p_ddHe3n = np.random.normal(loc=mu, scale=sigma)\n",
    "PRyMini.p_ddtp = np.random.normal(loc=mu, scale=sigma)\n",
    "PRyMini.p_tpag = np.random.normal(loc=mu, scale=sigma)\n",
    "PRyMini.p_tdan = np.random.normal(loc=mu, scale=sigma)\n",
    "PRyMini.p_taLi7g = np.random.normal(loc=mu, scale=sigma)\n",
    "PRyMini.p_He3ntp = np.random.normal(loc=mu, scale=sigma)\n",
    "PRyMini.p_He3dap = np.random.normal(loc=mu, scale=sigma)\n",
    "PRyMini.p_He3aBe7g = np.random.normal(loc=mu, scale=sigma)\n",
    "PRyMini.p_Be7nLi7p = np.random.normal(loc=mu, scale=sigma)\n",
    "PRyMini.p_Li7paa = np.random.normal(loc=mu, scale=sigma)\n",
    "\n",
    "#theoretical nuisance parameters\n",
    "#p is the nuisance parameter which is chosen from standard normal\n",
    "nus_th = np.array([PRyMini.p_npdg, PRyMini.p_dpHe3g, PRyMini.p_ddHe3n, PRyMini.p_ddtp, PRyMini.p_tpag, PRyMini.p_tdan, PRyMini.p_taLi7g, PRyMini.p_He3ntp, PRyMini.p_He3dap, PRyMini.p_He3aBe7g, PRyMini.p_Be7nLi7p, PRyMini.p_Li7paa])\n",
    "#observed nuisance parameters\n",
    "nus_obs = np.zeros(len(nus_th))\n",
    "#corresponding sigmas for nuisance parameters\n",
    "sigma_nus = np.array([1 for n in range(len(nus_obs))])\n",
    "\n"
   ]
  },
  {
   "cell_type": "code",
   "execution_count": 5,
   "id": "b976e76d",
   "metadata": {},
   "outputs": [],
   "source": [
    "#observed values\n",
    "#YPCMB_obs, Neff_obs, DoHx1e5_obs, Li7oHx1e10_obs = np.array([0.245,3.85,2.547,1.63])\n",
    "YPCMB_obs, Neff_obs, DoHx1e5_obs, Li7oHx1e10_obs = np.array([0.245,3.85,2.547,5.853])        #for testing\n",
    "X_obs = np.array([YPCMB_obs, Neff_obs, DoHx1e5_obs, Li7oHx1e10_obs])\n",
    "#YPCMB_sig, Neff_sig, DoHx1e5_sig, Li7oHx1e10_sig = np.array([0.003,0.62,0.0029,0.3])\n",
    "YPCMB_sig, Neff_sig, DoHx1e5_sig, Li7oHx1e10_sig = np.array([0.03,0.62,0.029,0.3])        #for testing\n",
    "sigma_X = np.array([YPCMB_sig, Neff_sig, DoHx1e5_sig, Li7oHx1e10_sig])\n",
    "\n",
    "#eta_b experimental values today\n",
    "#eta_obs = 6.04*10**(-10)\n",
    "eta_obs = 1.336*10**(-10)\n",
    "sigma_eta = 0.118*10**(-10)\n",
    "\n",
    "\n",
    "\n"
   ]
  },
  {
   "cell_type": "code",
   "execution_count": 6,
   "id": "d182f064",
   "metadata": {},
   "outputs": [],
   "source": [
    "# Chi^2 function\n",
    "\n",
    "def chi2_fn(params):\n",
    "    #initialize stasis parameters\n",
    "    PRyMini.compute_bckg_flag = True\n",
    "    PRyMini.save_bckg_flag = True\n",
    "    PRyMini.stasis_flag = True\n",
    "    PRyMini.verbose_flag = False\n",
    "    PRyMini.smallnet_flag = True\n",
    "    PRyMini.stasis_params['gamma'] = 1\n",
    "    PRyMini.stasis_params['delta'] = 1\n",
    "    PRyMini.stasis_params['alpha'] = params[0]\n",
    "    PRyMini.stasis_params['m0'] = params[1]\n",
    "    PRyMini.stasis_params['Delta_m'] = params[1]\n",
    "    #PRyMini.stasis_params['plasma_inject_frac'] = params[2]\n",
    "    PRyMini.stasis_params['tiny_radiation'] = 0.1\n",
    "    #PRyMini.stasis_params['stasis_end_mev'] = params[3]\n",
    "    PRyMini.stasis_params['N_SPECIES'] = 25\n",
    "\n",
    "    #calculate theoretical values\n",
    "    run = test_main.PRyMclass()\n",
    "    results = run.PRyMresults()\n",
    "\n",
    "    ##extract etab today\n",
    "    #extract lowest temperature and corresponding radiation density \n",
    "    path_stasis = \"/Users/alechewitt/Desktop/Stasis/Stasis1/PRyMrates/thermo/stasis_abundances.txt\"\n",
    "    #path_stasis = \"/pub/ahewitt1/Stasis_new/Stasis1/PRyMrates/thermo/stasis_abundances.txt\"\n",
    "    with open(path_stasis, \"r\") as f:\n",
    "        lines = f.readlines()\n",
    "        last_line = lines[-1].strip()\n",
    "        last_line = np.array([float(x) for x in last_line.split()])\n",
    "    kb = 1      #I think this is right in natural units\n",
    "    T_MeV = last_line[1]\n",
    "    rho_g = last_line[3]\n",
    "    n_g = rho_g/T_MeV\n",
    "    nB = run.nB(run.a_of_T(T_MeV))\n",
    "    eta_th = nB/n_g\n",
    "\n",
    "    Neff, Omeganurel, OneOverOmeganunr, YPCMB, YPBBN, DoHx1e5, He3oHx1e5, Li7oHx1e10 = results\n",
    "    #X_th = np.array([Neff, Omeganurel, OneOverOmeganunr, YPCMB, YPBBN, DoHx1e5, He3oHx1e5, Li7oHx1e10])\n",
    "    X_th = np.array([YPCMB, Neff, DoHx1e5, Li7oHx1e10])\n",
    "    #print('observables: ',X_th)\n",
    "    #print('etab: ',eta_th)\n",
    "    return sum(((X_th-X_obs)/sigma_X)**2) + ((eta_th-eta_obs)/sigma_eta)**2 + sum(((nus_th-nus_obs)/sigma_nus)**2)\n",
    "\n",
    "\n",
    "\n",
    "# Gradient of chi^2 (numerical)\n",
    "def grad_chi2(chi2_fn,params, eps=1e-3):\n",
    "    grad = np.zeros_like(params)\n",
    "    for i in range(len(params)):\n",
    "        dparams = np.zeros_like(params)\n",
    "        dparams[i] = eps\n",
    "        grad[i] = (chi2_fn(params + dparams) - chi2_fn(params - dparams)) / (2 * eps)\n",
    "    return grad\n"
   ]
  },
  {
   "cell_type": "code",
   "execution_count": 7,
   "id": "ccfed9df",
   "metadata": {},
   "outputs": [],
   "source": [
    "#adaptive gradient method\n",
    "def adagrad_minimize(chi2_fn, params_init, lr=0.0001, epsilon=1e-8, max_iters=1000, tol=1e-6, verbose=True):\n",
    "    params = np.array(params_init, dtype=np.float64)\n",
    "    G = np.zeros_like(params)\n",
    "    \n",
    "    for t in range(1, max_iters + 1):\n",
    "        grad = grad_chi2(chi2_fn, params)\n",
    "        G += grad ** 2\n",
    "        adjusted_grad = grad / (np.sqrt(G) + epsilon)\n",
    "        update = lr * adjusted_grad\n",
    "        params -= update\n",
    "        #params[-1] = int(np.floor(params[-1]))#N_species needs to be an integer\n",
    "        learning_rate = lr / (np.sqrt(G) + epsilon)\n",
    "        if verbose:\n",
    "            print(f\"Iter {t}: params = {params}, chisq = {chi2_fn(params):.6f}\")\n",
    "        \n",
    "        if np.linalg.norm(update) < tol:\n",
    "            break\n",
    "            \n",
    "    return params"
   ]
  },
  {
   "cell_type": "code",
   "execution_count": 8,
   "id": "5f1b0ddb",
   "metadata": {},
   "outputs": [
    {
     "data": {
      "text/plain": [
       "{'gamma': 7,\n",
       " 'delta': 1,\n",
       " 'm0': 1,\n",
       " 'Delta_m': 1,\n",
       " 'N_SPECIES': 10,\n",
       " 'GAMMA_OVER_H': 100000.0,\n",
       " 'stasis_end_mev': 50,\n",
       " 'tiny_radiation': 0.01,\n",
       " 'plasma_inject_frac': 0.1,\n",
       " 'alpha': 1.0}"
      ]
     },
     "execution_count": 8,
     "metadata": {},
     "output_type": "execute_result"
    }
   ],
   "source": [
    "PRyMini.stasis_params"
   ]
  },
  {
   "cell_type": "code",
   "execution_count": 9,
   "id": "fbaf9f4d",
   "metadata": {},
   "outputs": [
    {
     "data": {
      "text/plain": [
       "'file_name = \"results_grad_descent.txt\"\\nwith open(file_name, \"w\") as ff:\\n    ff.write(\"gamma delta alpha delm m0 fplas f Tend Nspecies chi2\\n\")\\n#initialize random stasis parameters in the desired intervals\\ngamma = 1\\ndelta = 1\\nalpha = random.uniform(-1/delta,(gamma/2)-(1/delta))\\ndelm = random.uniform(1,10)\\nm0 = delm\\nfplas = random.uniform(0.1,1)\\nf = 0.1\\nTend = random.uniform(0.1, 10)\\n#Nspecies = int(random.randint(1, 20)) #old\\nNspecies = int(25)\\n\\n#eta0b\\nPRyMini.eta0b = random.uniform(1e-11,1e-9 )\\n\\n#initialize params\\nparams = [alpha, delm, fplas, Tend]\\nparams = np.array(params)\\nprint(params)'"
      ]
     },
     "execution_count": 9,
     "metadata": {},
     "output_type": "execute_result"
    }
   ],
   "source": [
    "#run stasis gradient descent and save results ot a file\n",
    "# Optional: write header only once\n",
    "'''file_name = \"results_grad_descent.txt\"\n",
    "with open(file_name, \"w\") as ff:\n",
    "    ff.write(\"gamma delta alpha delm m0 fplas f Tend Nspecies chi2\\n\")\n",
    "#initialize random stasis parameters in the desired intervals\n",
    "gamma = 1\n",
    "delta = 1\n",
    "alpha = random.uniform(-1/delta,(gamma/2)-(1/delta))\n",
    "delm = random.uniform(1,10)\n",
    "m0 = delm\n",
    "fplas = random.uniform(0.1,1)\n",
    "f = 0.1\n",
    "Tend = random.uniform(0.1, 10)\n",
    "#Nspecies = int(random.randint(1, 20)) #old\n",
    "Nspecies = int(25)\n",
    "\n",
    "#eta0b\n",
    "PRyMini.eta0b = random.uniform(1e-11,1e-9 )\n",
    "\n",
    "#initialize params\n",
    "params = [alpha, delm, fplas, Tend]\n",
    "params = np.array(params)\n",
    "print(params)'''\n",
    "\n",
    "#print(chi2_fn_test(params))\n",
    "\n",
    "#adagrad_minimize(chi2_fn, params, lr=0.1, epsilon=1e-4, max_iters=100, tol=1e-6, verbose=True)"
   ]
  },
  {
   "cell_type": "code",
   "execution_count": 10,
   "id": "54e329ef",
   "metadata": {},
   "outputs": [
    {
     "data": {
      "image/png": "[encoded data removed]",
      "text/plain": [
       "<Figure size 432x288 with 1 Axes>"
      ]
     },
     "metadata": {
      "needs_background": "light"
     },
     "output_type": "display_data"
    }
   ],
   "source": [
    "#create a grit of T_ends, and f_inj\n",
    "def create_flat_grid(x_range, y_range, num_x=100, num_y=100, log_x=False, log_y=False):\n",
    "    \"\"\"\n",
    "    Create flattened x and y arrays covering a 2D grid over the given ranges.\n",
    "\n",
    "    Parameters:\n",
    "    - x_range: tuple (xmin, xmax)\n",
    "    - y_range: tuple (ymin, ymax)\n",
    "    - num_x: number of grid points in x-direction\n",
    "    - num_y: number of grid points in y-direction\n",
    "    - log_x: whether to use log spacing for x (xmin and xmax must be > 0)\n",
    "    - log_y: whether to use log spacing for y (ymin and ymax must be > 0)\n",
    "\n",
    "    Returns:\n",
    "    - x_flat: 1D array of x-coordinates\n",
    "    - y_flat: 1D array of y-coordinates\n",
    "    \"\"\"\n",
    "    if log_x:\n",
    "        if x_range[0] <= 0 or x_range[1] <= 0:\n",
    "            raise ValueError(\"x_range values must be positive for log spacing.\")\n",
    "        x_vals = np.logspace(np.log10(x_range[0]), np.log10(x_range[1]), num_x)\n",
    "    else:\n",
    "        x_vals = np.linspace(x_range[0], x_range[1], num_x)\n",
    "\n",
    "    if log_y:\n",
    "        if y_range[0] <= 0 or y_range[1] <= 0:\n",
    "            raise ValueError(\"y_range values must be positive for log spacing.\")\n",
    "        y_vals = np.logspace(np.log10(y_range[0]), np.log10(y_range[1]), num_y)\n",
    "    else:\n",
    "        y_vals = np.linspace(y_range[0], y_range[1], num_y)\n",
    "\n",
    "    x_grid, y_grid = np.meshgrid(x_vals, y_vals)\n",
    "    return x_grid.ravel(), y_grid.ravel()\n",
    "\n",
    "\n",
    "T_ends, f_injs = create_flat_grid([0.1,10], [0,1], num_x=20, num_y=20, log_x = True, log_y = False)\n",
    "plt.scatter(T_ends,f_injs)\n",
    "plt.xscale('log')"
   ]
  },
  {
   "cell_type": "code",
   "execution_count": 11,
   "id": "1507d5ca",
   "metadata": {},
   "outputs": [],
   "source": [
    "#todo\n",
    "#need it to print out the input parameters, and then the new parameters\n",
    "#need two functions\n",
    "#   one will turn an x, y and n pts, and turn it into a flattened nxn grid of points (done)\n",
    "#The algorithm will go through every combination of points\n",
    "#it will try to take a step towards minimizing the gradient, if an error occurs then it will save the last chisq value\n",
    "#in a text file, f_inj, T_end, chisq, \"other params that are best fit\"\n",
    "\n",
    "#next todo\n",
    "#update grad algo to try to update and if not save the previous\n",
    "#then make a loop that applies it to every point on the grid.\n",
    "\n"
   ]
  },
  {
   "cell_type": "code",
   "execution_count": 12,
   "id": "f09fc2e4",
   "metadata": {},
   "outputs": [],
   "source": [
    "#create a file\n",
    "file_name = \"results_grad_descent.txt\"\n",
    "with open(file_name, \"w\") as f:\n",
    "    f.write(f\"T_end f_inj chisq alpha m0 max_iter\\n\")"
   ]
  },
  {
   "cell_type": "code",
   "execution_count": 13,
   "id": "4bf4018c",
   "metadata": {},
   "outputs": [
    {
     "name": "stdout",
     "output_type": "stream",
     "text": [
      "Initial parameters (alpha, m0):  [-0.81845905  5.43794592]\n",
      "Iter 1: params = [-0.71845905  5.53794592], chisq = 141420104128.002960\n",
      "Iter 1: params = [-0.61845905  5.63794592], chisq = 121495307985.469238\n"
     ]
    },
    {
     "ename": "KeyboardInterrupt",
     "evalue": "",
     "output_type": "error",
     "traceback": [
      "\u001b[0;31m---------------------------------------------------------------------------\u001b[0m",
      "\u001b[0;31mKeyboardInterrupt\u001b[0m                         Traceback (most recent call last)",
      "Input \u001b[0;32mIn [13]\u001b[0m, in \u001b[0;36m<cell line: 25>\u001b[0;34m()\u001b[0m\n\u001b[1;32m     30\u001b[0m \u001b[38;5;28;01mfor\u001b[39;00m m \u001b[38;5;129;01min\u001b[39;00m \u001b[38;5;28mrange\u001b[39m(max_iter):\n\u001b[1;32m     31\u001b[0m     \u001b[38;5;28;01mtry\u001b[39;00m:\n\u001b[0;32m---> 32\u001b[0m         params \u001b[38;5;241m=\u001b[39m \u001b[43madagrad_minimize\u001b[49m\u001b[43m(\u001b[49m\u001b[43mchi2_fn\u001b[49m\u001b[43m,\u001b[49m\u001b[43m \u001b[49m\u001b[43mparams\u001b[49m\u001b[43m,\u001b[49m\u001b[43m \u001b[49m\u001b[43mlr\u001b[49m\u001b[38;5;241;43m=\u001b[39;49m\u001b[38;5;241;43m0.1\u001b[39;49m\u001b[43m,\u001b[49m\u001b[43m \u001b[49m\u001b[43mepsilon\u001b[49m\u001b[38;5;241;43m=\u001b[39;49m\u001b[38;5;241;43m1e-4\u001b[39;49m\u001b[43m,\u001b[49m\u001b[43m \u001b[49m\u001b[43mmax_iters\u001b[49m\u001b[38;5;241;43m=\u001b[39;49m\u001b[38;5;241;43m1\u001b[39;49m\u001b[43m,\u001b[49m\u001b[43m \u001b[49m\u001b[43mtol\u001b[49m\u001b[38;5;241;43m=\u001b[39;49m\u001b[38;5;241;43m1e-6\u001b[39;49m\u001b[43m,\u001b[49m\u001b[43m \u001b[49m\u001b[43mverbose\u001b[49m\u001b[38;5;241;43m=\u001b[39;49m\u001b[38;5;28;43;01mTrue\u001b[39;49;00m\u001b[43m)\u001b[49m\n\u001b[1;32m     33\u001b[0m     \u001b[38;5;28;01mexcept\u001b[39;00m \u001b[38;5;167;01mValueError\u001b[39;00m \u001b[38;5;129;01mor\u001b[39;00m \u001b[38;5;167;01mIndexError\u001b[39;00m: \n\u001b[1;32m     34\u001b[0m         \u001b[38;5;66;03m#store the params when it encounters an error, i.e. minimize chisq as much as possible\u001b[39;00m\n\u001b[1;32m     35\u001b[0m         \u001b[38;5;28;01mwith\u001b[39;00m \u001b[38;5;28mopen\u001b[39m(file_name, \u001b[38;5;124m\"\u001b[39m\u001b[38;5;124ma\u001b[39m\u001b[38;5;124m\"\u001b[39m) \u001b[38;5;28;01mas\u001b[39;00m f:\n",
      "Input \u001b[0;32mIn [7]\u001b[0m, in \u001b[0;36madagrad_minimize\u001b[0;34m(chi2_fn, params_init, lr, epsilon, max_iters, tol, verbose)\u001b[0m\n\u001b[1;32m      4\u001b[0m G \u001b[38;5;241m=\u001b[39m np\u001b[38;5;241m.\u001b[39mzeros_like(params)\n\u001b[1;32m      6\u001b[0m \u001b[38;5;28;01mfor\u001b[39;00m t \u001b[38;5;129;01min\u001b[39;00m \u001b[38;5;28mrange\u001b[39m(\u001b[38;5;241m1\u001b[39m, max_iters \u001b[38;5;241m+\u001b[39m \u001b[38;5;241m1\u001b[39m):\n\u001b[0;32m----> 7\u001b[0m     grad \u001b[38;5;241m=\u001b[39m \u001b[43mgrad_chi2\u001b[49m\u001b[43m(\u001b[49m\u001b[43mchi2_fn\u001b[49m\u001b[43m,\u001b[49m\u001b[43m \u001b[49m\u001b[43mparams\u001b[49m\u001b[43m)\u001b[49m\n\u001b[1;32m      8\u001b[0m     G \u001b[38;5;241m+\u001b[39m\u001b[38;5;241m=\u001b[39m grad \u001b[38;5;241m*\u001b[39m\u001b[38;5;241m*\u001b[39m \u001b[38;5;241m2\u001b[39m\n\u001b[1;32m      9\u001b[0m     adjusted_grad \u001b[38;5;241m=\u001b[39m grad \u001b[38;5;241m/\u001b[39m (np\u001b[38;5;241m.\u001b[39msqrt(G) \u001b[38;5;241m+\u001b[39m epsilon)\n",
      "Input \u001b[0;32mIn [6]\u001b[0m, in \u001b[0;36mgrad_chi2\u001b[0;34m(chi2_fn, params, eps)\u001b[0m\n\u001b[1;32m     52\u001b[0m     dparams \u001b[38;5;241m=\u001b[39m np\u001b[38;5;241m.\u001b[39mzeros_like(params)\n\u001b[1;32m     53\u001b[0m     dparams[i] \u001b[38;5;241m=\u001b[39m eps\n\u001b[0;32m---> 54\u001b[0m     grad[i] \u001b[38;5;241m=\u001b[39m (chi2_fn(params \u001b[38;5;241m+\u001b[39m dparams) \u001b[38;5;241m-\u001b[39m \u001b[43mchi2_fn\u001b[49m\u001b[43m(\u001b[49m\u001b[43mparams\u001b[49m\u001b[43m \u001b[49m\u001b[38;5;241;43m-\u001b[39;49m\u001b[43m \u001b[49m\u001b[43mdparams\u001b[49m\u001b[43m)\u001b[49m) \u001b[38;5;241m/\u001b[39m (\u001b[38;5;241m2\u001b[39m \u001b[38;5;241m*\u001b[39m eps)\n\u001b[1;32m     55\u001b[0m \u001b[38;5;28;01mreturn\u001b[39;00m grad\n",
      "Input \u001b[0;32mIn [6]\u001b[0m, in \u001b[0;36mchi2_fn\u001b[0;34m(params)\u001b[0m\n\u001b[1;32m     18\u001b[0m PRyMini\u001b[38;5;241m.\u001b[39mstasis_params[\u001b[38;5;124m'\u001b[39m\u001b[38;5;124mN_SPECIES\u001b[39m\u001b[38;5;124m'\u001b[39m] \u001b[38;5;241m=\u001b[39m \u001b[38;5;241m25\u001b[39m\n\u001b[1;32m     20\u001b[0m \u001b[38;5;66;03m#calculate theoretical values\u001b[39;00m\n\u001b[0;32m---> 21\u001b[0m run \u001b[38;5;241m=\u001b[39m \u001b[43mtest_main\u001b[49m\u001b[38;5;241;43m.\u001b[39;49m\u001b[43mPRyMclass\u001b[49m\u001b[43m(\u001b[49m\u001b[43m)\u001b[49m\n\u001b[1;32m     22\u001b[0m results \u001b[38;5;241m=\u001b[39m run\u001b[38;5;241m.\u001b[39mPRyMresults()\n\u001b[1;32m     24\u001b[0m \u001b[38;5;66;03m##extract etab today\u001b[39;00m\n\u001b[1;32m     25\u001b[0m \u001b[38;5;66;03m#extract lowest temperature and corresponding radiation density \u001b[39;00m\n",
      "File \u001b[0;32m~/Desktop/Stasis/Stasis1/PRyM/test_main3.py:166\u001b[0m, in \u001b[0;36mPRyMclass.__init__\u001b[0;34m(self, my_rho_NP, my_p_NP, my_drho_NP_dT, my_delta_rho_NP, stasis_params)\u001b[0m\n\u001b[1;32m    156\u001b[0m     \u001b[38;5;28mself\u001b[39m\u001b[38;5;241m.\u001b[39mTnu_vec \u001b[38;5;241m=\u001b[39m sol_thermo_uMat[:,\u001b[38;5;241m1\u001b[39m]\n\u001b[1;32m    158\u001b[0m \u001b[38;5;28;01melse\u001b[39;00m:\n\u001b[1;32m    159\u001b[0m     \u001b[38;5;66;03m# sol_thermo = solve_ivp(self.dTtotdt,[tini,tfin],Tini_vec,t_eval=sol_thermo_sampling,method='LSODA',rtol=1.e-6,atol=1.e-9)\u001b[39;00m\n\u001b[1;32m    160\u001b[0m     \u001b[38;5;66;03m# sol_thermo = solve_ivp(self.dTtotdt,[tini,tfin],Tini_vec,t_eval=sol_thermo_sampling,method='BDF',rtol=1.e-6,atol=1.e-9)\u001b[39;00m\n\u001b[0;32m   (...)\u001b[0m\n\u001b[1;32m    164\u001b[0m \n\u001b[1;32m    165\u001b[0m     \u001b[38;5;66;03m# sol_thermo = solve_ivp(self.rhs,(tini, tfin),y0,t_eval=sol_thermo_sampling,method='LSODA',rtol=1.e-6,atol=1.e-9)\u001b[39;00m\n\u001b[0;32m--> 166\u001b[0m     sol_thermo \u001b[38;5;241m=\u001b[39m \u001b[43msolve_ivp\u001b[49m\u001b[43m(\u001b[49m\u001b[38;5;28;43mself\u001b[39;49m\u001b[38;5;241;43m.\u001b[39;49m\u001b[43mrhs\u001b[49m\u001b[43m,\u001b[49m\u001b[43m(\u001b[49m\u001b[43mtini\u001b[49m\u001b[43m,\u001b[49m\u001b[43m \u001b[49m\u001b[43mtfin\u001b[49m\u001b[43m)\u001b[49m\u001b[43m,\u001b[49m\u001b[43my0\u001b[49m\u001b[43m,\u001b[49m\u001b[43mt_eval\u001b[49m\u001b[38;5;241;43m=\u001b[39;49m\u001b[43msol_thermo_sampling\u001b[49m\u001b[43m,\u001b[49m\u001b[43mmethod\u001b[49m\u001b[38;5;241;43m=\u001b[39;49m\u001b[38;5;124;43m'\u001b[39;49m\u001b[38;5;124;43mBDF\u001b[39;49m\u001b[38;5;124;43m'\u001b[39;49m\u001b[43m,\u001b[49m\u001b[43mrtol\u001b[49m\u001b[38;5;241;43m=\u001b[39;49m\u001b[38;5;241;43m1.e-6\u001b[39;49m\u001b[43m,\u001b[49m\u001b[43matol\u001b[49m\u001b[38;5;241;43m=\u001b[39;49m\u001b[38;5;241;43m1.e-9\u001b[39;49m\u001b[43m)\u001b[49m\n\u001b[1;32m    169\u001b[0m     \u001b[38;5;66;03m# self.t_vec = sol_thermo.t\u001b[39;00m\n\u001b[1;32m    170\u001b[0m     \u001b[38;5;66;03m# self.Tg_vec = sol_thermo.y[0][:]\u001b[39;00m\n\u001b[1;32m    171\u001b[0m     \u001b[38;5;66;03m# self.Tnu_vec = sol_thermo.y[1][:]\u001b[39;00m\n\u001b[1;32m    172\u001b[0m     \u001b[38;5;28mself\u001b[39m\u001b[38;5;241m.\u001b[39mt_vec   \u001b[38;5;241m=\u001b[39m sol_thermo\u001b[38;5;241m.\u001b[39mt\n",
      "File \u001b[0;32m/opt/miniconda3/envs/forsee/lib/python3.10/site-packages/scipy/integrate/_ivp/ivp.py:580\u001b[0m, in \u001b[0;36msolve_ivp\u001b[0;34m(fun, t_span, y0, method, t_eval, dense_output, events, vectorized, args, **options)\u001b[0m\n\u001b[1;32m    578\u001b[0m status \u001b[38;5;241m=\u001b[39m \u001b[38;5;28;01mNone\u001b[39;00m\n\u001b[1;32m    579\u001b[0m \u001b[38;5;28;01mwhile\u001b[39;00m status \u001b[38;5;129;01mis\u001b[39;00m \u001b[38;5;28;01mNone\u001b[39;00m:\n\u001b[0;32m--> 580\u001b[0m     message \u001b[38;5;241m=\u001b[39m \u001b[43msolver\u001b[49m\u001b[38;5;241;43m.\u001b[39;49m\u001b[43mstep\u001b[49m\u001b[43m(\u001b[49m\u001b[43m)\u001b[49m\n\u001b[1;32m    582\u001b[0m     \u001b[38;5;28;01mif\u001b[39;00m solver\u001b[38;5;241m.\u001b[39mstatus \u001b[38;5;241m==\u001b[39m \u001b[38;5;124m'\u001b[39m\u001b[38;5;124mfinished\u001b[39m\u001b[38;5;124m'\u001b[39m:\n\u001b[1;32m    583\u001b[0m         status \u001b[38;5;241m=\u001b[39m \u001b[38;5;241m0\u001b[39m\n",
      "File \u001b[0;32m/opt/miniconda3/envs/forsee/lib/python3.10/site-packages/scipy/integrate/_ivp/base.py:181\u001b[0m, in \u001b[0;36mOdeSolver.step\u001b[0;34m(self)\u001b[0m\n\u001b[1;32m    179\u001b[0m \u001b[38;5;28;01melse\u001b[39;00m:\n\u001b[1;32m    180\u001b[0m     t \u001b[38;5;241m=\u001b[39m \u001b[38;5;28mself\u001b[39m\u001b[38;5;241m.\u001b[39mt\n\u001b[0;32m--> 181\u001b[0m     success, message \u001b[38;5;241m=\u001b[39m \u001b[38;5;28;43mself\u001b[39;49m\u001b[38;5;241;43m.\u001b[39;49m\u001b[43m_step_impl\u001b[49m\u001b[43m(\u001b[49m\u001b[43m)\u001b[49m\n\u001b[1;32m    183\u001b[0m     \u001b[38;5;28;01mif\u001b[39;00m \u001b[38;5;129;01mnot\u001b[39;00m success:\n\u001b[1;32m    184\u001b[0m         \u001b[38;5;28mself\u001b[39m\u001b[38;5;241m.\u001b[39mstatus \u001b[38;5;241m=\u001b[39m \u001b[38;5;124m'\u001b[39m\u001b[38;5;124mfailed\u001b[39m\u001b[38;5;124m'\u001b[39m\n",
      "File \u001b[0;32m/opt/miniconda3/envs/forsee/lib/python3.10/site-packages/scipy/integrate/_ivp/bdf.py:357\u001b[0m, in \u001b[0;36mBDF._step_impl\u001b[0;34m(self)\u001b[0m\n\u001b[1;32m    354\u001b[0m \u001b[38;5;28;01mif\u001b[39;00m LU \u001b[38;5;129;01mis\u001b[39;00m \u001b[38;5;28;01mNone\u001b[39;00m:\n\u001b[1;32m    355\u001b[0m     LU \u001b[38;5;241m=\u001b[39m \u001b[38;5;28mself\u001b[39m\u001b[38;5;241m.\u001b[39mlu(\u001b[38;5;28mself\u001b[39m\u001b[38;5;241m.\u001b[39mI \u001b[38;5;241m-\u001b[39m c \u001b[38;5;241m*\u001b[39m J)\n\u001b[0;32m--> 357\u001b[0m converged, n_iter, y_new, d \u001b[38;5;241m=\u001b[39m \u001b[43msolve_bdf_system\u001b[49m\u001b[43m(\u001b[49m\n\u001b[1;32m    358\u001b[0m \u001b[43m    \u001b[49m\u001b[38;5;28;43mself\u001b[39;49m\u001b[38;5;241;43m.\u001b[39;49m\u001b[43mfun\u001b[49m\u001b[43m,\u001b[49m\u001b[43m \u001b[49m\u001b[43mt_new\u001b[49m\u001b[43m,\u001b[49m\u001b[43m \u001b[49m\u001b[43my_predict\u001b[49m\u001b[43m,\u001b[49m\u001b[43m \u001b[49m\u001b[43mc\u001b[49m\u001b[43m,\u001b[49m\u001b[43m \u001b[49m\u001b[43mpsi\u001b[49m\u001b[43m,\u001b[49m\u001b[43m \u001b[49m\u001b[43mLU\u001b[49m\u001b[43m,\u001b[49m\u001b[43m \u001b[49m\u001b[38;5;28;43mself\u001b[39;49m\u001b[38;5;241;43m.\u001b[39;49m\u001b[43msolve_lu\u001b[49m\u001b[43m,\u001b[49m\n\u001b[1;32m    359\u001b[0m \u001b[43m    \u001b[49m\u001b[43mscale\u001b[49m\u001b[43m,\u001b[49m\u001b[43m \u001b[49m\u001b[38;5;28;43mself\u001b[39;49m\u001b[38;5;241;43m.\u001b[39;49m\u001b[43mnewton_tol\u001b[49m\u001b[43m)\u001b[49m\n\u001b[1;32m    361\u001b[0m \u001b[38;5;28;01mif\u001b[39;00m \u001b[38;5;129;01mnot\u001b[39;00m converged:\n\u001b[1;32m    362\u001b[0m     \u001b[38;5;28;01mif\u001b[39;00m current_jac:\n",
      "File \u001b[0;32m/opt/miniconda3/envs/forsee/lib/python3.10/site-packages/scipy/integrate/_ivp/bdf.py:43\u001b[0m, in \u001b[0;36msolve_bdf_system\u001b[0;34m(fun, t_new, y_predict, c, psi, LU, solve_lu, scale, tol)\u001b[0m\n\u001b[1;32m     41\u001b[0m converged \u001b[38;5;241m=\u001b[39m \u001b[38;5;28;01mFalse\u001b[39;00m\n\u001b[1;32m     42\u001b[0m \u001b[38;5;28;01mfor\u001b[39;00m k \u001b[38;5;129;01min\u001b[39;00m \u001b[38;5;28mrange\u001b[39m(NEWTON_MAXITER):\n\u001b[0;32m---> 43\u001b[0m     f \u001b[38;5;241m=\u001b[39m \u001b[43mfun\u001b[49m\u001b[43m(\u001b[49m\u001b[43mt_new\u001b[49m\u001b[43m,\u001b[49m\u001b[43m \u001b[49m\u001b[43my\u001b[49m\u001b[43m)\u001b[49m\n\u001b[1;32m     44\u001b[0m     \u001b[38;5;28;01mif\u001b[39;00m \u001b[38;5;129;01mnot\u001b[39;00m np\u001b[38;5;241m.\u001b[39mall(np\u001b[38;5;241m.\u001b[39misfinite(f)):\n\u001b[1;32m     45\u001b[0m         \u001b[38;5;28;01mbreak\u001b[39;00m\n",
      "File \u001b[0;32m/opt/miniconda3/envs/forsee/lib/python3.10/site-packages/scipy/integrate/_ivp/base.py:138\u001b[0m, in \u001b[0;36mOdeSolver.__init__.<locals>.fun\u001b[0;34m(t, y)\u001b[0m\n\u001b[1;32m    136\u001b[0m \u001b[38;5;28;01mdef\u001b[39;00m \u001b[38;5;21mfun\u001b[39m(t, y):\n\u001b[1;32m    137\u001b[0m     \u001b[38;5;28mself\u001b[39m\u001b[38;5;241m.\u001b[39mnfev \u001b[38;5;241m+\u001b[39m\u001b[38;5;241m=\u001b[39m \u001b[38;5;241m1\u001b[39m\n\u001b[0;32m--> 138\u001b[0m     \u001b[38;5;28;01mreturn\u001b[39;00m \u001b[38;5;28;43mself\u001b[39;49m\u001b[38;5;241;43m.\u001b[39;49m\u001b[43mfun_single\u001b[49m\u001b[43m(\u001b[49m\u001b[43mt\u001b[49m\u001b[43m,\u001b[49m\u001b[43m \u001b[49m\u001b[43my\u001b[49m\u001b[43m)\u001b[49m\n",
      "File \u001b[0;32m/opt/miniconda3/envs/forsee/lib/python3.10/site-packages/scipy/integrate/_ivp/base.py:20\u001b[0m, in \u001b[0;36mcheck_arguments.<locals>.fun_wrapped\u001b[0;34m(t, y)\u001b[0m\n\u001b[1;32m     19\u001b[0m \u001b[38;5;28;01mdef\u001b[39;00m \u001b[38;5;21mfun_wrapped\u001b[39m(t, y):\n\u001b[0;32m---> 20\u001b[0m     \u001b[38;5;28;01mreturn\u001b[39;00m np\u001b[38;5;241m.\u001b[39masarray(\u001b[43mfun\u001b[49m\u001b[43m(\u001b[49m\u001b[43mt\u001b[49m\u001b[43m,\u001b[49m\u001b[43m \u001b[49m\u001b[43my\u001b[49m\u001b[43m)\u001b[49m, dtype\u001b[38;5;241m=\u001b[39mdtype)\n",
      "File \u001b[0;32m~/Desktop/Stasis/Stasis1/PRyM/test_main3.py:971\u001b[0m, in \u001b[0;36mPRyMclass.rhs\u001b[0;34m(self, t, y, _last, _dtprint)\u001b[0m\n\u001b[1;32m    967\u001b[0m dchi_g \u001b[38;5;241m=\u001b[39m \u001b[38;5;241m-\u001b[39m\u001b[38;5;241m4.\u001b[39m\u001b[38;5;241m*\u001b[39mH \u001b[38;5;241m+\u001b[39m np\u001b[38;5;241m.\u001b[39msum(\u001b[38;5;28mself\u001b[39m\u001b[38;5;241m.\u001b[39mstasis[\u001b[38;5;124m\"\u001b[39m\u001b[38;5;124mGamma_ell_s\u001b[39m\u001b[38;5;124m\"\u001b[39m] \u001b[38;5;241m*\u001b[39m np\u001b[38;5;241m.\u001b[39mexp(chi_ell \u001b[38;5;241m-\u001b[39m chi_g))\n\u001b[1;32m    968\u001b[0m dNdt \u001b[38;5;241m=\u001b[39m H\n\u001b[1;32m    970\u001b[0m dTg, dTnu \u001b[38;5;241m=\u001b[39m (\n\u001b[0;32m--> 971\u001b[0m         \u001b[38;5;28;43mself\u001b[39;49m\u001b[38;5;241;43m.\u001b[39;49m\u001b[43mdTgdt\u001b[49m\u001b[43m(\u001b[49m\u001b[43mTg\u001b[49m\u001b[43m,\u001b[49m\u001b[43m \u001b[49m\u001b[43mTnu\u001b[49m\u001b[43m,\u001b[49m\u001b[43m \u001b[49m\u001b[43mTnu\u001b[49m\u001b[43m)\u001b[49m,\n\u001b[1;32m    972\u001b[0m         \u001b[38;5;28mself\u001b[39m\u001b[38;5;241m.\u001b[39mdTnudt(Tg, Tnu, Tnu),\n\u001b[1;32m    973\u001b[0m     )\n\u001b[1;32m    974\u001b[0m dTblock \u001b[38;5;241m=\u001b[39m (dTg, dTnu)\n\u001b[1;32m    976\u001b[0m \u001b[38;5;66;03m# concatenate and return\u001b[39;00m\n",
      "File \u001b[0;32m~/Desktop/Stasis/Stasis1/PRyM/test_main3.py:862\u001b[0m, in \u001b[0;36mPRyMclass.dTgdt\u001b[0;34m(self, Tg, Tnue, Tnumu, T_NP)\u001b[0m\n\u001b[1;32m    860\u001b[0m num \u001b[38;5;241m=\u001b[39m \u001b[38;5;241m-\u001b[39m(H\u001b[38;5;241m*\u001b[39m(\u001b[38;5;241m4.\u001b[39m\u001b[38;5;241m*\u001b[39mPRyMthermo\u001b[38;5;241m.\u001b[39mrho_g(Tg)\u001b[38;5;241m+\u001b[39m\u001b[38;5;241m3.\u001b[39m\u001b[38;5;241m*\u001b[39m(PRyMthermo\u001b[38;5;241m.\u001b[39mrho_e(Tg)\u001b[38;5;241m+\u001b[39mPRyMthermo\u001b[38;5;241m.\u001b[39mp_e(Tg))\u001b[38;5;241m+\u001b[39m\u001b[38;5;241m3.\u001b[39m\u001b[38;5;241m*\u001b[39mTg\u001b[38;5;241m*\u001b[39mPRyMthermo\u001b[38;5;241m.\u001b[39mdPdT(Tg)))\n\u001b[1;32m    861\u001b[0m \u001b[38;5;66;03m# Sum of collision terms must vanish\u001b[39;00m\n\u001b[0;32m--> 862\u001b[0m delta_rho_g \u001b[38;5;241m=\u001b[39m \u001b[38;5;241m-\u001b[39m(PRyMthermo\u001b[38;5;241m.\u001b[39mdelta_rho_nue(Tg,Tnue,Tnumu)\u001b[38;5;241m+\u001b[39m\u001b[38;5;241m2.\u001b[39m\u001b[38;5;241m*\u001b[39m\u001b[43mPRyMthermo\u001b[49m\u001b[38;5;241;43m.\u001b[39;49m\u001b[43mdelta_rho_numu\u001b[49m\u001b[43m(\u001b[49m\u001b[43mTg\u001b[49m\u001b[43m,\u001b[49m\u001b[43mTnue\u001b[49m\u001b[43m,\u001b[49m\u001b[43mTnumu\u001b[49m\u001b[43m)\u001b[49m)\n\u001b[1;32m    863\u001b[0m \u001b[38;5;28;01mif\u001b[39;00m(PRyMini\u001b[38;5;241m.\u001b[39mNP_thermo_flag):\n\u001b[1;32m    864\u001b[0m     delta_rho_g \u001b[38;5;241m-\u001b[39m\u001b[38;5;241m=\u001b[39m PRyMthermo\u001b[38;5;241m.\u001b[39mdelta_rho_NP(Tg,Tnue,Tnumu,T_NP) \u001b[38;5;66;03m# traceless collision operator\u001b[39;00m\n",
      "File \u001b[0;32m~/Desktop/Stasis/Stasis1/PRyM/PRyM_thermo.py:309\u001b[0m, in \u001b[0;36mdelta_rho_numu\u001b[0;34m(Tg, Tnue, Tnumu)\u001b[0m\n\u001b[1;32m    308\u001b[0m \u001b[38;5;28;01mdef\u001b[39;00m \u001b[38;5;21mdelta_rho_numu\u001b[39m(Tg,Tnue,Tnumu):\n\u001b[0;32m--> 309\u001b[0m     \u001b[38;5;28;01mreturn\u001b[39;00m PRyMini\u001b[38;5;241m.\u001b[39mMeV_to_secm1\u001b[38;5;241m*\u001b[39mPRyMini\u001b[38;5;241m.\u001b[39mGF\u001b[38;5;241m*\u001b[39m\u001b[38;5;241m*\u001b[39m\u001b[38;5;241m2\u001b[39m\u001b[38;5;241m/\u001b[39mnp\u001b[38;5;241m.\u001b[39mpi\u001b[38;5;241m*\u001b[39m\u001b[38;5;241m*\u001b[39m\u001b[38;5;241m5\u001b[39m\u001b[38;5;241m*\u001b[39m(\u001b[38;5;241m4.\u001b[39m\u001b[38;5;241m*\u001b[39m(PRyMini\u001b[38;5;241m.\u001b[39mgmuL\u001b[38;5;241m*\u001b[39m\u001b[38;5;241m*\u001b[39m\u001b[38;5;241m2\u001b[39m\u001b[38;5;241m+\u001b[39mPRyMini\u001b[38;5;241m.\u001b[39mgmuR\u001b[38;5;241m*\u001b[39m\u001b[38;5;241m*\u001b[39m\u001b[38;5;241m2\u001b[39m)\u001b[38;5;241m*\u001b[39m\u001b[43mf_nu_mu\u001b[49m\u001b[43m(\u001b[49m\u001b[43mTg\u001b[49m\u001b[43m,\u001b[49m\u001b[43mTnue\u001b[49m\u001b[43m)\u001b[49m\u001b[38;5;241m-\u001b[39mf_g(Tnumu,Tnue))\n",
      "File \u001b[0;32m~/Desktop/Stasis/Stasis1/PRyM/PRyM_thermo.py:299\u001b[0m, in \u001b[0;36mf_nu_mu\u001b[0;34m(T1, T2)\u001b[0m\n\u001b[1;32m    298\u001b[0m \u001b[38;5;28;01mdef\u001b[39;00m \u001b[38;5;21mf_nu_mu\u001b[39m(T1,T2):\n\u001b[0;32m--> 299\u001b[0m     res \u001b[38;5;241m=\u001b[39m \u001b[38;5;241m32.\u001b[39m\u001b[38;5;241m*\u001b[39mfannFD\u001b[38;5;241m*\u001b[39m(T1\u001b[38;5;241m*\u001b[39m\u001b[38;5;241m*\u001b[39m\u001b[38;5;241m9\u001b[39m\u001b[38;5;241m-\u001b[39mT2\u001b[38;5;241m*\u001b[39m\u001b[38;5;241m*\u001b[39m\u001b[38;5;241m9\u001b[39m)\u001b[38;5;241m*\u001b[39m\u001b[43mfnu_mu_ann\u001b[49m\u001b[43m(\u001b[49m\u001b[43mT1\u001b[49m\u001b[43m)\u001b[49m\u001b[38;5;241m+\u001b[39m\u001b[38;5;241m56.\u001b[39m\u001b[38;5;241m*\u001b[39mfscatFD\u001b[38;5;241m*\u001b[39mfnu_mu_scat(T1)\u001b[38;5;241m*\u001b[39mT1\u001b[38;5;241m*\u001b[39m\u001b[38;5;241m*\u001b[39m\u001b[38;5;241m4\u001b[39m\u001b[38;5;241m*\u001b[39mT2\u001b[38;5;241m*\u001b[39m\u001b[38;5;241m*\u001b[39m\u001b[38;5;241m4\u001b[39m\u001b[38;5;241m*\u001b[39m(T1\u001b[38;5;241m-\u001b[39mT2)\n\u001b[1;32m    300\u001b[0m     \u001b[38;5;28;01mreturn\u001b[39;00m res\n",
      "File \u001b[0;32m/opt/miniconda3/envs/forsee/lib/python3.10/site-packages/scipy/interpolate/_polyint.py:78\u001b[0m, in \u001b[0;36m_Interpolator1D.__call__\u001b[0;34m(self, x)\u001b[0m\n\u001b[1;32m     57\u001b[0m \u001b[38;5;124;03m\"\"\"\u001b[39;00m\n\u001b[1;32m     58\u001b[0m \u001b[38;5;124;03mEvaluate the interpolant\u001b[39;00m\n\u001b[1;32m     59\u001b[0m \n\u001b[0;32m   (...)\u001b[0m\n\u001b[1;32m     75\u001b[0m \n\u001b[1;32m     76\u001b[0m \u001b[38;5;124;03m\"\"\"\u001b[39;00m\n\u001b[1;32m     77\u001b[0m x, x_shape \u001b[38;5;241m=\u001b[39m \u001b[38;5;28mself\u001b[39m\u001b[38;5;241m.\u001b[39m_prepare_x(x)\n\u001b[0;32m---> 78\u001b[0m y \u001b[38;5;241m=\u001b[39m \u001b[38;5;28;43mself\u001b[39;49m\u001b[38;5;241;43m.\u001b[39;49m\u001b[43m_evaluate\u001b[49m\u001b[43m(\u001b[49m\u001b[43mx\u001b[49m\u001b[43m)\u001b[49m\n\u001b[1;32m     79\u001b[0m \u001b[38;5;28;01mreturn\u001b[39;00m \u001b[38;5;28mself\u001b[39m\u001b[38;5;241m.\u001b[39m_finish_y(y, x_shape)\n",
      "File \u001b[0;32m/opt/miniconda3/envs/forsee/lib/python3.10/site-packages/scipy/interpolate/_interpolate.py:693\u001b[0m, in \u001b[0;36minterp1d._evaluate\u001b[0;34m(self, x_new)\u001b[0m\n\u001b[1;32m    688\u001b[0m \u001b[38;5;28;01mdef\u001b[39;00m \u001b[38;5;21m_evaluate\u001b[39m(\u001b[38;5;28mself\u001b[39m, x_new):\n\u001b[1;32m    689\u001b[0m     \u001b[38;5;66;03m# 1. Handle values in x_new that are outside of x. Throw error,\u001b[39;00m\n\u001b[1;32m    690\u001b[0m     \u001b[38;5;66;03m#    or return a list of mask array indicating the outofbounds values.\u001b[39;00m\n\u001b[1;32m    691\u001b[0m     \u001b[38;5;66;03m#    The behavior is set by the bounds_error variable.\u001b[39;00m\n\u001b[1;32m    692\u001b[0m     x_new \u001b[38;5;241m=\u001b[39m asarray(x_new)\n\u001b[0;32m--> 693\u001b[0m     y_new \u001b[38;5;241m=\u001b[39m \u001b[38;5;28;43mself\u001b[39;49m\u001b[38;5;241;43m.\u001b[39;49m\u001b[43m_call\u001b[49m\u001b[43m(\u001b[49m\u001b[38;5;28;43mself\u001b[39;49m\u001b[43m,\u001b[49m\u001b[43m \u001b[49m\u001b[43mx_new\u001b[49m\u001b[43m)\u001b[49m\n\u001b[1;32m    694\u001b[0m     \u001b[38;5;28;01mif\u001b[39;00m \u001b[38;5;129;01mnot\u001b[39;00m \u001b[38;5;28mself\u001b[39m\u001b[38;5;241m.\u001b[39m_extrapolate:\n\u001b[1;32m    695\u001b[0m         below_bounds, above_bounds \u001b[38;5;241m=\u001b[39m \u001b[38;5;28mself\u001b[39m\u001b[38;5;241m.\u001b[39m_check_bounds(x_new)\n",
      "\u001b[0;31mKeyboardInterrupt\u001b[0m: "
     ]
    }
   ],
   "source": [
    "#implement the above\n",
    "\n",
    "#initialize random stasis parameters in the desired intervals\n",
    "gamma = 1\n",
    "delta = 1\n",
    "alpha = random.uniform(-1/delta,(gamma/2)-(1/delta))\n",
    "delm = random.uniform(1,10)\n",
    "m0 = delm\n",
    "fplas = random.uniform(0.1,1)\n",
    "f = 0.1\n",
    "Tend = random.uniform(0.1, 10)\n",
    "#Nspecies = int(random.randint(1, 20)) #old\n",
    "Nspecies = int(25)\n",
    "\n",
    "#eta0b\n",
    "PRyMini.eta0b = random.uniform(1e-11,1e-9 )\n",
    "\n",
    "#initialize params\n",
    "#params = [alpha, delm, fplas, Tend]    old\n",
    "params = [alpha, delm]\n",
    "params = np.array(params)\n",
    "print('Initial parameters (alpha, m0): ', params)\n",
    "\n",
    "max_iter = 20\n",
    "for n in range(len(T_ends)):\n",
    "    T_end_temp = T_ends[n]\n",
    "    f_injs_temp = f_injs[n]\n",
    "    PRyMini.stasis_params['plasma_inject_frac'] = f_injs_temp\n",
    "    PRyMini.stasis_params['stasis_end_mev'] = T_end_temp\n",
    "    for m in range(max_iter):\n",
    "        try:\n",
    "            params = adagrad_minimize(chi2_fn, params, lr=0.1, epsilon=1e-4, max_iters=1, tol=1e-6, verbose=True)\n",
    "        except ValueError or IndexError: \n",
    "            #store the params when it encounters an error, i.e. minimize chisq as much as possible\n",
    "            with open(file_name, \"a\") as f:\n",
    "                f.write(f\"{T_end_temp} {f_injs_temp} {chisq} {params[0]} {params[1]} {m}\\n\")\n",
    "            break\n"
   ]
  }
 ],
 "metadata": {
  "kernelspec": {
   "display_name": "forsee",
   "language": "python",
   "name": "python3"
  },
  "language_info": {
   "codemirror_mode": {
    "name": "ipython",
    "version": 3
   },
   "file_extension": ".py",
   "mimetype": "text/x-python",
   "name": "python",
   "nbconvert_exporter": "python",
   "pygments_lexer": "ipython3",
   "version": "3.10.4"
  }
 },
 "nbformat": 4,
 "nbformat_minor": 5
}
