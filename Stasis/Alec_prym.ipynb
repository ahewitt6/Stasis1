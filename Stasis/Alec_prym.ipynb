{
 "cells": [
  {
   "cell_type": "code",
   "execution_count": 9,
   "id": "87bf2d37",
   "metadata": {},
   "outputs": [],
   "source": [
    "import sys\n",
    "import os\n",
    "os.chdir('/Users/alechewitt/Desktop/Stasis/Stasis_prym')\n",
    "#sys.path.append('/Users/alechewitt/Desktop/Stasis/Stasis_prym')\n",
    "import PRyM.PRyM_init as PRyMini\n",
    "import PRyM.PRyM_main as PRyMmain\n",
    "import numpy as np"
   ]
  },
  {
   "cell_type": "code",
   "execution_count": 2,
   "id": "045350ad",
   "metadata": {},
   "outputs": [
    {
     "name": "stdout",
     "output_type": "stream",
     "text": [
      "6.708829999999999e-45\n"
     ]
    }
   ],
   "source": [
    "# New assignment x for parameter X \n",
    "#PRyMini.X = x\n",
    "#for example I can call or redefine GN by\n",
    "print(PRyMini.GN)"
   ]
  },
  {
   "cell_type": "code",
   "execution_count": 7,
   "id": "4b8b0cb7",
   "metadata": {},
   "outputs": [],
   "source": [
    "#commented out for speed!\n",
    "# Include incomplete decoupling in a(T) \n",
    "aTid_flag = True\n",
    "# Recompute the background from scratch \n",
    "PRyMini.compute_bckg_flag = True\n",
    "# Save the background in PRyMrates/thermo \n",
    "PRyMini.save_bckg_flag = True\n",
    "# Recompute n <--> p rates from scratch \n",
    "PRyMini.compute_nTOp_flag = True\n",
    "# Save n <--> p rates in PRyMrates/nTOp \n",
    "PRyMini.save_nTOp_flag = True\n",
    "# Include only key rates in nuclear network \n",
    "PRyMini.smallnet_flag = True\n",
    "# NACRE II compilation for key rates \n",
    "PRyMini.nacreii_flag = True\n",
    "# Compute PRyMordial observables\n",
    "res = PRyMmain.PRyMclass().PRyMresults()"
   ]
  },
  {
   "cell_type": "code",
   "execution_count": 8,
   "id": "723d041b",
   "metadata": {},
   "outputs": [
    {
     "data": {
      "text/plain": [
       "array([ 3.04438852,  5.69940717, 93.03360798,  0.24555173,  0.24687759,\n",
       "        2.45640041,  1.04196307,  5.48900995])"
      ]
     },
     "execution_count": 8,
     "metadata": {},
     "output_type": "execute_result"
    }
   ],
   "source": [
    "res"
   ]
  },
  {
   "cell_type": "code",
   "execution_count": null,
   "id": "4b22784d",
   "metadata": {},
   "outputs": [],
   "source": [
    "self.Neff_f,self.Omeganurel_f,self.OneOverOmeganunr_f,self.YPCMB_f,self.YPBBN_f,self.DoHx1e5_f,self.He3oHx1e5_f,self.Li7oHx1e10_f = [ 3.04438852,  5.69940717, 93.03360798,  0.24555173,  0.24687759,\n",
    "self.DoHx1e5_f,self.He3oHx1e5_f,self.Li7oHx1e10_f = 2.45640041,  1.04196307,  5.48900995]"
   ]
  },
  {
   "cell_type": "code",
   "execution_count": 11,
   "id": "8c7682eb",
   "metadata": {},
   "outputs": [],
   "source": [
    "#if computed already, this is even faster\n",
    "# No need to recompute background since stored \n",
    "PRyMini.compute_bckg_flag = True\n",
    "PRyMini.save_bckg_flag = False\n",
    "# No need to recompute n <--> p  rates as well\n",
    "PRyMini.compute_nTOp_flag = False \n",
    "PRyMini.save_nTOp_flag = False\n",
    "# Compute PRyMordial observables: now faster!\n",
    "res = PRyMmain.PRyMclass().PRyMresults()"
   ]
  },
  {
   "cell_type": "code",
   "execution_count": 5,
   "id": "308bc5a0",
   "metadata": {},
   "outputs": [
    {
     "data": {
      "text/plain": [
       "'npoints = 50\\netabvec = np.logspace(-10,-9,npoints)\\n# Initialization of array of observables\\nYP_vec, DoH_vec, He3oH_vec, Li7oH_vec = np.zeros((4,npoints)) \\nfor i in range(npoints):\\n    # Update value of baryon-to-photon ratio and store new obs\\n    PRyMini.eta0b = etabvec[i]\\n    YP_vec[i], DoH_vec[i], He3oH_vec[i], Li7oH_vec[i] =PRyMmain.PRyMclass().PRyMresults()[4:8]'"
      ]
     },
     "execution_count": 5,
     "metadata": {},
     "output_type": "execute_result"
    }
   ],
   "source": [
    "# PDG plot\n",
    "'''npoints = 50\n",
    "etabvec = np.logspace(-10,-9,npoints)\n",
    "# Initialization of array of observables\n",
    "YP_vec, DoH_vec, He3oH_vec, Li7oH_vec = np.zeros((4,npoints)) \n",
    "for i in range(npoints):\n",
    "    # Update value of baryon-to-photon ratio and store new obs\n",
    "    PRyMini.eta0b = etabvec[i]\n",
    "    YP_vec[i], DoH_vec[i], He3oH_vec[i], Li7oH_vec[i] =PRyMmain.PRyMclass().PRyMresults()[4:8]'''"
   ]
  },
  {
   "cell_type": "code",
   "execution_count": 6,
   "id": "3cddd715",
   "metadata": {},
   "outputs": [],
   "source": [
    "\n",
    "# SM MC run\n",
    "num_it = 10000 # number of iterations\n",
    "\n",
    "Yp_vec, YDoH_vec, YHe3oH_vec, YLi7oH_vec = np.zeros((4,num_it)) \n",
    "# Import PRyM modules\n",
    "# Baryon eta from Planck 18 (no BBN prior)\n",
    "mean_eta0b = PRyMini.eta0b\n",
    "std_Omegabh2 = 2*1.e-4\n",
    "std_eta0b = PRyMini.Omegabh2_to_eta0b*std_Omegabh2\n",
    "# Neutron lifetime from PDG 2023\n",
    "mean_tau_n = PRyMini.tau_n\n",
    "std_tau_n = 0.5"
   ]
  },
  {
   "cell_type": "code",
   "execution_count": 8,
   "id": "45d47af0",
   "metadata": {},
   "outputs": [
    {
     "ename": "NameError",
     "evalue": "name 'Yp_vec' is not defined",
     "output_type": "error",
     "traceback": [
      "\u001b[0;31m---------------------------------------------------------------------------\u001b[0m",
      "\u001b[0;31mNameError\u001b[0m                                 Traceback (most recent call last)",
      "Cell \u001b[0;32mIn[8], line 1\u001b[0m\n\u001b[0;32m----> 1\u001b[0m \u001b[43mYp_vec\u001b[49m\n",
      "\u001b[0;31mNameError\u001b[0m: name 'Yp_vec' is not defined"
     ]
    }
   ],
   "source": [
    "Yp_vec"
   ]
  },
  {
   "cell_type": "code",
   "execution_count": null,
   "id": "f4befcd8",
   "metadata": {},
   "outputs": [],
   "source": [
    "# Compute primordial abundances at each iteration\n",
    "def ComputeAbundances(i):\n",
    "    # Settings to speed up the SM MC \n",
    "    PRyMini.recompute_bckg = False\n",
    "    PRyMini.recompute_nTOp_rates = False\n",
    "    # Large network for nuclear rates \n",
    "    PRyMini.smallnet_flag = False\n",
    "    # Gaussian prior on baryon-to-photon ratio \n",
    "    PRyMini.eta0b = np.random.normal(mean_eta0b,std_eta0b) \n",
    "    # Gaussian prior on neutron lifetime\n",
    "    PRyMini.tau_n = np.random.normal(mean_tau_n,std_tau_n)\n",
    "    # Log-normal prior on nuclear rates \n",
    "    #PRyMini.p_npdg,PRyMini.p_dpHe3g,PRyMini.p_ddHe3n,\n",
    "    #... # for the sake of brevity not listing all 63 process\n",
    "    PRyMini.p_ppndp, PRyMini.p_Li7taann = np.random.normal(0,1,PRyMini.num_reactions) # NACRE II compilation for key rates\n",
    "    PRyMini.nacreii_flag = True\n",
    "    PRyMini.ReloadKeyRates()\n",
    "    return PRyMmain.PRyMclass().PRyMresults()[4:8]"
   ]
  }
 ],
 "metadata": {
  "kernelspec": {
   "display_name": "stasisvenv",
   "language": "python",
   "name": "python3"
  },
  "language_info": {
   "codemirror_mode": {
    "name": "ipython",
    "version": 3
   },
   "file_extension": ".py",
   "mimetype": "text/x-python",
   "name": "python",
   "nbconvert_exporter": "python",
   "pygments_lexer": "ipython3",
   "version": "3.8.5"
  }
 },
 "nbformat": 4,
 "nbformat_minor": 5
}
